{
 "cells": [
  {
   "cell_type": "code",
   "execution_count": 1,
   "metadata": {},
   "outputs": [],
   "source": [
    "# Imports\n",
    "\n",
    "# Environment\n",
    "from airlift.envs.airlift_env import AirliftEnv\n",
    "from airlift.envs import PlaneType\n",
    "from airlift.envs.generators.map_generators import PlainMapGenerator\n",
    "\n",
    "# Generators\n",
    "from airlift.envs.generators.world_generators import AirliftWorldGenerator\n",
    "from airlift.envs.generators.airport_generators import RandomAirportGenerator\n",
    "from airlift.envs.generators.route_generators import RouteByDistanceGenerator\n",
    "from airlift.envs.generators.airplane_generators import AirplaneGenerator\n",
    "from airlift.envs.generators.cargo_generators import StaticCargoGenerator\n",
    "\n",
    "# Dynamic events\n",
    "from airlift.envs.events.event_interval_generator import EventIntervalGenerator\n",
    "from airlift.envs.generators.cargo_generators import DynamicCargoGenerator\n",
    "\n",
    "# Solution\n",
    "from solution.mysolution import MySolution\n",
    "\n",
    "# Helper methods\n",
    "from airlift.solutions import doepisode\n",
    "from eval_solution import write_results\n",
    "from solution.models.v2.model_v2 import Policy, Value, get_config\n",
    "from solution.format_obs import format_obs\n",
    "from solution.post_process import post_process\n",
    "import torch\n",
    "import torch.nn as nn\n",
    "import random\n",
    "from torch.distributions import Categorical\n",
    "from tqdm import tqdm\n",
    "import networkx as nx"
   ]
  },
  {
   "cell_type": "code",
   "execution_count": 2,
   "metadata": {},
   "outputs": [],
   "source": [
    "# Scheduler\n",
    "\n",
    "class Scheduler:\n",
    "    def __init__(self, seed=0, num_episodes=1, ending_epsilon=0.2, starting_epsilon=1):\n",
    "        self.episode = 1\n",
    "        self.num_episodes = num_episodes\n",
    "        self.ending_epsilon = ending_epsilon\n",
    "        self.starting_epsilon = starting_epsilon\n",
    "    \n",
    "\n",
    "    def get_next_epsilon(self):\n",
    "        \"\"\"\n",
    "        Returns epsilon for this episode\n",
    "        Epsilon is scheduled quadratically, meaning the following\n",
    "            would be the epsilon values for 10 episodes with defaults\n",
    "             1: 0.992\n",
    "             2: 0.968\n",
    "             3: 0.928\n",
    "             4: 0.872\n",
    "             5: 0.800\n",
    "             6: 0.712\n",
    "             7: 0.608\n",
    "             8: 0.488\n",
    "             9: 0.352\n",
    "            10: 0.200\n",
    "        \"\"\"\n",
    "        return self.starting_epsilon - ((self.episode / self.num_episodes)**2)*\\\n",
    "            (self.starting_epsilon-self.ending_epsilon)\n",
    "\n",
    "\n",
    "    def small_env_with_purturbations(self, max_cycles=5000):\n",
    "        \"\"\"\n",
    "        Returns a preset environment\n",
    "        - 8 nodes\n",
    "        - 2 airplane\n",
    "        - purturbations present\n",
    "        \"\"\"\n",
    "\n",
    "        # Decide plane types\n",
    "        plane_types = [PlaneType(id=0, max_range=1.0, speed=0.05, max_weight=5)]\n",
    "\n",
    "        # Decide airport generator\n",
    "        airport_generator = RandomAirportGenerator(\n",
    "            max_airports=3,\n",
    "            make_drop_off_area=True,\n",
    "            make_pick_up_area=True,\n",
    "            num_drop_off_airports=1,\n",
    "            num_pick_up_airports=1,\n",
    "            mapgen=PlainMapGenerator(),\n",
    "        )\n",
    "\n",
    "        # Decide route generator\n",
    "        route_generator = RouteByDistanceGenerator(\n",
    "            route_ratio=2,\n",
    "            poisson_lambda=1/2,\n",
    "            malfunction_generator=EventIntervalGenerator(\n",
    "                                        min_duration=10,\n",
    "                                        max_duration=30),\n",
    "        )\n",
    "\n",
    "        # Decide cargo generator\n",
    "        cargo_generator = DynamicCargoGenerator(\n",
    "            cargo_creation_rate=1/100,\n",
    "            max_cargo_to_create=5,\n",
    "            num_initial_tasks=10,\n",
    "            max_weight=3,\n",
    "            max_stagger_steps=max_cycles/2,\n",
    "            soft_deadline_multiplier=10,\n",
    "            hard_deadline_multiplier=20,\n",
    "        )\n",
    "\n",
    "        # Decide the number of agents\n",
    "        num_agents = 2\n",
    "\n",
    "        # Create the environment\n",
    "        env = AirliftEnv(\n",
    "                world_generator=AirliftWorldGenerator(\n",
    "                plane_types=plane_types,\n",
    "                airport_generator=airport_generator,\n",
    "                route_generator=route_generator,\n",
    "                cargo_generator=cargo_generator,\n",
    "                airplane_generator=AirplaneGenerator(num_of_agents=num_agents),\n",
    "                max_cycles=max_cycles\n",
    "                ),\n",
    "            )\n",
    "        \n",
    "        return env\n",
    "\n",
    "\n",
    "    def hardest_env(self, max_cycles=5000):\n",
    "        \"\"\"\n",
    "        Returns a preset environment\n",
    "        - 8 nodes\n",
    "        - 2 airplane\n",
    "        - purturbations present\n",
    "        \"\"\"\n",
    "\n",
    "        num_agents = 244\n",
    "        plane_types = [\n",
    "            PlaneType(id=0, max_range=1.0, speed=0.05, max_weight=6),\n",
    "            PlaneType(id=1, max_range=1.0, speed=0.15, max_weight=2),\n",
    "        ]\n",
    "        num_airports = 122\n",
    "        num_initial_cargo = 732\n",
    "        max_cargo = 852\n",
    "        soft_deadline_multiplier = 5\n",
    "        hard_deadline_multiplier = 6\n",
    "        malfunction_min_duration = 12\n",
    "        malfunction_max_duration = 48\n",
    "        malfunction_rate = 0.18\n",
    "        \n",
    "\n",
    "        # Decide airport generator\n",
    "        airport_generator = RandomAirportGenerator(\n",
    "            max_airports=num_airports,\n",
    "            make_drop_off_area=True,\n",
    "            make_pick_up_area=True,\n",
    "            num_drop_off_airports=2,\n",
    "            num_pick_up_airports=2,\n",
    "            mapgen=PlainMapGenerator(),\n",
    "        )\n",
    "\n",
    "        # Decide route generator\n",
    "        route_generator = RouteByDistanceGenerator(\n",
    "            route_ratio=2,\n",
    "            poisson_lambda=malfunction_rate,\n",
    "            malfunction_generator=EventIntervalGenerator(\n",
    "                                        min_duration=malfunction_min_duration,\n",
    "                                        max_duration=malfunction_max_duration),\n",
    "        )\n",
    "\n",
    "        # Decide cargo generator\n",
    "        cargo_generator = DynamicCargoGenerator(\n",
    "            cargo_creation_rate=1/100,\n",
    "            max_cargo_to_create=max_cargo-num_initial_cargo,\n",
    "            num_initial_tasks=num_initial_cargo,\n",
    "            max_weight=3,\n",
    "            max_stagger_steps=max_cycles/2,\n",
    "            soft_deadline_multiplier=soft_deadline_multiplier,\n",
    "            hard_deadline_multiplier=hard_deadline_multiplier,\n",
    "        )\n",
    "\n",
    "        # Create the environment\n",
    "        env = AirliftEnv(\n",
    "                world_generator=AirliftWorldGenerator(\n",
    "                plane_types=plane_types,\n",
    "                airport_generator=airport_generator,\n",
    "                route_generator=route_generator,\n",
    "                cargo_generator=cargo_generator,\n",
    "                airplane_generator=AirplaneGenerator(num_of_agents=num_agents),\n",
    "                max_cycles=max_cycles\n",
    "                ),\n",
    "            )\n",
    "        \n",
    "        return env\n",
    "\n",
    "\n",
    "    def next(self):\n",
    "        \"\"\"\n",
    "        Returns the environment and epsilon for the next episode\n",
    "        \"\"\"\n",
    "        \n",
    "        # Decide environment type\n",
    "        env = self.small_env_with_purturbations()\n",
    "\n",
    "        self.episode += 1\n",
    "        return env"
   ]
  },
  {
   "cell_type": "code",
   "execution_count": 3,
   "metadata": {},
   "outputs": [],
   "source": [
    "# plane_reward_vector(), cargo_reward_vector()\n",
    "\n",
    "def plane_reward_vector(actions, obs):\n",
    "    \"\"\"\n",
    "    Returns the reward vector for the cargo & planes in the observation.\n",
    "    r_plane = -route_cost\n",
    "\n",
    "    Args:\n",
    "        actions (dict, dict): The actions for the timestep - plane_id: {\n",
    "            'priority': int\n",
    "            'cargo_to_load': list, int\n",
    "            'cargo_to_unload': list, int\n",
    "            'destination': int\n",
    "        }\n",
    "        obs (dict): The observation for the timestep\n",
    "    \n",
    "    Returns:\n",
    "        plane_reward_vector (list): The reward for each plane in the observation.\n",
    "    \"\"\"\n",
    "\n",
    "    plane_reward_vector = []\n",
    "    route_map = obs['a_0']['globalstate']['route_map'][0]\n",
    "    for plane_id, v in actions.items():\n",
    "        if v['destination'] != 0:\n",
    "            plane_reward_vector.append(-route_map.get_edge_data\\\n",
    "                    (obs[plane_id]['current_airport'], v['destination'])['cost'])\n",
    "        else:\n",
    "            plane_reward_vector.append(0)\n",
    "    \n",
    "    return plane_reward_vector\n",
    "\n",
    "\n",
    "def cargo_reward_vector(obs, t):\n",
    "    \"\"\"\n",
    "    Returns the reward vector for the cargo & planes in the observation.\n",
    "    r_cargo = {\n",
    "        0 if cargo is at the destination\n",
    "        max(0, t-soft_deadline) / (hard_deadline - soft_deadline) else if t < hard_deadline\n",
    "        1 else\n",
    "    }\n",
    "\n",
    "    Args:\n",
    "        obs (dict): The observation for the timestep\n",
    "        t (int): The current timestep\n",
    "    \n",
    "    Returns:\n",
    "        cargo_reward_vector (list): The reward for each cargo in the observation.\n",
    "        cargo_mapping_vector (list): The mapping of the cargo to the reward vector.\n",
    "    \"\"\"\n",
    "\n",
    "    cargo_reward_vector = []\n",
    "    cargo_mapping_vector = []\n",
    "    active_cargo = obs['a_0']['globalstate']['active_cargo']\n",
    "    on_a_plane = set()\n",
    "\n",
    "    for _, a in obs.items():\n",
    "        on_a_plane.update(a['cargo_onboard'])\n",
    "    \n",
    "    for c in active_cargo:\n",
    "\n",
    "        cargo_mapping_vector.append(c.id)\n",
    "\n",
    "        if (c.id not in on_a_plane) and ((c.destination == c.location) or (c.location == 0)):\n",
    "            cargo_reward_vector.append(0)\n",
    "        elif t < c.hard_deadline:\n",
    "            cargo_reward_vector.append(\n",
    "                max(0, t-c.soft_deadline) / (c.soft_deadline - c.hard_deadline))\n",
    "        else:\n",
    "            cargo_reward_vector.append(1)\n",
    "\n",
    "    return cargo_reward_vector, cargo_mapping_vector\n",
    "\n"
   ]
  },
  {
   "cell_type": "code",
   "execution_count": 4,
   "metadata": {},
   "outputs": [],
   "source": [
    "# heuristic_value()\n",
    "\n",
    "def heuristic_value(obs, f_obs, t, C_c=1, C_p=1, C_g=5, C_s=1.3, lambda_=0.99, prev_cargo=None):\n",
    "    \"\"\"\n",
    "    Returns the heuristic value for the given state:\n",
    "    -Sum[c](lambda^(deadline - t) * ((P_c - D_c)^2 + C_g*Grounded_c))\n",
    "    -Sum[c, p~S](C_p * (P_p - P_c)^2)*grounded\n",
    "\n",
    "    Attempted to scale like the reward structure for the environment.\n",
    "    Uses hard_deadline for cargo.\n",
    "    The airlift documentation says that the scaled flight cost is divided by totalcargo, but\n",
    "    I don't know what totalcargo is, so I'm using the total weight of the cargo.\n",
    "\n",
    "    Args:\n",
    "        obs: The observation\n",
    "        f_obs: The formatted observation\n",
    "        t: The current timestep\n",
    "        C_c: The cargo cost per unit distance\n",
    "        C_p: The plane cost per unit distance\n",
    "        C_g: The cost to load a cargo\n",
    "        C_s: The scaling factor\n",
    "        lambda_: The discount factor\n",
    "    \n",
    "    Returns:\n",
    "        value\n",
    "    \"\"\"\n",
    "\n",
    "    route_map = obs['a_0']['globalstate']['route_map'][0]\n",
    "    plane_dict = {}\n",
    "    for p in f_obs['agents']['agents']:\n",
    "        cap = p['max_weight'] - p['current_weight']\n",
    "        while cap>0:\n",
    "            if cap not in plane_dict:\n",
    "                plane_dict[cap] = []\n",
    "            plane_dict[cap].append((p['location'], p['max_weight']))\n",
    "            cap -= 1\n",
    "\n",
    "\n",
    "    cargo_cost = 0\n",
    "    plane_cost = 0\n",
    "    total_cargo = 0\n",
    "\n",
    "    for c in obs['a_0']['globalstate']['active_cargo']:\n",
    "\n",
    "        total_cargo += c.weight\n",
    "\n",
    "        # Sum[c](lambda^(deadline - t) * ((P_c - D_c)^2 + C_g*Grounded_c))\n",
    "        if c.location==0:\n",
    "            if prev_cargo is not None and c.id in prev_cargo:\n",
    "                x, y = prev_cargo[c.id]\n",
    "            else:\n",
    "                # print('Cargo not found')\n",
    "                # NOTE: This is hopefully a temporary fix, the id seems to not be in the prev_cargo very often\n",
    "                continue\n",
    "        else:\n",
    "            x, y = route_map.nodes[c.location]['pos']\n",
    "        dest_x, dest_y = route_map.nodes[c.destination]['pos']\n",
    "        grounded = 0 if c.id in f_obs['cargo']['cargo_on_a_plane'] else 1\n",
    "        cargo_cost += lambda_**(c.hard_deadline - t) * (((x-dest_x)**2 + (y-dest_y)**2)**(0.5) + C_g*grounded)\n",
    "\n",
    "        if grounded==1 and c.weight in plane_dict:\n",
    "            # Sum[c, p~S](C_p * (P_p - P_c)^2)*grounded\n",
    "            plane = random.choice(plane_dict[c.weight])\n",
    "            x_plane, y_plane = route_map.nodes[plane[0]]['pos']\n",
    "            plane_cost += (C_p * ((x_plane-x)**2 + (y_plane-y)**2)**(1/2)) / plane[1]\n",
    "        else:\n",
    "            plane = random.choice(f_obs['agents']['agents'])\n",
    "            plane_cost += C_p * (((x-dest_x)**2 + (y-dest_y)**2)**(0.5) + C_g*grounded) / plane['max_weight']\n",
    "\n",
    "\n",
    "    return (-cargo_cost - plane_cost/total_cargo)*C_s\n",
    "\n",
    "\n",
    "def create_prev_cargo(obs, prev_cargo=None):\n",
    "    prev_cargo = {}\n",
    "    for c in obs['a_0']['globalstate']['active_cargo']:\n",
    "        if c.location==0:\n",
    "            if prev_cargo is not None and c.id in prev_cargo:\n",
    "                x, y = prev_cargo[c.id]\n",
    "            else:\n",
    "                # print('Cargo not found')\n",
    "                continue\n",
    "        else:\n",
    "            x, y = obs['a_0']['globalstate']['route_map'][0].nodes[c.location]['pos']\n",
    "        prev_cargo[c.id] = (x, y)\n",
    "    return prev_cargo"
   ]
  },
  {
   "cell_type": "code",
   "execution_count": 5,
   "metadata": {},
   "outputs": [],
   "source": [
    "# calculate_advantages()\n",
    "\n",
    "def calculate_advantages(R, gamma=0.99, lam=0.95):\n",
    "    \"\"\"\n",
    "    Calculates the advantages for the given rewards and values.\n",
    "    Advantage = R_t + gamma**(len(R)-1-t)*V_T - V_t if V_t > V_heuristic\n",
    "                R_t + gamma**(len(R)-1-t)*V_h_t+1 - V_t if V_h_t <= V_heuristic\n",
    "\n",
    "    Args:\n",
    "        R (list, dict): The transition for each timestep {\n",
    "            't': t,\n",
    "            'plane_assignments': y['plane_assignments_mtx'],\n",
    "            'plane_distribution': y['plane_assignments_dist'],\n",
    "            'cargo_assignments': y['cargo_assignments_mtx'],\n",
    "            'cargo_distribution': y['cargo_assignments_dist'],\n",
    "            'plane_reward_vector': plane_reward_vector(actions, obs),\n",
    "            'agent_map': agent_map,\n",
    "            'cargo_map': cargo_map,\n",
    "            'value_estimation': v.forward(x),\n",
    "            'cargo_reward_vector': cargo_reward_vector(obs, t),\n",
    "            'cargo_mapping_vector': cargo_mapping_vector,\n",
    "        }\n",
    "        v (nn.Module): The state value estimator.\n",
    "        gamma (float): The discount factor.\n",
    "        lam (float): The GAE factor.\n",
    "    \n",
    "    Returns:\n",
    "        list: The advantages for each timestep.\n",
    "    \"\"\"\n",
    "\n",
    "    # Calculate Average Reward\n",
    "    num_cargo = 0\n",
    "    for r in R:\n",
    "        if r['cargo_mapping_vector'] != []:\n",
    "            num_cargo = max(num_cargo, max(r['cargo_mapping_vector']))\n",
    "    avg_reward_plane = sum([sum(r['plane_reward_vector']) for r in R])/\\\n",
    "        len(R[0]['plane_reward_vector'])\n",
    "    avg_reward_cargo = sum([sum(r['cargo_reward_vector']) for r in R])/\\\n",
    "        num_cargo\n",
    "    print(\"Average Reward Per Plane:\", avg_reward_plane)\n",
    "    print(\"Average Reward Per Cargo:\", avg_reward_cargo)\n",
    "\n",
    "\n",
    "    # Calculate discounted rewards\n",
    "    running_cargo_reward = [0]*(num_cargo+1)\n",
    "    running_plane_reward = [0]*len(R[0]['plane_reward_vector'])\n",
    "    for t in reversed(range(len(R))):\n",
    "\n",
    "        # Cargo\n",
    "        cargo_discounted_reward_vector = []\n",
    "        for i, rew in enumerate(R[t]['cargo_reward_vector']):\n",
    "            idx = R[t]['cargo_mapping_vector'][i]\n",
    "            running_cargo_reward[idx] = rew + gamma*running_cargo_reward[idx]\n",
    "            cargo_discounted_reward_vector.append(running_cargo_reward[idx])\n",
    "        R[t]['cargo_discounted_reward_vector'] = torch.tensor(cargo_discounted_reward_vector)\n",
    "\n",
    "        # Planes\n",
    "        plane_discounted_reward_vector = []\n",
    "        for i, rew in enumerate(R[t]['plane_reward_vector']):\n",
    "            running_plane_reward[i] = rew + gamma*running_plane_reward[i]\n",
    "            plane_discounted_reward_vector.append(running_plane_reward[i])\n",
    "        R[t]['plane_discounted_reward_vector'] = torch.tensor(plane_discounted_reward_vector)\n",
    "    \n",
    "    # Calculate advantages\n",
    "    total_adv = 0\n",
    "    for t in range(len(R)):\n",
    "        # sum the discounted rewards for the cargo and planes\n",
    "        cargo_rew_total = R[t]['cargo_discounted_reward_vector'].sum()\n",
    "        plane_rew_total = R[t]['plane_discounted_reward_vector'].sum()\n",
    "        rew = cargo_rew_total + plane_rew_total\n",
    "        value_estimation_t = R[t]['value_estimation']\n",
    "        value_estimation_T = R[-1]['value_estimation']\n",
    "        if t < len(R)-1:\n",
    "            adv = rew + (gamma**(len(R)-1-t))*value_estimation_T - value_estimation_t\n",
    "        else:\n",
    "            adv = rew - value_estimation_t\n",
    "        \n",
    "        R[t]['advantage'] = adv\n",
    "        total_adv += adv\n",
    "\n",
    "    # Normalize the advantages\n",
    "    mean_adv = total_adv / len(R)\n",
    "    std_adv = sum([(r['advantage']-mean_adv)**2 for r in R]) / len(R)\n",
    "    for r in R:\n",
    "        r['advantage'] = (r['advantage'] - mean_adv) / (std_adv + 1e-8)\n",
    "\n",
    "    \n",
    "    return R\n",
    "\n",
    "        "
   ]
  },
  {
   "cell_type": "code",
   "execution_count": 6,
   "metadata": {},
   "outputs": [],
   "source": [
    "# PPOLoss\n",
    "\n",
    "class PPOPolicyLoss(nn.Module):\n",
    "\n",
    "    def __init__(self):\n",
    "        super(PPOPolicyLoss, self).__init__()\n",
    "        self.running_loss = torch.tensor(0, dtype=torch.float32)\n",
    "        self.num_samples = torch.tensor(0, dtype=torch.float32)\n",
    "    \n",
    "    def reset_init(self):\n",
    "        self.running_loss = torch.tensor(0, dtype=torch.float32)\n",
    "        self.num_samples = torch.tensor(0, dtype=torch.float32)\n",
    "    \n",
    "    def add(self, log_prob_new, log_prob_old, advantage, clip=0.2):\n",
    "        ratio = torch.exp(log_prob_new - log_prob_old)\n",
    "        self.running_loss -= torch.squeeze(torch.sum(torch.min(ratio*advantage, torch.clamp(ratio, 1-clip, 1+clip)*advantage)))\n",
    "        self.num_samples += torch.tensor(1)\n",
    "    \n",
    "    def forward(self):\n",
    "        return self.running_loss / self.num_samples        \n",
    "\n",
    "\n",
    "class PPOValueLoss(nn.Module):\n",
    "\n",
    "    def __init__(self):\n",
    "        super(PPOValueLoss, self).__init__()\n",
    "        self.running_loss = torch.tensor(0, dtype=torch.float32)\n",
    "        self.num_samples = torch.tensor(0, dtype=torch.float32)\n",
    "    \n",
    "    def reset_init(self):\n",
    "        self.running_loss = torch.tensor(0, dtype=torch.float32)\n",
    "        self.num_samples = torch.tensor(0, dtype=torch.float32)\n",
    "    \n",
    "    def add(self, plane_rew_pred, cargo_rew_pred, plane_rew_actual, cargo_rew_actual):\n",
    "        self.running_loss += torch.squeeze(torch.sum(torch.square(plane_rew_pred - plane_rew_actual)))\n",
    "        self.running_loss += torch.squeeze(torch.sum(torch.square(cargo_rew_pred - cargo_rew_actual)))\n",
    "        self.num_samples += torch.tensor(1)\n",
    "    \n",
    "    def forward(self):\n",
    "        return self.running_loss / self.num_samples        \n"
   ]
  },
  {
   "cell_type": "code",
   "execution_count": 7,
   "metadata": {},
   "outputs": [],
   "source": [
    "# step()\n",
    "\n",
    "def step(pi, v, minibatch, train_model, optimizer_pi, optimizer_v, loss_pi, loss_v, clip=0.2):\n",
    "    \"\"\"\n",
    "    Updates the policy and value function parameters based on the minibatch.\n",
    "    Updates the policy, alternating between backpropogating from the plane assignments\n",
    "        head and the cargo assignments head. Then updates the value function.\n",
    "    Optimizes:\n",
    "        - L_pi = \n",
    "    \n",
    "    Args:\n",
    "        pi (nn.Module): The policy to adjust parameters for.\n",
    "        v (nn.Module): The state value estimator.\n",
    "        minibatch (list, dict): The minibatch of transitions {\n",
    "            't': t,\n",
    "            'obs': obs,\n",
    "            'plane_assignments': y['plane_assignments_mtx'],\n",
    "            'plane_distribution': y['plane_assignments_dist'],\n",
    "            'cargo_assignments': y['cargo_assignments_mtx'],\n",
    "            'cargo_distribution': y['cargo_assignments_dist'],\n",
    "            'plane_reward_vector': plane_reward_vector(actions, obs),\n",
    "            'agent_map': agent_map,\n",
    "            'cargo_map': cargo_map,\n",
    "            'value_estimation': v.forward(x),\n",
    "            'cargo_reward_vector': cargo_reward_vector(obs, t),\n",
    "            'cargo_mapping_vector': cargo_mapping_vector,\n",
    "            'cargo_discounted_reward_vector': cargo_discounted_reward_vector,\n",
    "            'plane_discounted_reward_vector': plane_discounted_reward_vector,\n",
    "            'advantage': advantage,\n",
    "        }\n",
    "        train_model (int {0, 1}): Which head to train. 0=plane, 1=cargo\n",
    "\n",
    "    Returns:\n",
    "        pi (nn.Module): The updated policy.\n",
    "        v (nn.Module): The updated value function.\n",
    "    \"\"\"\n",
    "\n",
    "    pi.requires_grad_(True)\n",
    "    v.requires_grad_(True)\n",
    "    loss_pi.reset_init()\n",
    "    loss_v.reset_init()\n",
    "\n",
    "    for sample in minibatch:\n",
    "\n",
    "        # If there are no cargo or planes, skip the sample\n",
    "        if sample['cargo_mapping_vector'] == [] or sample['plane_reward_vector'] == []:\n",
    "            print(\"No cargo or planes\")\n",
    "            continue\n",
    "\n",
    "        # Calculate the loss for the policy\n",
    "        r = pi(sample['x'])\n",
    "        if train_model == 0:\n",
    "            plane_assignments = torch.argmax(sample['plane_assignments'], dim=1)\n",
    "            log_prob_new = Categorical(r['plane_assignments_dist']).log_prob(plane_assignments)\n",
    "            log_prob_old = Categorical(sample['plane_distribution']).log_prob(plane_assignments)\n",
    "        else:\n",
    "            cargo_assignments = torch.argmax(sample['cargo_assignments'], dim=1)\n",
    "            log_prob_new = Categorical(r['cargo_assignments_dist']).log_prob(cargo_assignments)\n",
    "            log_prob_old = Categorical(sample['cargo_distribution']).log_prob(cargo_assignments)\n",
    "        loss_pi.add(log_prob_new, log_prob_old, sample['advantage'], clip=clip)\n",
    "\n",
    "        # Calculate the loss for the value function\n",
    "        r = v(sample['x'])\n",
    "        loss_v.add(r['plane_reward_vector'], r['cargo_reward_vector'],\n",
    "                   sample['plane_discounted_reward_vector'], sample['cargo_discounted_reward_vector'])\n",
    "\n",
    "    L_clip = loss_pi()\n",
    "    L_v = loss_v()\n",
    "\n",
    "    # Backpropogate and optimize the policy\n",
    "    optimizer_pi.zero_grad()\n",
    "    L_clip.backward(retain_graph=True)\n",
    "    optimizer_pi.step()\n",
    "\n",
    "    # Backpropogate and optimize the value function\n",
    "    optimizer_v.zero_grad()\n",
    "    L_v.backward()\n",
    "    optimizer_v.step()\n",
    "\n",
    "    return pi, v"
   ]
  },
  {
   "cell_type": "code",
   "execution_count": 8,
   "metadata": {},
   "outputs": [],
   "source": [
    "# average_edge_cost()\n",
    "\n",
    "def average_edge_cost(obs):\n",
    "    \"\"\"\n",
    "    Returns the average edge cost for the given observation per unit distance.\n",
    "    \"\"\"\n",
    "\n",
    "    route_map = obs['a_0']['globalstate']['route_map'][0]\n",
    "    total_cost = 0\n",
    "    total_distance = 0\n",
    "    for u, v, data in route_map.edges(data=True):\n",
    "        total_cost += data['cost']\n",
    "        x1, y1 = route_map.nodes[u]['pos']\n",
    "        x2, y2 = route_map.nodes[v]['pos']\n",
    "        total_distance += ((x1-x2)**2 + (y1-y2)**2)**(1/2)\n",
    "    \n",
    "    return total_cost / total_distance"
   ]
  },
  {
   "cell_type": "code",
   "execution_count": 29,
   "metadata": {},
   "outputs": [],
   "source": [
    "# PPO()\n",
    "\n",
    "def PPO(pi, v, max_cycles, seed, num_episodes, path, scheduler, loss_pi,\n",
    "        loss_v, num_updates, optimizer_pi, optimizer_v, batch_size=32):\n",
    "    \"\"\"\n",
    "    Pytorch implimentation of PPO\n",
    "    \"\"\"\n",
    "\n",
    "    random.seed(seed)\n",
    "    train_model = 0\n",
    "\n",
    "    for episode in range(num_episodes):\n",
    "        print('\\nStarting Episode', episode)\n",
    "\n",
    "        # Gather pi(s, a, g) & rewards\n",
    "        env = scheduler.next()\n",
    "        obs = env.reset(seed=seed)\n",
    "        avg_edge_cost = average_edge_cost(obs) * nx.diameter(obs['a_0']['globalstate']['route_map'][0])\n",
    "        R = []\n",
    "\n",
    "        # Run Episode\n",
    "        with torch.no_grad():\n",
    "            for t in tqdm(range(max_cycles)):\n",
    "\n",
    "                # Execute Timestep\n",
    "                x = format_obs(obs, t)\n",
    "                if x is None:\n",
    "                    continue\n",
    "                y = pi.forward(x)\n",
    "\n",
    "                # Create a map of agent and cargo ids\n",
    "                agent_map = []\n",
    "                for agent in x['agents']['agents']:\n",
    "                    agent_map.append(agent['id'])\n",
    "                agent_map.append(None)\n",
    "\n",
    "                cargo_map = []\n",
    "                for cargo in x['cargo']['cargo']:\n",
    "                    cargo_map.append(cargo['id'])\n",
    "\n",
    "                # Get actions\n",
    "                actions = post_process(x=x, y=y, agent_map=agent_map, cargo_map=cargo_map)\n",
    "\n",
    "                # Create transition (s, a, r) .. don't need the next state for PPO\n",
    "                transition = {\n",
    "                    't': t,\n",
    "                    'x': x,\n",
    "                    'plane_assignments': y['plane_assignments_mtx'],\n",
    "                    'plane_distribution': y['plane_assignments_dist'],\n",
    "                    'cargo_assignments': y['cargo_assignments_mtx'],\n",
    "                    'cargo_distribution': y['cargo_assignments_dist'],\n",
    "                    'plane_reward_vector': plane_reward_vector(actions, obs),\n",
    "                    'agent_map': agent_map,\n",
    "                    'cargo_map': cargo_map,\n",
    "                    'value_estimation': v.forward(x)['total_reward'].detach(),\n",
    "                    #'heuristic_value': heuristic_value(obs, x, t, C_p=avg_edge_cost, C_g=5, C_s=1.3, lambda_=0.99, prev_cargo=prev_cargo),\n",
    "                }\n",
    "                \n",
    "\n",
    "                # Step environment\n",
    "                obs, rews, dones, infos = env.step(actions=actions)\n",
    "                for k, val in rews.items():\n",
    "                    if val<-0.0005032:\n",
    "                        print(k, val)\n",
    "\n",
    "                # Add rewards to transition & transition to replay buffer\n",
    "                transition['cargo_reward_vector'], transition['cargo_mapping_vector'] =\\\n",
    "                    cargo_reward_vector(obs, t+1)\n",
    "\n",
    "                # # Print warnings\n",
    "                # if infos is not None:\n",
    "                #     for _, w in infos.items():\n",
    "                #         if w['warnings'] != []:\n",
    "                #             print(w['warnings'])\n",
    "                \n",
    "                # If done, then break\n",
    "                done = True\n",
    "                for _, d in dones.items():\n",
    "                    if not d:\n",
    "                        done = False\n",
    "                        break\n",
    "                if done:\n",
    "                    break\n",
    "\n",
    "                R.append(transition)\n",
    "            \n",
    "            # Calculate advantage estimates\n",
    "            print('Calculating Advantages')\n",
    "            R = calculate_advantages(R)\n",
    "                \n",
    "        # Update weights\n",
    "        print('Updating Weights')\n",
    "        \n",
    "        random.shuffle(R)\n",
    "        for epoch in range(num_updates):\n",
    "            if (epoch+1)*batch_size > len(R):\n",
    "                minibatch = R[-batch_size:-1]\n",
    "                random.shuffle(R)\n",
    "            else:\n",
    "                minibatch = R[epoch*batch_size:(epoch+1)*batch_size]\n",
    "            # NOTE: pi and v gradient tracking is off at this point\n",
    "            pi, v = step(pi=pi, v=v, minibatch=minibatch, train_model=train_model, optimizer_pi=optimizer_pi,\n",
    "                         optimizer_v=optimizer_v, loss_v=loss_v, loss_pi=loss_pi, clip=0.2)\n",
    "            train_model = 1-train_model\n",
    "        \n",
    "        # Save the models\n",
    "        save_path = path + '_episode_' + str(episode)\n",
    "        torch.save(pi.state_dict(), save_path + '_pi.pth')\n",
    "        torch.save(v.state_dict(), save_path + '_v.pth')\n",
    "        print('Saved models to', path)"
   ]
  },
  {
   "cell_type": "code",
   "execution_count": 30,
   "metadata": {},
   "outputs": [],
   "source": [
    "# # PPO()\n",
    "\n",
    "# class PPO:\n",
    "\n",
    "\n",
    "#     def __init__(self, seed):\n",
    "\n",
    "#         random.seed(seed)\n",
    "#         self.replay_buffer = []\n",
    "\n",
    "\n",
    "#     def collect_samples(timesteps_per_iteration=2000):\n",
    "\n",
    "#         # reset replay buffer\n",
    "\n",
    "#         while True:\n",
    "\n",
    "#             # if we need a new env, get one\n",
    "\n",
    "#             # run timestep\n",
    "\n",
    "#             # store transition\n",
    "\n",
    "#             timesteps_per_iteration -= 1\n",
    "#             if timesteps_per_iteration==0:\n",
    "#                 return\n",
    "\n",
    "\n",
    "#     def __call__(self):\n",
    "        \n",
    "#         # Collect timesteps_per_iteration samples"
   ]
  },
  {
   "cell_type": "markdown",
   "metadata": {},
   "source": [
    "# TODO:\n",
    "- Make the environment scheduler more random\n",
    "\n",
    "Notes:\n",
    "\n",
    "- select batch_size prioritized samples starting at the successful delivery of a cargo and work backwards..something at the edge of a threshold of value\n",
    "- replace heuristic value fucntion with a neural net trained on samples from a shortest path solution\n",
    "\n",
    "- Maybe we should mix up episodes so the model isn't trained on one graph for an entire epoch?\n",
    "        like, make multiple episodes per iteration, and shuffle all samples\n",
    "- Maybe train on multiple episodes at once to reduce a bias towards a single map\n",
    "\n",
    "Try different schedules to train it:\n",
    "- all environments difficult\n",
    "- start with small environments and get bigger and more disruptive"
   ]
  },
  {
   "cell_type": "code",
   "execution_count": 31,
   "metadata": {},
   "outputs": [],
   "source": [
    "# Setup\n",
    "\n",
    "# Parameters\n",
    "max_cycles = 5000\n",
    "seed = 2025\n",
    "num_episodes = 1000\n",
    "version = 'v2'\n",
    "path = 'solution/models/'+version+'/'+version\n",
    "num_updates = 10\n",
    "scheduler = Scheduler(seed=seed, num_episodes=num_episodes)\n",
    "learn_rate = 0.0001\n",
    "batch_size=1024\n",
    "\n",
    "# Initialize solution & critic\n",
    "policy_path = 'solution/models/'+version+'/policy_'+version+'_base.pth'\n",
    "value_path = 'solution/models/'+version+'/value_'+version+'_base.pth'\n",
    "pi = Policy(get_config('v1')['policy'])\n",
    "v = Value(get_config('v1')['value'])\n",
    "v.load_state_dict(torch.load(value_path))\n",
    "pi.load_state_dict(torch.load(policy_path))\n",
    "\n",
    "# Initialize optimizers & loss fns\n",
    "optimizer_pi = torch.optim.Adam(pi.parameters(), lr=learn_rate)\n",
    "optimizer_v = torch.optim.Adam(v.parameters(), lr=learn_rate)\n",
    "loss_pi = PPOPolicyLoss()\n",
    "loss_v = PPOValueLoss()"
   ]
  },
  {
   "cell_type": "code",
   "execution_count": 32,
   "metadata": {},
   "outputs": [
    {
     "name": "stdout",
     "output_type": "stream",
     "text": [
      "\n",
      "Starting Episode 0\n"
     ]
    },
    {
     "name": "stderr",
     "output_type": "stream",
     "text": [
      "  8%|▊         | 384/5000 [00:07<01:21, 56.93it/s]"
     ]
    },
    {
     "name": "stdout",
     "output_type": "stream",
     "text": [
      "a_0 -1.0004891\n",
      "a_1 -1.0004904\n",
      "a_0 -1\n",
      "a_1 -1.0004904\n",
      "a_0 -1\n",
      "a_1 -1.0004904\n",
      "a_0 -1\n",
      "a_1 -1.0004904\n",
      "a_0 -1\n",
      "a_1 -1\n",
      "a_0 -1\n",
      "a_1 -1\n",
      "a_0 -1\n",
      "a_1 -1\n",
      "a_0 -1\n",
      "a_1 -1\n",
      "a_0 -2\n",
      "a_1 -2\n",
      "a_0 -2\n",
      "a_1 -2\n",
      "a_0 -2\n",
      "a_1 -2\n",
      "a_0 -2\n",
      "a_1 -2\n"
     ]
    },
    {
     "name": "stderr",
     "output_type": "stream",
     "text": [
      "  8%|▊         | 396/5000 [00:07<01:26, 52.95it/s]"
     ]
    },
    {
     "name": "stdout",
     "output_type": "stream",
     "text": [
      "a_0 -2\n",
      "a_1 -2\n",
      "a_0 -2\n",
      "a_1 -2\n",
      "a_0 -2\n",
      "a_1 -2\n",
      "a_0 -2\n",
      "a_1 -2\n",
      "a_0 -2\n",
      "a_1 -2\n",
      "a_0 -2\n",
      "a_1 -2\n",
      "a_0 -2.0004891000000002\n",
      "a_1 -2\n",
      "a_0 -2.0004891000000002\n",
      "a_1 -2\n",
      "a_0 -2.0004891000000002\n",
      "a_1 -2.0004891000000002\n",
      "a_0 -2.0004891000000002\n",
      "a_1 -2.0004891000000002\n"
     ]
    },
    {
     "name": "stderr",
     "output_type": "stream",
     "text": [
      "  8%|▊         | 408/5000 [00:07<01:27, 52.74it/s]"
     ]
    },
    {
     "name": "stdout",
     "output_type": "stream",
     "text": [
      "a_0 -2.0004891000000002\n",
      "a_1 -2.0004891000000002\n",
      "a_0 -2.0004891000000002\n",
      "a_1 -2.0004891000000002\n",
      "a_0 -2.0004891000000002\n",
      "a_1 -2.0004891000000002\n",
      "a_0 -3.0004891000000002\n",
      "a_1 -3.0004891000000002\n",
      "a_0 -3.0004891000000002\n",
      "a_1 -3.0004891000000002\n",
      "a_0 -3.0004891000000002\n",
      "a_1 -3.0004891000000002\n",
      "a_0 -3.0004891000000002\n",
      "a_1 -3.0004891000000002\n",
      "a_0 -3\n",
      "a_1 -3.0004891000000002\n",
      "a_0 -3\n",
      "a_1 -3.0004891000000002\n",
      "a_0 -3\n",
      "a_1 -3\n",
      "a_0 -3\n",
      "a_1 -3\n"
     ]
    },
    {
     "name": "stderr",
     "output_type": "stream",
     "text": [
      "  8%|▊         | 414/5000 [00:07<01:26, 53.28it/s]"
     ]
    },
    {
     "name": "stdout",
     "output_type": "stream",
     "text": [
      "a_0 -3\n",
      "a_1 -3\n",
      "a_0 -3\n",
      "a_1 -3\n",
      "a_0 -3\n",
      "a_1 -3\n",
      "a_0 -3\n",
      "a_1 -3\n",
      "a_0 -3\n",
      "a_1 -3\n",
      "a_0 -4\n",
      "a_1 -4\n",
      "a_0 -4\n",
      "a_1 -4\n",
      "a_0 -4\n",
      "a_1 -4\n",
      "a_0 -4\n",
      "a_1 -4\n",
      "a_0 -4\n",
      "a_1 -4\n"
     ]
    },
    {
     "name": "stderr",
     "output_type": "stream",
     "text": [
      "  9%|▊         | 426/5000 [00:07<01:29, 51.26it/s]"
     ]
    },
    {
     "name": "stdout",
     "output_type": "stream",
     "text": [
      "a_0 -4\n",
      "a_1 -4\n",
      "a_0 -4\n",
      "a_1 -4\n",
      "a_0 -4\n",
      "a_1 -4\n",
      "a_0 -4\n",
      "a_1 -4\n",
      "a_0 -4\n",
      "a_1 -4\n",
      "a_0 -4\n",
      "a_1 -4\n",
      "a_0 -4\n",
      "a_1 -4\n",
      "a_0 -4\n",
      "a_1 -4\n",
      "a_0 -4\n",
      "a_1 -4\n",
      "a_0 -4.0004891\n",
      "a_1 -4\n",
      "a_0 -4.0004891\n",
      "a_1 -4.0004891\n"
     ]
    },
    {
     "name": "stderr",
     "output_type": "stream",
     "text": [
      "  9%|▉         | 438/5000 [00:08<01:26, 52.87it/s]"
     ]
    },
    {
     "name": "stdout",
     "output_type": "stream",
     "text": [
      "a_0 -4.0004891\n",
      "a_1 -4.0004891\n",
      "a_0 -4.0004891\n",
      "a_1 -4.0004891\n",
      "a_0 -4.0004891\n",
      "a_1 -4.0004891\n",
      "a_0 -4.0004891\n",
      "a_1 -4.0004891\n",
      "a_0 -4.0004891\n",
      "a_1 -4.0004891\n",
      "a_0 -4.0004891\n",
      "a_1 -4.0004891\n",
      "a_0 -4.0004891\n",
      "a_1 -4.0004891\n",
      "a_0 -4.0004891\n",
      "a_1 -4.0004891\n",
      "a_0 -4.0004891\n",
      "a_1 -4.0004891\n",
      "a_0 -4\n",
      "a_1 -4.0004891\n",
      "a_0 -4\n",
      "a_1 -4\n"
     ]
    },
    {
     "name": "stderr",
     "output_type": "stream",
     "text": [
      "  9%|▉         | 450/5000 [00:08<01:24, 53.98it/s]"
     ]
    },
    {
     "name": "stdout",
     "output_type": "stream",
     "text": [
      "a_0 -4\n",
      "a_1 -4\n",
      "a_0 -4.0004891\n",
      "a_1 -4\n",
      "a_0 -4.0004891\n",
      "a_1 -4.0004891\n",
      "a_0 -4.0004891\n",
      "a_1 -4.0004891\n",
      "a_0 -4.0004891\n",
      "a_1 -4.0004891\n",
      "a_0 -4.0004891\n",
      "a_1 -4.0004891\n",
      "a_0 -4.0004891\n",
      "a_1 -4.0004891\n",
      "a_0 -4.0004891\n",
      "a_1 -4.0004891\n",
      "a_0 -4.0004891\n",
      "a_1 -4.0004891\n",
      "a_0 -4.0004891\n",
      "a_1 -4.0004891\n",
      "a_0 -4.0004891\n",
      "a_1 -4.0004891\n"
     ]
    },
    {
     "name": "stderr",
     "output_type": "stream",
     "text": [
      "  9%|▉         | 462/5000 [00:08<01:26, 52.21it/s]"
     ]
    },
    {
     "name": "stdout",
     "output_type": "stream",
     "text": [
      "a_0 -4.0004891\n",
      "a_1 -4.0004891\n",
      "a_0 -4\n",
      "a_1 -4.0004891\n",
      "a_0 -5\n",
      "a_1 -5\n",
      "a_0 -6\n",
      "a_1 -6\n",
      "a_0 -6.0004891\n",
      "a_1 -6\n",
      "a_0 -6.0004891\n",
      "a_1 -6\n",
      "a_0 -6.0004891\n",
      "a_1 -6.0004891\n",
      "a_0 -6.0004891\n",
      "a_1 -6.0004891\n",
      "a_0 -6.0004891\n",
      "a_1 -6.0004891\n",
      "a_0 -6.0004891\n",
      "a_1 -6.0004891\n",
      "a_0 -6.0004891\n",
      "a_1 -6.0004891\n"
     ]
    },
    {
     "name": "stderr",
     "output_type": "stream",
     "text": [
      "  9%|▉         | 468/5000 [00:08<01:31, 49.73it/s]"
     ]
    },
    {
     "name": "stdout",
     "output_type": "stream",
     "text": [
      "a_0 -6.0004891\n",
      "a_1 -6.0004891\n",
      "a_0 -6.0004891\n",
      "a_1 -6.0004891\n",
      "a_0 -6.0004891\n",
      "a_1 -6.0004891\n",
      "a_0 -6.0004891\n",
      "a_1 -6.0004891\n",
      "a_0 -6\n",
      "a_1 -6.0004891\n",
      "a_0 -6\n",
      "a_1 -6.0004891\n",
      "a_0 -6\n",
      "a_1 -6\n",
      "a_0 -6.0004904\n",
      "a_1 -6\n",
      "a_0 -6.0004904\n",
      "a_1 -6\n",
      "a_0 -6.0004904\n",
      "a_1 -6\n"
     ]
    },
    {
     "name": "stderr",
     "output_type": "stream",
     "text": [
      " 10%|▉         | 480/5000 [00:08<01:28, 51.05it/s]"
     ]
    },
    {
     "name": "stdout",
     "output_type": "stream",
     "text": [
      "a_0 -6.0004904\n",
      "a_1 -6\n",
      "a_0 -6.0004904\n",
      "a_1 -6\n",
      "a_0 -6.0004904\n",
      "a_1 -6.0004904\n",
      "a_0 -6.0004904\n",
      "a_1 -6.0004904\n",
      "a_0 -6.0004904\n",
      "a_1 -6.0004904\n",
      "a_0 -6.0004904\n",
      "a_1 -6.0004904\n",
      "a_0 -6.0004904\n",
      "a_1 -6.0004904\n",
      "a_0 -6.0004904\n",
      "a_1 -6.0004904\n",
      "a_0 -6.0004904\n",
      "a_1 -6.0004904\n",
      "a_0 -6.0004904\n",
      "a_1 -6.0004904\n",
      "a_0 -6.0004904\n",
      "a_1 -6.0004904\n"
     ]
    },
    {
     "name": "stderr",
     "output_type": "stream",
     "text": [
      " 10%|▉         | 492/5000 [00:09<01:26, 52.03it/s]"
     ]
    },
    {
     "name": "stdout",
     "output_type": "stream",
     "text": [
      "a_0 -6\n",
      "a_1 -6.0004904\n",
      "a_0 -6\n",
      "a_1 -6.0004904\n",
      "a_0 -6\n",
      "a_1 -6.0004904\n",
      "a_0 -6\n",
      "a_1 -6.0004904\n",
      "a_0 -6\n",
      "a_1 -6.0004904\n",
      "a_0 -6\n",
      "a_1 -6\n",
      "a_0 -6\n",
      "a_1 -6\n",
      "a_0 -6\n",
      "a_1 -6\n",
      "a_0 -6\n",
      "a_1 -6\n",
      "a_0 -6\n",
      "a_1 -6\n",
      "a_0 -6\n",
      "a_1 -6\n"
     ]
    },
    {
     "name": "stderr",
     "output_type": "stream",
     "text": [
      " 10%|▉         | 498/5000 [00:09<01:27, 51.56it/s]"
     ]
    },
    {
     "name": "stdout",
     "output_type": "stream",
     "text": [
      "a_0 -6\n",
      "a_1 -6\n",
      "a_0 -6\n",
      "a_1 -6\n",
      "a_0 -6\n",
      "a_1 -6\n",
      "a_0 -6\n",
      "a_1 -6\n",
      "a_0 -6\n",
      "a_1 -6\n",
      "a_0 -6\n",
      "a_1 -6\n",
      "a_0 -6\n",
      "a_1 -6\n",
      "a_0 -6\n",
      "a_1 -6\n",
      "a_0 -6\n",
      "a_1 -6\n",
      "a_0 -6\n",
      "a_1 -6\n"
     ]
    },
    {
     "name": "stderr",
     "output_type": "stream",
     "text": [
      " 10%|█         | 510/5000 [00:09<01:30, 49.35it/s]"
     ]
    },
    {
     "name": "stdout",
     "output_type": "stream",
     "text": [
      "a_0 -6\n",
      "a_1 -6\n",
      "a_0 -6.0004031\n",
      "a_1 -6\n",
      "a_0 -6.0004031\n",
      "a_1 -6\n",
      "a_0 -6.0004031\n",
      "a_1 -6.0004031\n",
      "a_0 -6.0004031\n",
      "a_1 -6.0004031\n",
      "a_0 -6.0004031\n",
      "a_1 -6.0004031\n",
      "a_0 -6\n",
      "a_1 -6.0004031\n",
      "a_0 -6\n",
      "a_1 -6.0004031\n",
      "a_0 -6\n",
      "a_1 -6\n",
      "a_0 -6\n",
      "a_1 -6\n",
      "a_0 -6.0004031\n",
      "a_1 -6\n"
     ]
    },
    {
     "name": "stderr",
     "output_type": "stream",
     "text": [
      " 10%|█         | 522/5000 [00:09<01:27, 50.93it/s]"
     ]
    },
    {
     "name": "stdout",
     "output_type": "stream",
     "text": [
      "a_0 -6.0004031\n",
      "a_1 -6\n",
      "a_0 -6.0004031\n",
      "a_1 -6.0004031\n",
      "a_0 -6.0004031\n",
      "a_1 -6.0004031\n",
      "a_0 -6.0004031\n",
      "a_1 -6.0004031\n",
      "a_0 -6\n",
      "a_1 -6.0004031\n",
      "a_0 -6\n",
      "a_1 -6.0004031\n",
      "a_0 -6\n",
      "a_1 -6\n",
      "a_0 -6\n",
      "a_1 -6\n",
      "a_0 -6\n",
      "a_1 -6\n",
      "a_0 -6\n",
      "a_1 -6\n",
      "a_0 -6\n",
      "a_1 -6\n"
     ]
    },
    {
     "name": "stderr",
     "output_type": "stream",
     "text": [
      " 11%|█         | 534/5000 [00:09<01:27, 51.09it/s]"
     ]
    },
    {
     "name": "stdout",
     "output_type": "stream",
     "text": [
      "a_0 -6\n",
      "a_1 -6\n",
      "a_0 -6\n",
      "a_1 -6\n",
      "a_0 -6\n",
      "a_1 -6\n",
      "a_0 -6\n",
      "a_1 -6\n",
      "a_0 -6\n",
      "a_1 -6\n",
      "a_0 -6\n",
      "a_1 -6\n",
      "a_0 -6\n",
      "a_1 -6\n",
      "a_0 -6\n",
      "a_1 -6\n",
      "a_0 -6\n",
      "a_1 -6\n",
      "a_0 -6\n",
      "a_1 -6\n",
      "a_0 -6\n",
      "a_1 -6\n"
     ]
    },
    {
     "name": "stderr",
     "output_type": "stream",
     "text": [
      " 11%|█         | 546/5000 [00:10<01:26, 51.49it/s]"
     ]
    },
    {
     "name": "stdout",
     "output_type": "stream",
     "text": [
      "a_0 -6\n",
      "a_1 -6\n",
      "a_0 -6\n",
      "a_1 -6\n",
      "a_0 -6\n",
      "a_1 -6\n",
      "a_0 -6\n",
      "a_1 -6\n",
      "a_0 -6\n",
      "a_1 -6\n",
      "a_0 -6\n",
      "a_1 -6\n",
      "a_0 -6\n",
      "a_1 -6.0004031\n",
      "a_0 -6\n",
      "a_1 -6.0004031\n",
      "a_0 -6\n",
      "a_1 -6.0004031\n",
      "a_0 -6.0004904\n",
      "a_1 -6.0004031\n",
      "a_0 -6.0004904\n",
      "a_1 -6.0004031\n"
     ]
    },
    {
     "name": "stderr",
     "output_type": "stream",
     "text": [
      " 11%|█         | 558/5000 [00:10<01:24, 52.43it/s]"
     ]
    },
    {
     "name": "stdout",
     "output_type": "stream",
     "text": [
      "a_0 -6.0004904\n",
      "a_1 -6\n",
      "a_0 -6.0004904\n",
      "a_1 -6\n",
      "a_0 -6.0004904\n",
      "a_1 -6\n",
      "a_0 -6.0004904\n",
      "a_1 -6\n",
      "a_0 -6.0004904\n",
      "a_1 -6\n",
      "a_0 -6.0004904\n",
      "a_1 -6\n",
      "a_0 -6.0004904\n",
      "a_1 -6\n",
      "a_0 -6.0004904\n",
      "a_1 -6\n",
      "a_0 -6.0004904\n",
      "a_1 -6\n",
      "a_0 -6.0004904\n",
      "a_1 -6\n",
      "a_0 -6.0004904\n",
      "a_1 -6\n"
     ]
    },
    {
     "name": "stderr",
     "output_type": "stream",
     "text": [
      " 11%|█▏        | 570/5000 [00:10<01:23, 53.10it/s]"
     ]
    },
    {
     "name": "stdout",
     "output_type": "stream",
     "text": [
      "a_0 -6.0004904\n",
      "a_1 -6\n",
      "a_0 -6\n",
      "a_1 -6\n",
      "a_0 -6\n",
      "a_1 -6\n",
      "a_0 -6\n",
      "a_1 -6\n",
      "a_0 -6.0004891\n",
      "a_1 -6.0004891\n",
      "a_0 -6.0004891\n",
      "a_1 -6.0004891\n",
      "a_0 -6.0004891\n",
      "a_1 -6.0004891\n",
      "a_0 -6.0004891\n",
      "a_1 -6.0004891\n",
      "a_0 -6.0004891\n",
      "a_1 -6.0004891\n",
      "a_0 -6.0004891\n",
      "a_1 -6.0004891\n",
      "a_0 -6.0004891\n",
      "a_1 -6.0004891\n"
     ]
    },
    {
     "name": "stderr",
     "output_type": "stream",
     "text": [
      " 12%|█▏        | 576/5000 [00:10<01:23, 53.16it/s]"
     ]
    },
    {
     "name": "stdout",
     "output_type": "stream",
     "text": [
      "a_0 -6.0004891\n",
      "a_1 -6.0004891\n",
      "a_0 -6.0004891\n",
      "a_1 -6.0004891\n",
      "a_0 -6.0004891\n",
      "a_1 -6.0004891\n",
      "a_0 -6.0004891\n",
      "a_1 -6.0004891\n",
      "a_0 -6\n",
      "a_1 -6\n",
      "a_0 -6\n",
      "a_1 -6\n",
      "a_0 -6\n",
      "a_1 -6\n",
      "a_0 -6\n",
      "a_1 -6.0004904\n",
      "a_0 -6\n",
      "a_1 -6.0004904\n",
      "a_0 -6\n",
      "a_1 -6.0004904\n",
      "a_0 -6\n",
      "a_1 -6.0004904\n"
     ]
    },
    {
     "name": "stderr",
     "output_type": "stream",
     "text": [
      " 12%|█▏        | 588/5000 [00:11<01:32, 47.59it/s]"
     ]
    },
    {
     "name": "stdout",
     "output_type": "stream",
     "text": [
      "a_0 -6.0004031\n",
      "a_1 -6.0004904\n",
      "a_0 -6.0004031\n",
      "a_1 -6.0004904\n",
      "a_0 -6.0004031\n",
      "a_1 -6.0004904\n",
      "a_0 -6.0004031\n",
      "a_1 -6.0004904\n",
      "a_0 -6.0004031\n",
      "a_1 -6.0004904\n",
      "a_0 -6\n",
      "a_1 -6.0004904\n",
      "a_0 -6\n",
      "a_1 -6.0004904\n",
      "a_0 -6\n",
      "a_1 -6.0004904\n",
      "a_0 -6\n",
      "a_1 -6.0004904\n"
     ]
    },
    {
     "name": "stderr",
     "output_type": "stream",
     "text": [
      " 12%|█▏        | 599/5000 [00:11<01:28, 49.80it/s]"
     ]
    },
    {
     "name": "stdout",
     "output_type": "stream",
     "text": [
      "a_0 -6.0004904\n",
      "a_1 -6.0004904\n",
      "a_0 -6.0004904\n",
      "a_1 -6\n",
      "a_0 -6.0004904\n",
      "a_1 -6\n",
      "a_0 -6.0004904\n",
      "a_1 -6\n",
      "a_0 -6.0004904\n",
      "a_1 -6\n",
      "a_0 -6.0004904\n",
      "a_1 -6\n",
      "a_0 -6.0004904\n",
      "a_1 -6\n",
      "a_0 -6.0004904\n",
      "a_1 -6\n",
      "a_0 -6.0004904\n",
      "a_1 -6\n",
      "a_0 -6.0004904\n",
      "a_1 -6\n",
      "a_0 -6.0004904\n",
      "a_1 -6\n"
     ]
    },
    {
     "name": "stderr",
     "output_type": "stream",
     "text": [
      " 12%|█▏        | 611/5000 [00:11<01:26, 50.55it/s]"
     ]
    },
    {
     "name": "stdout",
     "output_type": "stream",
     "text": [
      "a_0 -6.0004904\n",
      "a_1 -6\n",
      "a_0 -6.0004904\n",
      "a_1 -6\n",
      "a_0 -6.0004904\n",
      "a_1 -6\n",
      "a_0 -6\n",
      "a_1 -6\n",
      "a_0 -6\n",
      "a_1 -6\n",
      "a_0 -6\n",
      "a_1 -6\n",
      "a_0 -6\n",
      "a_1 -6\n",
      "a_0 -6\n",
      "a_1 -6\n",
      "a_0 -6\n",
      "a_1 -6\n",
      "a_0 -6\n",
      "a_1 -6\n",
      "a_0 -6\n",
      "a_1 -6\n"
     ]
    },
    {
     "name": "stderr",
     "output_type": "stream",
     "text": [
      " 12%|█▏        | 623/5000 [00:11<01:26, 50.41it/s]"
     ]
    },
    {
     "name": "stdout",
     "output_type": "stream",
     "text": [
      "a_0 -6\n",
      "a_1 -6\n",
      "a_0 -6\n",
      "a_1 -6\n",
      "a_0 -6\n",
      "a_1 -6\n",
      "a_0 -6\n",
      "a_1 -6\n",
      "a_0 -6\n",
      "a_1 -6\n",
      "a_0 -6\n",
      "a_1 -6\n",
      "a_0 -6\n",
      "a_1 -6\n",
      "a_0 -6\n",
      "a_1 -6.0004904\n",
      "a_0 -6\n",
      "a_1 -6.0004904\n",
      "a_0 -6.0004904\n",
      "a_1 -6.0004904\n",
      "a_0 -6.0004904\n",
      "a_1 -6.0004904\n"
     ]
    },
    {
     "name": "stderr",
     "output_type": "stream",
     "text": [
      " 13%|█▎        | 629/5000 [00:11<01:26, 50.54it/s]"
     ]
    },
    {
     "name": "stdout",
     "output_type": "stream",
     "text": [
      "a_0 -6.0004904\n",
      "a_1 -6.0004904\n",
      "a_0 -6.0004904\n",
      "a_1 -6.0004904\n",
      "a_0 -6.0004904\n",
      "a_1 -6.0004904\n",
      "a_0 -6.0004904\n",
      "a_1 -6.0004904\n",
      "a_0 -6.0004904\n",
      "a_1 -6.0004904\n",
      "a_0 -6.0004904\n",
      "a_1 -6.0004904\n",
      "a_0 -6.0004904\n",
      "a_1 -6.0004904\n",
      "a_0 -6.0004904\n",
      "a_1 -6.0004904\n",
      "a_0 -6.0004904\n",
      "a_1 -6.0004904\n",
      "a_0 -6.0004904\n",
      "a_1 -6.0004904\n",
      "a_0 -6.0004904\n",
      "a_1 -6\n",
      "a_0 -6.0004904\n",
      "a_1 -6\n"
     ]
    },
    {
     "name": "stderr",
     "output_type": "stream",
     "text": [
      " 13%|█▎        | 647/5000 [00:12<01:21, 53.09it/s]"
     ]
    },
    {
     "name": "stdout",
     "output_type": "stream",
     "text": [
      "a_0 -15\n",
      "a_1 -15\n",
      "a_0 -5\n",
      "a_1 -5\n",
      "a_0 -5\n",
      "a_1 -5\n",
      "a_0 -5\n",
      "a_1 -5\n",
      "a_0 -5\n",
      "a_1 -5\n",
      "a_0 -5\n",
      "a_1 -5\n",
      "a_0 -5.0004031\n",
      "a_1 -5\n",
      "a_0 -5.0004031\n",
      "a_1 -5\n",
      "a_0 -14.0004031\n",
      "a_1 -14\n",
      "a_0 -4.0004031\n",
      "a_1 -4\n",
      "a_0 -4.0004031\n",
      "a_1 -4\n",
      "a_0 -4\n",
      "a_1 -4\n"
     ]
    },
    {
     "name": "stderr",
     "output_type": "stream",
     "text": [
      " 13%|█▎        | 653/5000 [00:12<01:22, 52.80it/s]"
     ]
    },
    {
     "name": "stdout",
     "output_type": "stream",
     "text": [
      "a_0 -4\n",
      "a_1 -4.0004904\n",
      "a_0 -4\n",
      "a_1 -4.0004904\n",
      "a_0 -4\n",
      "a_1 -4.0004904\n",
      "a_0 -4.0004891\n",
      "a_1 -4.0004904\n",
      "a_0 -4.0004891\n",
      "a_1 -4.0004904\n",
      "a_0 -4.0004891\n",
      "a_1 -4.0004904\n",
      "a_0 -4.0004891\n",
      "a_1 -4.0004904\n",
      "a_0 -4.0004891\n",
      "a_1 -4.0004904\n",
      "a_0 -4.0004891\n",
      "a_1 -4.0004904\n",
      "a_0 -4.0004891\n",
      "a_1 -4.0004904\n",
      "a_0 -4.0004891\n",
      "a_1 -4.0004904\n"
     ]
    },
    {
     "name": "stderr",
     "output_type": "stream",
     "text": [
      " 13%|█▎        | 665/5000 [00:12<01:21, 52.89it/s]"
     ]
    },
    {
     "name": "stdout",
     "output_type": "stream",
     "text": [
      "a_0 -4.0004891\n",
      "a_1 -4.0004904\n",
      "a_0 -4.0004891\n",
      "a_1 -4.0004904\n",
      "a_0 -13.0004891\n",
      "a_1 -13.0004904\n",
      "a_0 -3\n",
      "a_1 -3\n",
      "a_0 -3\n",
      "a_1 -3\n",
      "a_0 -5\n",
      "a_1 -5\n",
      "a_0 -5\n",
      "a_1 -5\n",
      "a_0 -5\n",
      "a_1 -5.0004031\n",
      "a_0 -5\n",
      "a_1 -5.0004031\n",
      "a_0 -5\n",
      "a_1 -5.0004031\n",
      "a_0 -5\n",
      "a_1 -5.0004031\n"
     ]
    },
    {
     "name": "stderr",
     "output_type": "stream",
     "text": [
      " 14%|█▎        | 677/5000 [00:12<01:21, 53.02it/s]"
     ]
    },
    {
     "name": "stdout",
     "output_type": "stream",
     "text": [
      "a_0 -5\n",
      "a_1 -5.0004031\n",
      "a_0 -5\n",
      "a_1 -5\n",
      "a_0 -5\n",
      "a_1 -5\n",
      "a_0 -5\n",
      "a_1 -5\n",
      "a_0 -14\n",
      "a_1 -14\n",
      "a_0 -4\n",
      "a_1 -4\n",
      "a_0 -4\n",
      "a_1 -4\n",
      "a_0 -4\n",
      "a_1 -4\n",
      "a_0 -4\n",
      "a_1 -4\n",
      "a_0 -4\n",
      "a_1 -4\n",
      "a_0 -4.0004891\n",
      "a_1 -4\n"
     ]
    },
    {
     "name": "stderr",
     "output_type": "stream",
     "text": [
      " 14%|█▍        | 689/5000 [00:13<01:26, 49.73it/s]"
     ]
    },
    {
     "name": "stdout",
     "output_type": "stream",
     "text": [
      "a_0 -4.0004891\n",
      "a_1 -4\n",
      "a_0 -4.0004891\n",
      "a_1 -4\n",
      "a_0 -4.0004891\n",
      "a_1 -4\n",
      "a_0 -4.0004891\n",
      "a_1 -4.0004891\n",
      "a_0 -4.0004891\n",
      "a_1 -4.0004891\n",
      "a_0 -4.0004891\n",
      "a_1 -4.0004891\n",
      "a_0 -4.0004891\n",
      "a_1 -4.0004891\n",
      "a_0 -4.0004891\n",
      "a_1 -4.0004891\n",
      "a_0 -4.0004891\n",
      "a_1 -4.0004891\n"
     ]
    },
    {
     "name": "stderr",
     "output_type": "stream",
     "text": [
      " 14%|█▍        | 695/5000 [00:13<01:26, 49.63it/s]"
     ]
    },
    {
     "name": "stdout",
     "output_type": "stream",
     "text": [
      "a_0 -4.0004891\n",
      "a_1 -4.0004891\n",
      "a_0 -4\n",
      "a_1 -4.0004891\n",
      "a_0 -4\n",
      "a_1 -4.0004891\n",
      "a_0 -4\n",
      "a_1 -4.0004891\n",
      "a_0 -4\n",
      "a_1 -4.0004891\n",
      "a_0 -4\n",
      "a_1 -4\n",
      "a_0 -4.0004031\n",
      "a_1 -4\n",
      "a_0 -4.0004031\n",
      "a_1 -4\n",
      "a_0 -4.0004031\n",
      "a_1 -4\n",
      "a_0 -4.0004031\n",
      "a_1 -4\n",
      "a_0 -4.0004031\n",
      "a_1 -4\n"
     ]
    },
    {
     "name": "stderr",
     "output_type": "stream",
     "text": [
      " 14%|█▍        | 707/5000 [00:13<01:22, 52.20it/s]"
     ]
    },
    {
     "name": "stdout",
     "output_type": "stream",
     "text": [
      "a_0 -4\n",
      "a_1 -4\n",
      "a_0 -4\n",
      "a_1 -4.0004904\n",
      "a_0 -4\n",
      "a_1 -4.0004904\n",
      "a_0 -4\n",
      "a_1 -4.0004904\n",
      "a_0 -4.0004904\n",
      "a_1 -4.0004904\n",
      "a_0 -4.0004904\n",
      "a_1 -4.0004904\n",
      "a_0 -4.0004904\n",
      "a_1 -4.0004904\n",
      "a_0 -4.0004904\n",
      "a_1 -4.0004904\n",
      "a_0 -4.0004904\n",
      "a_1 -4.0004904\n",
      "a_0 -4.0004904\n",
      "a_1 -4.0004904\n",
      "a_0 -4.0004904\n",
      "a_1 -4.0004904\n",
      "a_0 -4.0004904\n",
      "a_1 -4.0004904\n"
     ]
    },
    {
     "name": "stderr",
     "output_type": "stream",
     "text": [
      " 14%|█▍        | 719/5000 [00:13<01:19, 53.73it/s]"
     ]
    },
    {
     "name": "stdout",
     "output_type": "stream",
     "text": [
      "a_0 -4.0004904\n",
      "a_1 -4.0004904\n",
      "a_0 -13.0004904\n",
      "a_1 -13.0004904\n",
      "a_0 -12.0004904\n",
      "a_1 -12.0004904\n",
      "a_0 -2.0004904\n",
      "a_1 -2\n",
      "a_0 -2.0004904\n",
      "a_1 -2\n",
      "a_0 -2.0004904\n",
      "a_1 -2\n",
      "a_0 -2\n",
      "a_1 -2\n",
      "a_0 -2\n",
      "a_1 -2\n",
      "a_0 -2\n",
      "a_1 -2\n",
      "a_0 -2.0004904\n",
      "a_1 -2\n",
      "a_0 -2.0004904\n",
      "a_1 -2.0004904\n"
     ]
    },
    {
     "name": "stderr",
     "output_type": "stream",
     "text": [
      " 15%|█▍        | 731/5000 [00:13<01:22, 51.45it/s]"
     ]
    },
    {
     "name": "stdout",
     "output_type": "stream",
     "text": [
      "a_0 -2.0004904\n",
      "a_1 -2.0004904\n",
      "a_0 -2.0004904\n",
      "a_1 -2.0004904\n",
      "a_0 -2.0004904\n",
      "a_1 -2.0004904\n",
      "a_0 -2.0004904\n",
      "a_1 -2.0004904\n",
      "a_0 -2.0004904\n",
      "a_1 -2.0004904\n",
      "a_0 -2.0004904\n",
      "a_1 -2.0004904\n",
      "a_0 -2.0004904\n",
      "a_1 -2.0004904\n",
      "a_0 -2.0004904\n",
      "a_1 -2.0004904\n",
      "a_0 -2.0004904\n",
      "a_1 -2.0004904\n",
      "a_0 -2.0004904\n",
      "a_1 -2.0004904\n",
      "a_0 -2.0004904\n",
      "a_1 -2.0004904\n"
     ]
    },
    {
     "name": "stderr",
     "output_type": "stream",
     "text": [
      " 15%|█▍        | 743/5000 [00:14<01:22, 51.36it/s]"
     ]
    },
    {
     "name": "stdout",
     "output_type": "stream",
     "text": [
      "a_0 -2.0004904\n",
      "a_1 -2.0004904\n",
      "a_0 -2\n",
      "a_1 -2.0004904\n",
      "a_0 -2\n",
      "a_1 -2\n",
      "a_0 -2\n",
      "a_1 -2\n",
      "a_0 -2\n",
      "a_1 -2\n",
      "a_0 -2.0004030999999998\n",
      "a_1 -2\n",
      "a_0 -2.0004030999999998\n",
      "a_1 -2\n",
      "a_0 -2.0004030999999998\n",
      "a_1 -2\n",
      "a_0 -2.0004030999999998\n",
      "a_1 -2\n",
      "a_0 -2.0004030999999998\n",
      "a_1 -2\n",
      "a_0 -3\n",
      "a_1 -3\n"
     ]
    },
    {
     "name": "stderr",
     "output_type": "stream",
     "text": [
      " 15%|█▌        | 755/5000 [00:14<01:26, 49.03it/s]"
     ]
    },
    {
     "name": "stdout",
     "output_type": "stream",
     "text": [
      "a_0 -3\n",
      "a_1 -3\n",
      "a_0 -3\n",
      "a_1 -3\n",
      "a_0 -3\n",
      "a_1 -3\n",
      "a_0 -3\n",
      "a_1 -3\n",
      "a_0 -3\n",
      "a_1 -3.0004904\n",
      "a_0 -3\n",
      "a_1 -3.0004904\n",
      "a_0 -3\n",
      "a_1 -3.0004904\n",
      "a_0 -3\n",
      "a_1 -3.0004904\n",
      "a_0 -3\n",
      "a_1 -3.0004904\n",
      "a_0 -3.0004030999999998\n",
      "a_1 -3.0004904\n"
     ]
    },
    {
     "name": "stderr",
     "output_type": "stream",
     "text": [
      " 15%|█▌        | 760/5000 [00:14<01:28, 47.78it/s]"
     ]
    },
    {
     "name": "stdout",
     "output_type": "stream",
     "text": [
      "a_0 -3.0004030999999998\n",
      "a_1 -3.0004904\n",
      "a_0 -3.0004030999999998\n",
      "a_1 -3.0004904\n",
      "a_0 -3.0004030999999998\n",
      "a_1 -3.0004904\n",
      "a_0 -3.0004030999999998\n",
      "a_1 -3.0004904\n",
      "a_0 -3\n",
      "a_1 -3.0004904\n",
      "a_0 -3\n",
      "a_1 -3.0004904\n",
      "a_0 -3\n",
      "a_1 -3.0004904\n",
      "a_0 -3.0004904\n",
      "a_1 -3.0004904\n",
      "a_0 -3.0004904\n",
      "a_1 -3\n",
      "a_0 -3.0004904\n",
      "a_1 -3\n"
     ]
    },
    {
     "name": "stderr",
     "output_type": "stream",
     "text": [
      " 15%|█▌        | 771/5000 [00:14<01:33, 45.09it/s]"
     ]
    },
    {
     "name": "stdout",
     "output_type": "stream",
     "text": [
      "a_0 -3.0004904\n",
      "a_1 -3\n",
      "a_0 -3.0004904\n",
      "a_1 -3\n",
      "a_0 -3.0004904\n",
      "a_1 -3.0004904\n",
      "a_0 -3.0004904\n",
      "a_1 -3.0004904\n",
      "a_0 -3.0004904\n",
      "a_1 -3.0004904\n",
      "a_0 -3.0004904\n",
      "a_1 -3.0004904\n",
      "a_0 -3.0004904\n",
      "a_1 -3.0004904\n",
      "a_0 -3.0004904\n",
      "a_1 -3.0004904\n",
      "a_0 -3.0004904\n",
      "a_1 -3.0004904\n"
     ]
    },
    {
     "name": "stderr",
     "output_type": "stream",
     "text": [
      " 16%|█▌        | 781/5000 [00:14<01:29, 46.94it/s]"
     ]
    },
    {
     "name": "stdout",
     "output_type": "stream",
     "text": [
      "a_0 -3.0004904\n",
      "a_1 -3.0004904\n",
      "a_0 -3.0004904\n",
      "a_1 -3.0004904\n",
      "a_0 -3\n",
      "a_1 -3.0004904\n",
      "a_0 -3\n",
      "a_1 -3.0004904\n",
      "a_0 -3\n",
      "a_1 -3.0004904\n",
      "a_0 -3\n",
      "a_1 -3.0004904\n",
      "a_0 -3\n",
      "a_1 -3.0004904\n",
      "a_0 -3\n",
      "a_1 -3\n",
      "a_0 -3\n",
      "a_1 -3\n",
      "a_0 -3\n",
      "a_1 -3\n"
     ]
    },
    {
     "name": "stderr",
     "output_type": "stream",
     "text": [
      " 16%|█▌        | 792/5000 [00:15<01:25, 49.01it/s]"
     ]
    },
    {
     "name": "stdout",
     "output_type": "stream",
     "text": [
      "a_0 -3\n",
      "a_1 -3\n",
      "a_0 -3\n",
      "a_1 -3\n",
      "a_0 -3\n",
      "a_1 -3\n",
      "a_0 -3\n",
      "a_1 -3\n",
      "a_0 -3\n",
      "a_1 -3\n",
      "a_0 -3\n",
      "a_1 -3\n",
      "a_0 -3\n",
      "a_1 -3\n",
      "a_0 -3\n",
      "a_1 -3\n",
      "a_0 -3\n",
      "a_1 -3\n",
      "a_0 -3\n",
      "a_1 -3\n",
      "a_0 -3\n",
      "a_1 -3\n"
     ]
    },
    {
     "name": "stderr",
     "output_type": "stream",
     "text": [
      " 16%|█▌        | 803/5000 [00:15<01:25, 49.13it/s]"
     ]
    },
    {
     "name": "stdout",
     "output_type": "stream",
     "text": [
      "a_0 -3\n",
      "a_1 -3\n",
      "a_0 -3\n",
      "a_1 -3\n",
      "a_0 -3\n",
      "a_1 -3\n",
      "a_0 -3\n",
      "a_1 -3\n",
      "a_0 -3\n",
      "a_1 -3.0004904\n",
      "a_0 -3\n",
      "a_1 -3.0004904\n",
      "a_0 -3\n",
      "a_1 -3.0004904\n",
      "a_0 -3\n",
      "a_1 -3.0004904\n",
      "a_0 -3\n",
      "a_1 -3.0004904\n",
      "a_0 -3\n",
      "a_1 -3.0004904\n"
     ]
    },
    {
     "name": "stderr",
     "output_type": "stream",
     "text": [
      " 16%|█▋        | 813/5000 [00:15<01:26, 48.48it/s]"
     ]
    },
    {
     "name": "stdout",
     "output_type": "stream",
     "text": [
      "a_0 -3\n",
      "a_1 -3.0004904\n",
      "a_0 -3\n",
      "a_1 -3.0004904\n",
      "a_0 -3\n",
      "a_1 -3.0004904\n",
      "a_0 -3\n",
      "a_1 -3.0004904\n",
      "a_0 -3\n",
      "a_1 -3.0004904\n",
      "a_0 -3\n",
      "a_1 -3.0004904\n",
      "a_0 -3\n",
      "a_1 -3.0004904\n",
      "a_0 -3\n",
      "a_1 -3.0004904\n",
      "a_0 -3\n",
      "a_1 -3\n",
      "a_0 -3\n",
      "a_1 -3\n",
      "a_0 -3\n",
      "a_1 -3\n"
     ]
    },
    {
     "name": "stderr",
     "output_type": "stream",
     "text": [
      " 16%|█▋        | 825/5000 [00:15<01:21, 51.03it/s]"
     ]
    },
    {
     "name": "stdout",
     "output_type": "stream",
     "text": [
      "a_0 -3\n",
      "a_1 -3.0004030999999998\n",
      "a_0 -3\n",
      "a_1 -3.0004030999999998\n",
      "a_0 -3\n",
      "a_1 -3.0004030999999998\n",
      "a_0 -3\n",
      "a_1 -3.0004030999999998\n",
      "a_0 -3\n",
      "a_1 -3.0004030999999998\n",
      "a_0 -3\n",
      "a_1 -3\n",
      "a_0 -3\n",
      "a_1 -3\n",
      "a_0 -3\n",
      "a_1 -3\n",
      "a_0 -3\n",
      "a_1 -3\n",
      "a_0 -3\n",
      "a_1 -3\n",
      "a_0 -3\n",
      "a_1 -3\n"
     ]
    },
    {
     "name": "stderr",
     "output_type": "stream",
     "text": [
      " 17%|█▋        | 837/5000 [00:15<01:24, 49.26it/s]"
     ]
    },
    {
     "name": "stdout",
     "output_type": "stream",
     "text": [
      "a_0 -3\n",
      "a_1 -3\n",
      "a_0 -3\n",
      "a_1 -3.0004891000000002\n",
      "a_0 -3.0004891000000002\n",
      "a_1 -3.0004891000000002\n",
      "a_0 -3.0004891000000002\n",
      "a_1 -3.0004891000000002\n",
      "a_0 -3.0004891000000002\n",
      "a_1 -3.0004891000000002\n",
      "a_0 -3.0004891000000002\n",
      "a_1 -3.0004891000000002\n",
      "a_0 -3.0004891000000002\n",
      "a_1 -3.0004891000000002\n",
      "a_0 -3.0004891000000002\n",
      "a_1 -3.0004891000000002\n",
      "a_0 -3.0004891000000002\n",
      "a_1 -3.0004891000000002\n",
      "a_0 -3.0004891000000002\n",
      "a_1 -3.0004891000000002\n"
     ]
    },
    {
     "name": "stderr",
     "output_type": "stream",
     "text": [
      " 17%|█▋        | 842/5000 [00:16<01:26, 48.20it/s]"
     ]
    },
    {
     "name": "stdout",
     "output_type": "stream",
     "text": [
      "a_0 -3.0004891000000002\n",
      "a_1 -3.0004891000000002\n",
      "a_0 -3.0004891000000002\n",
      "a_1 -3.0004891000000002\n",
      "a_0 -3.0004891000000002\n",
      "a_1 -3\n",
      "a_0 -3\n",
      "a_1 -3\n",
      "a_0 -3\n",
      "a_1 -3\n",
      "a_0 -3\n",
      "a_1 -3.0004904\n",
      "a_0 -3.0004030999999998\n",
      "a_1 -3.0004904\n",
      "a_0 -3.0004030999999998\n",
      "a_1 -3.0004904\n",
      "a_0 -3.0004030999999998\n",
      "a_1 -3.0004904\n",
      "a_0 -3.0004030999999998\n",
      "a_1 -3.0004904\n"
     ]
    },
    {
     "name": "stderr",
     "output_type": "stream",
     "text": [
      " 17%|█▋        | 853/5000 [00:16<01:30, 45.79it/s]"
     ]
    },
    {
     "name": "stdout",
     "output_type": "stream",
     "text": [
      "a_0 -3.0004030999999998\n",
      "a_1 -3.0004904\n",
      "a_0 -3\n",
      "a_1 -3.0004904\n",
      "a_0 -3\n",
      "a_1 -3.0004904\n",
      "a_0 -3\n",
      "a_1 -3.0004904\n",
      "a_0 -3\n",
      "a_1 -3.0004904\n",
      "a_0 -3\n",
      "a_1 -3.0004904\n",
      "a_0 -3\n",
      "a_1 -3.0004904\n",
      "a_0 -3\n",
      "a_1 -3.0004904\n",
      "a_0 -3\n",
      "a_1 -3.0004904\n"
     ]
    },
    {
     "name": "stderr",
     "output_type": "stream",
     "text": [
      " 17%|█▋        | 863/5000 [00:16<01:27, 47.04it/s]"
     ]
    },
    {
     "name": "stdout",
     "output_type": "stream",
     "text": [
      "a_0 -3\n",
      "a_1 -3\n",
      "a_0 -3\n",
      "a_1 -3\n",
      "a_0 -3\n",
      "a_1 -3\n",
      "a_0 -3\n",
      "a_1 -3\n",
      "a_0 -3\n",
      "a_1 -3\n",
      "a_0 -3\n",
      "a_1 -3\n",
      "a_0 -3\n",
      "a_1 -3\n",
      "a_0 -3\n",
      "a_1 -3\n",
      "a_0 -3\n",
      "a_1 -3\n",
      "a_0 -3\n",
      "a_1 -3\n",
      "a_0 -3\n",
      "a_1 -3\n"
     ]
    },
    {
     "name": "stderr",
     "output_type": "stream",
     "text": [
      " 17%|█▋        | 874/5000 [00:16<01:24, 49.01it/s]"
     ]
    },
    {
     "name": "stdout",
     "output_type": "stream",
     "text": [
      "a_0 -3\n",
      "a_1 -3\n",
      "a_0 -3\n",
      "a_1 -3\n",
      "a_0 -3\n",
      "a_1 -3\n",
      "a_0 -3\n",
      "a_1 -3\n",
      "a_0 -3\n",
      "a_1 -3\n",
      "a_0 -3.0004030999999998\n",
      "a_1 -3.0004030999999998\n",
      "a_0 -3.0004030999999998\n",
      "a_1 -3.0004030999999998\n",
      "a_0 -3.0004030999999998\n",
      "a_1 -3.0004030999999998\n",
      "a_0 -3.0004030999999998\n",
      "a_1 -3.0004030999999998\n",
      "a_0 -3.0004030999999998\n",
      "a_1 -3.0004030999999998\n",
      "a_0 -3\n",
      "a_1 -3\n"
     ]
    },
    {
     "name": "stderr",
     "output_type": "stream",
     "text": [
      " 18%|█▊        | 886/5000 [00:17<01:21, 50.66it/s]"
     ]
    },
    {
     "name": "stdout",
     "output_type": "stream",
     "text": [
      "a_0 -3\n",
      "a_1 -3\n",
      "a_0 -3\n",
      "a_1 -3\n",
      "a_0 -3\n",
      "a_1 -3\n",
      "a_0 -3\n",
      "a_1 -3\n",
      "a_0 -3\n",
      "a_1 -3\n",
      "a_0 -3\n",
      "a_1 -3\n",
      "a_0 -3\n",
      "a_1 -3\n",
      "a_0 -3\n",
      "a_1 -3\n",
      "a_0 -3\n",
      "a_1 -3\n",
      "a_0 -3\n",
      "a_1 -3\n",
      "a_0 -3\n",
      "a_1 -3\n"
     ]
    },
    {
     "name": "stderr",
     "output_type": "stream",
     "text": [
      " 18%|█▊        | 897/5000 [00:17<01:22, 49.65it/s]"
     ]
    },
    {
     "name": "stdout",
     "output_type": "stream",
     "text": [
      "a_0 -3\n",
      "a_1 -3\n",
      "a_0 -3\n",
      "a_1 -3\n",
      "a_0 -3\n",
      "a_1 -3\n",
      "a_0 -3\n",
      "a_1 -3\n",
      "a_0 -3\n",
      "a_1 -3\n",
      "a_0 -3\n",
      "a_1 -3\n",
      "a_0 -3\n",
      "a_1 -3\n",
      "a_0 -3\n",
      "a_1 -3\n",
      "a_0 -3\n",
      "a_1 -3\n",
      "a_0 -3\n",
      "a_1 -3\n"
     ]
    },
    {
     "name": "stderr",
     "output_type": "stream",
     "text": [
      " 18%|█▊        | 907/5000 [00:17<01:22, 49.36it/s]"
     ]
    },
    {
     "name": "stdout",
     "output_type": "stream",
     "text": [
      "a_0 -3\n",
      "a_1 -3\n",
      "a_0 -3\n",
      "a_1 -3\n",
      "a_0 -3\n",
      "a_1 -3\n",
      "a_0 -3\n",
      "a_1 -3\n",
      "a_0 -3.0004030999999998\n",
      "a_1 -3\n",
      "a_0 -3.0004030999999998\n",
      "a_1 -3\n",
      "a_0 -3.0004030999999998\n",
      "a_1 -3\n",
      "a_0 -3.0004030999999998\n",
      "a_1 -3.0004030999999998\n",
      "a_0 -3.0004030999999998\n",
      "a_1 -3.0004030999999998\n",
      "a_0 -3\n",
      "a_1 -3.0004030999999998\n",
      "a_0 -3\n",
      "a_1 -3.0004030999999998\n"
     ]
    },
    {
     "name": "stderr",
     "output_type": "stream",
     "text": [
      " 18%|█▊        | 918/5000 [00:17<01:21, 50.21it/s]"
     ]
    },
    {
     "name": "stdout",
     "output_type": "stream",
     "text": [
      "a_0 -3\n",
      "a_1 -3.0004030999999998\n",
      "a_0 -3\n",
      "a_1 -3\n",
      "a_0 -3\n",
      "a_1 -3\n",
      "a_0 -3.0004030999999998\n",
      "a_1 -3\n",
      "a_0 -3.0004030999999998\n",
      "a_1 -3.0004030999999998\n",
      "a_0 -3.0004030999999998\n",
      "a_1 -3.0004030999999998\n",
      "a_0 -3.0004030999999998\n",
      "a_1 -3.0004030999999998\n",
      "a_0 -3.0004030999999998\n",
      "a_1 -3.0004030999999998\n",
      "a_0 -3\n",
      "a_1 -3.0004030999999998\n",
      "a_0 -3\n",
      "a_1 -3\n",
      "a_0 -3\n",
      "a_1 -3\n"
     ]
    },
    {
     "name": "stderr",
     "output_type": "stream",
     "text": [
      " 19%|█▊        | 930/5000 [00:17<01:20, 50.69it/s]"
     ]
    },
    {
     "name": "stdout",
     "output_type": "stream",
     "text": [
      "a_0 -3\n",
      "a_1 -3\n",
      "a_0 -3\n",
      "a_1 -3\n",
      "a_0 -3\n",
      "a_1 -3\n",
      "a_0 -3\n",
      "a_1 -3\n",
      "a_0 -3\n",
      "a_1 -3\n",
      "a_0 -3\n",
      "a_1 -3\n",
      "a_0 -3\n",
      "a_1 -3\n",
      "a_0 -3\n",
      "a_1 -3\n",
      "a_0 -3\n",
      "a_1 -3\n",
      "a_0 -3\n",
      "a_1 -3\n"
     ]
    },
    {
     "name": "stderr",
     "output_type": "stream",
     "text": [
      " 19%|█▊        | 936/5000 [00:18<01:25, 47.39it/s]"
     ]
    },
    {
     "name": "stdout",
     "output_type": "stream",
     "text": [
      "a_0 -3\n",
      "a_1 -3\n",
      "a_0 -3\n",
      "a_1 -3\n",
      "a_0 -3.0004891000000002\n",
      "a_1 -3.0004891000000002\n",
      "a_0 -3.0004891000000002\n",
      "a_1 -3.0004891000000002\n",
      "a_0 -3.0004891000000002\n",
      "a_1 -3.0004891000000002\n",
      "a_0 -3.0004891000000002\n",
      "a_1 -3.0004891000000002\n",
      "a_0 -3.0004891000000002\n",
      "a_1 -3.0004891000000002\n",
      "a_0 -3.0004891000000002\n",
      "a_1 -3.0004891000000002\n",
      "a_0 -4.0004891\n",
      "a_1 -4.0004891\n",
      "a_0 -4.0004891\n",
      "a_1 -4.0004891\n"
     ]
    },
    {
     "name": "stderr",
     "output_type": "stream",
     "text": [
      " 19%|█▉        | 948/5000 [00:18<01:22, 48.91it/s]"
     ]
    },
    {
     "name": "stdout",
     "output_type": "stream",
     "text": [
      "a_0 -4.0004891\n",
      "a_1 -4.0004891\n",
      "a_0 -4.0004891\n",
      "a_1 -4.0004891\n",
      "a_0 -4.0004891\n",
      "a_1 -4.0004891\n",
      "a_0 -4\n",
      "a_1 -4\n",
      "a_0 -4\n",
      "a_1 -4\n",
      "a_0 -4\n",
      "a_1 -4\n",
      "a_0 -4\n",
      "a_1 -4\n",
      "a_0 -4\n",
      "a_1 -4.0004891\n",
      "a_0 -4.0004891\n",
      "a_1 -4.0004891\n",
      "a_0 -5.0004891\n",
      "a_1 -5.0004891\n"
     ]
    },
    {
     "name": "stderr",
     "output_type": "stream",
     "text": [
      " 19%|█▉        | 960/5000 [00:18<01:20, 49.92it/s]"
     ]
    },
    {
     "name": "stdout",
     "output_type": "stream",
     "text": [
      "a_0 -5.0004891\n",
      "a_1 -5.0004891\n",
      "a_0 -5.0004891\n",
      "a_1 -5.0004891\n",
      "a_0 -5.0004891\n",
      "a_1 -5.0004891\n",
      "a_0 -5.0004891\n",
      "a_1 -5.0004891\n",
      "a_0 -5.0004891\n",
      "a_1 -5.0004891\n",
      "a_0 -5.0004891\n",
      "a_1 -5.0004891\n",
      "a_0 -5.0004891\n",
      "a_1 -5.0004891\n",
      "a_0 -5.0004891\n",
      "a_1 -5.0004891\n",
      "a_0 -5.0004891\n",
      "a_1 -5\n",
      "a_0 -5\n",
      "a_1 -5\n"
     ]
    },
    {
     "name": "stderr",
     "output_type": "stream",
     "text": [
      " 19%|█▉        | 972/5000 [00:18<01:19, 50.75it/s]"
     ]
    },
    {
     "name": "stdout",
     "output_type": "stream",
     "text": [
      "a_0 -5\n",
      "a_1 -5\n",
      "a_0 -5\n",
      "a_1 -5\n",
      "a_0 -5\n",
      "a_1 -5\n",
      "a_0 -5\n",
      "a_1 -5\n",
      "a_0 -5\n",
      "a_1 -5\n",
      "a_0 -5\n",
      "a_1 -5\n",
      "a_0 -5\n",
      "a_1 -5\n",
      "a_0 -5\n",
      "a_1 -5\n",
      "a_0 -5\n",
      "a_1 -5.0004031\n",
      "a_0 -5.0004031\n",
      "a_1 -5.0004031\n",
      "a_0 -5.0004031\n",
      "a_1 -5.0004031\n"
     ]
    },
    {
     "name": "stderr",
     "output_type": "stream",
     "text": [
      " 20%|█▉        | 978/5000 [00:18<01:22, 48.79it/s]"
     ]
    },
    {
     "name": "stdout",
     "output_type": "stream",
     "text": [
      "a_0 -5.0004031\n",
      "a_1 -5.0004031\n",
      "a_0 -5.0004031\n",
      "a_1 -5.0004031\n",
      "a_0 -5.0004031\n",
      "a_1 -5\n",
      "a_0 -5\n",
      "a_1 -5\n",
      "a_0 -5\n",
      "a_1 -5\n",
      "a_0 -5\n",
      "a_1 -5\n",
      "a_0 -5\n",
      "a_1 -5\n",
      "a_0 -5\n",
      "a_1 -5.0004904\n",
      "a_0 -5.0004904\n",
      "a_1 -5.0004904\n",
      "a_0 -5.0004904\n",
      "a_1 -5.0004904\n"
     ]
    },
    {
     "name": "stderr",
     "output_type": "stream",
     "text": [
      " 20%|█▉        | 989/5000 [00:19<01:22, 48.84it/s]"
     ]
    },
    {
     "name": "stdout",
     "output_type": "stream",
     "text": [
      "a_0 -5.0004904\n",
      "a_1 -5.0004904\n",
      "a_0 -5.0004904\n",
      "a_1 -5.0004904\n",
      "a_0 -5.0004904\n",
      "a_1 -5.0004904\n",
      "a_0 -5.0004904\n",
      "a_1 -5.0004904\n",
      "a_0 -5.0004904\n",
      "a_1 -5.0004904\n",
      "a_0 -5.0004904\n",
      "a_1 -5.0004904\n",
      "a_0 -5.0004904\n",
      "a_1 -5.0004904\n",
      "a_0 -5.0004904\n",
      "a_1 -5.0004904\n",
      "a_0 -5.0004904\n",
      "a_1 -5.0004904\n",
      "a_0 -5.0004904\n",
      "a_1 -5.0004904\n"
     ]
    },
    {
     "name": "stderr",
     "output_type": "stream",
     "text": [
      " 20%|█▉        | 999/5000 [00:19<01:23, 48.01it/s]"
     ]
    },
    {
     "name": "stdout",
     "output_type": "stream",
     "text": [
      "a_0 -5.0004904\n",
      "a_1 -5.0004904\n",
      "a_0 -5.0004904\n",
      "a_1 -5\n",
      "a_0 -5\n",
      "a_1 -5\n",
      "a_0 -5\n",
      "a_1 -5\n",
      "a_0 -5\n",
      "a_1 -5\n",
      "a_0 -5\n",
      "a_1 -5\n",
      "a_0 -5\n",
      "a_1 -5\n",
      "a_0 -5\n",
      "a_1 -5\n",
      "a_0 -5\n",
      "a_1 -5\n",
      "a_0 -5\n",
      "a_1 -5\n"
     ]
    },
    {
     "name": "stderr",
     "output_type": "stream",
     "text": [
      " 20%|██        | 1010/5000 [00:19<01:19, 50.22it/s]"
     ]
    },
    {
     "name": "stdout",
     "output_type": "stream",
     "text": [
      "a_0 -5\n",
      "a_1 -5\n",
      "a_0 -5\n",
      "a_1 -5\n",
      "a_0 -14\n",
      "a_1 -14\n",
      "a_0 -4\n",
      "a_1 -4\n",
      "a_0 -4\n",
      "a_1 -4\n",
      "a_0 -4\n",
      "a_1 -4\n",
      "a_0 -4\n",
      "a_1 -4\n",
      "a_0 -4\n",
      "a_1 -4.0004904\n",
      "a_0 -4\n",
      "a_1 -4.0004904\n"
     ]
    },
    {
     "name": "stderr",
     "output_type": "stream",
     "text": [
      " 20%|██        | 1021/5000 [00:19<01:25, 46.60it/s]"
     ]
    },
    {
     "name": "stdout",
     "output_type": "stream",
     "text": [
      "a_0 -4\n",
      "a_1 -4.0004904\n",
      "a_0 -4\n",
      "a_1 -4.0004904\n",
      "a_0 -4\n",
      "a_1 -4.0004904\n",
      "a_0 -4.0004891\n",
      "a_1 -4.0004904\n",
      "a_0 -4.0004891\n",
      "a_1 -4.0004904\n",
      "a_0 -4.0004891\n",
      "a_1 -4.0004904\n",
      "a_0 -4.0004891\n",
      "a_1 -4.0004904\n",
      "a_0 -4.0004891\n",
      "a_1 -4.0004904\n",
      "a_0 -4.0004891\n",
      "a_1 -4.0004904\n",
      "a_0 -4.0004891\n",
      "a_1 -4.0004904\n"
     ]
    },
    {
     "name": "stderr",
     "output_type": "stream",
     "text": [
      " 21%|██        | 1026/5000 [00:19<01:26, 45.81it/s]"
     ]
    },
    {
     "name": "stdout",
     "output_type": "stream",
     "text": [
      "a_0 -4.0004891\n",
      "a_1 -4.0004904\n",
      "a_0 -4.0004891\n",
      "a_1 -4.0004904\n",
      "a_0 -4.0004891\n",
      "a_1 -4\n",
      "a_0 -4.0004891\n",
      "a_1 -4\n",
      "a_0 -4\n",
      "a_1 -4\n",
      "a_0 -4\n",
      "a_1 -4\n",
      "a_0 -4\n",
      "a_1 -4\n",
      "a_0 -4.0004891\n",
      "a_1 -4\n",
      "a_0 -4.0004891\n",
      "a_1 -4\n",
      "a_0 -4.0004891\n",
      "a_1 -4\n"
     ]
    },
    {
     "name": "stderr",
     "output_type": "stream",
     "text": [
      " 21%|██        | 1038/5000 [00:20<01:21, 48.78it/s]"
     ]
    },
    {
     "name": "stdout",
     "output_type": "stream",
     "text": [
      "a_0 -4.0004891\n",
      "a_1 -4\n",
      "a_0 -4.0004891\n",
      "a_1 -4\n",
      "a_0 -4.0004891\n",
      "a_1 -4\n",
      "a_0 -4.0004891\n",
      "a_1 -4\n",
      "a_0 -4.0004891\n",
      "a_1 -4\n",
      "a_0 -4.0004891\n",
      "a_1 -4\n",
      "a_0 -4.0004891\n",
      "a_1 -4\n",
      "a_0 -4.0004891\n",
      "a_1 -4\n",
      "a_0 -4\n",
      "a_1 -4\n",
      "a_0 -4\n",
      "a_1 -4\n",
      "a_0 -4\n",
      "a_1 -4\n"
     ]
    },
    {
     "name": "stderr",
     "output_type": "stream",
     "text": [
      " 21%|██        | 1049/5000 [00:20<01:19, 49.65it/s]"
     ]
    },
    {
     "name": "stdout",
     "output_type": "stream",
     "text": [
      "a_0 -4.0004904\n",
      "a_1 -4.0004904\n",
      "a_0 -4.0004904\n",
      "a_1 -4.0004904\n",
      "a_0 -4.0004904\n",
      "a_1 -4.0004904\n",
      "a_0 -4.0004904\n",
      "a_1 -4.0004904\n",
      "a_0 -4.0004904\n",
      "a_1 -4.0004904\n",
      "a_0 -4.0004904\n",
      "a_1 -4.0004904\n",
      "a_0 -4.0004904\n",
      "a_1 -4.0004904\n",
      "a_0 -4.0004904\n",
      "a_1 -4.0004904\n",
      "a_0 -4.0004904\n",
      "a_1 -4.0004904\n",
      "a_0 -4.0004904\n",
      "a_1 -4.0004904\n",
      "a_0 -4.0004904\n",
      "a_1 -4.0004904\n"
     ]
    },
    {
     "name": "stderr",
     "output_type": "stream",
     "text": [
      " 21%|██        | 1061/5000 [00:20<01:18, 50.35it/s]"
     ]
    },
    {
     "name": "stdout",
     "output_type": "stream",
     "text": [
      "a_0 -4.0004904\n",
      "a_1 -4.0004904\n",
      "a_0 -4.0004904\n",
      "a_1 -4.0004904\n",
      "a_0 -4.0004904\n",
      "a_1 -4.0004904\n",
      "a_0 -4\n",
      "a_1 -4\n",
      "a_0 -4\n",
      "a_1 -4\n",
      "a_0 -4\n",
      "a_1 -4\n",
      "a_0 -4\n",
      "a_1 -4\n",
      "a_0 -4.0004031\n",
      "a_1 -4\n",
      "a_0 -4.0004031\n",
      "a_1 -4\n",
      "a_0 -4.0004031\n",
      "a_1 -4\n"
     ]
    },
    {
     "name": "stderr",
     "output_type": "stream",
     "text": [
      " 21%|██▏       | 1072/5000 [00:20<01:21, 48.11it/s]"
     ]
    },
    {
     "name": "stdout",
     "output_type": "stream",
     "text": [
      "a_0 -4.0004031\n",
      "a_1 -4\n",
      "a_0 -4.0004031\n",
      "a_1 -4\n",
      "a_0 -4\n",
      "a_1 -4\n",
      "a_0 -4\n",
      "a_1 -4\n",
      "a_0 -4\n",
      "a_1 -4\n",
      "a_0 -4\n",
      "a_1 -4\n",
      "a_0 -4\n",
      "a_1 -4\n",
      "a_0 -4\n",
      "a_1 -4\n",
      "a_0 -4\n",
      "a_1 -4\n",
      "a_0 -4\n",
      "a_1 -4\n"
     ]
    },
    {
     "name": "stderr",
     "output_type": "stream",
     "text": [
      " 22%|██▏       | 1084/5000 [00:21<01:17, 50.46it/s]"
     ]
    },
    {
     "name": "stdout",
     "output_type": "stream",
     "text": [
      "a_0 -4\n",
      "a_1 -4\n",
      "a_0 -4\n",
      "a_1 -4\n",
      "a_0 -4\n",
      "a_1 -4\n",
      "a_0 -4\n",
      "a_1 -4\n",
      "a_0 -4\n",
      "a_1 -4\n",
      "a_0 -4\n",
      "a_1 -4\n",
      "a_0 -4\n",
      "a_1 -4\n",
      "a_0 -4\n",
      "a_1 -4\n",
      "a_0 -4\n",
      "a_1 -4\n",
      "a_0 -4\n",
      "a_1 -4\n",
      "a_0 -4\n",
      "a_1 -4\n"
     ]
    },
    {
     "name": "stderr",
     "output_type": "stream",
     "text": [
      " 22%|██▏       | 1090/5000 [00:21<01:22, 47.21it/s]"
     ]
    },
    {
     "name": "stdout",
     "output_type": "stream",
     "text": [
      "a_0 -4\n",
      "a_1 -4\n",
      "a_0 -4\n",
      "a_1 -4\n",
      "a_0 -4\n",
      "a_1 -4\n",
      "a_0 -4\n",
      "a_1 -4\n",
      "a_0 -4\n",
      "a_1 -4\n",
      "a_0 -4\n",
      "a_1 -4.0004891\n",
      "a_0 -4.0004891\n",
      "a_1 -4.0004891\n",
      "a_0 -4.0004891\n",
      "a_1 -4.0004891\n",
      "a_0 -4.0004891\n",
      "a_1 -4.0004891\n"
     ]
    },
    {
     "name": "stderr",
     "output_type": "stream",
     "text": [
      " 22%|██▏       | 1102/5000 [00:21<01:18, 49.87it/s]"
     ]
    },
    {
     "name": "stdout",
     "output_type": "stream",
     "text": [
      "a_0 -4.0004891\n",
      "a_1 -4.0004891\n",
      "a_0 -4.0004891\n",
      "a_1 -4.0004891\n",
      "a_0 -4.0004891\n",
      "a_1 -4.0004891\n",
      "a_0 -4.0004891\n",
      "a_1 -4.0004891\n",
      "a_0 -4.0004891\n",
      "a_1 -4.0004891\n",
      "a_0 -4.0004891\n",
      "a_1 -4.0004891\n",
      "a_0 -4.0004891\n",
      "a_1 -4.0004891\n",
      "a_0 -4.0004891\n",
      "a_1 -4\n",
      "a_0 -4\n",
      "a_1 -4\n",
      "a_0 -4\n",
      "a_1 -4\n",
      "a_0 -4\n",
      "a_1 -4\n"
     ]
    },
    {
     "name": "stderr",
     "output_type": "stream",
     "text": [
      " 22%|██▏       | 1114/5000 [00:21<01:15, 51.52it/s]"
     ]
    },
    {
     "name": "stdout",
     "output_type": "stream",
     "text": [
      "a_0 -4\n",
      "a_1 -4\n",
      "a_0 -4\n",
      "a_1 -4\n",
      "a_0 -4\n",
      "a_1 -4\n",
      "a_0 -4\n",
      "a_1 -4\n",
      "a_0 -4\n",
      "a_1 -4\n",
      "a_0 -4\n",
      "a_1 -4\n",
      "a_0 -4\n",
      "a_1 -4\n",
      "a_0 -4\n",
      "a_1 -4\n",
      "a_0 -4\n",
      "a_1 -4\n",
      "a_0 -4\n",
      "a_1 -4\n",
      "a_0 -4\n",
      "a_1 -4\n"
     ]
    },
    {
     "name": "stderr",
     "output_type": "stream",
     "text": [
      " 23%|██▎       | 1126/5000 [00:21<01:13, 52.92it/s]"
     ]
    },
    {
     "name": "stdout",
     "output_type": "stream",
     "text": [
      "a_0 -4\n",
      "a_1 -4\n",
      "a_0 -4\n",
      "a_1 -4\n",
      "a_0 -4\n",
      "a_1 -4\n",
      "a_0 -4\n",
      "a_1 -4\n",
      "a_0 -4\n",
      "a_1 -4\n",
      "a_0 -4\n",
      "a_1 -4\n",
      "a_0 -4.0004904\n",
      "a_1 -4\n",
      "a_0 -4.0004904\n",
      "a_1 -4\n",
      "a_0 -4.0004904\n",
      "a_1 -4\n",
      "a_0 -4.0004904\n",
      "a_1 -4\n",
      "a_0 -4.0004904\n",
      "a_1 -4\n"
     ]
    },
    {
     "name": "stderr",
     "output_type": "stream",
     "text": [
      " 23%|██▎       | 1132/5000 [00:21<01:13, 52.27it/s]"
     ]
    },
    {
     "name": "stdout",
     "output_type": "stream",
     "text": [
      "a_0 -4.0004904\n",
      "a_1 -4\n",
      "a_0 -5.0004904\n",
      "a_1 -5\n",
      "a_0 -5.0004904\n",
      "a_1 -5\n",
      "a_0 -5.0004904\n",
      "a_1 -5\n",
      "a_0 -5.0004904\n",
      "a_1 -5\n",
      "a_0 -5.0004904\n",
      "a_1 -5\n",
      "a_0 -5.0004904\n",
      "a_1 -5\n",
      "a_0 -5.0004904\n",
      "a_1 -5\n",
      "a_0 -5.0004904\n",
      "a_1 -5\n",
      "a_0 -5\n",
      "a_1 -5\n",
      "a_0 -5\n",
      "a_1 -5\n"
     ]
    },
    {
     "name": "stderr",
     "output_type": "stream",
     "text": [
      " 23%|██▎       | 1144/5000 [00:22<01:13, 52.16it/s]"
     ]
    },
    {
     "name": "stdout",
     "output_type": "stream",
     "text": [
      "a_0 -5\n",
      "a_1 -5\n",
      "a_0 -5.0004031\n",
      "a_1 -5\n",
      "a_0 -5.0004031\n",
      "a_1 -5\n",
      "a_0 -5.0004031\n",
      "a_1 -5.0004031\n",
      "a_0 -5.0004031\n",
      "a_1 -5.0004031\n",
      "a_0 -5.0004031\n",
      "a_1 -5.0004031\n",
      "a_0 -5\n",
      "a_1 -5.0004031\n",
      "a_0 -5\n",
      "a_1 -5.0004031\n",
      "a_0 -5\n",
      "a_1 -5\n",
      "a_0 -5\n",
      "a_1 -5\n",
      "a_0 -5\n",
      "a_1 -5\n"
     ]
    },
    {
     "name": "stderr",
     "output_type": "stream",
     "text": [
      " 23%|██▎       | 1156/5000 [00:22<01:14, 51.91it/s]"
     ]
    },
    {
     "name": "stdout",
     "output_type": "stream",
     "text": [
      "a_0 -5\n",
      "a_1 -5.0004904\n",
      "a_0 -5\n",
      "a_1 -5.0004904\n",
      "a_0 -5\n",
      "a_1 -5.0004904\n",
      "a_0 -5\n",
      "a_1 -5.0004904\n",
      "a_0 -5\n",
      "a_1 -5.0004904\n",
      "a_0 -5\n",
      "a_1 -5.0004904\n",
      "a_0 -5\n",
      "a_1 -5.0004904\n",
      "a_0 -5\n",
      "a_1 -5.0004904\n",
      "a_0 -5\n",
      "a_1 -5.0004904\n",
      "a_0 -5\n",
      "a_1 -5.0004904\n",
      "a_0 -5\n",
      "a_1 -5.0004904\n"
     ]
    },
    {
     "name": "stderr",
     "output_type": "stream",
     "text": [
      " 23%|██▎       | 1168/5000 [00:22<01:18, 48.82it/s]"
     ]
    },
    {
     "name": "stdout",
     "output_type": "stream",
     "text": [
      "a_0 -5\n",
      "a_1 -5.0004904\n",
      "a_0 -5\n",
      "a_1 -5.0004904\n",
      "a_0 -5\n",
      "a_1 -5.0004904\n",
      "a_0 -5\n",
      "a_1 -5\n",
      "a_0 -5\n",
      "a_1 -5\n",
      "a_0 -5.0004891\n",
      "a_1 -5\n",
      "a_0 -5.0004891\n",
      "a_1 -5\n",
      "a_0 -5.0004891\n",
      "a_1 -5\n",
      "a_0 -5.0004891\n",
      "a_1 -5\n"
     ]
    },
    {
     "name": "stderr",
     "output_type": "stream",
     "text": [
      " 23%|██▎       | 1174/5000 [00:22<01:16, 49.73it/s]"
     ]
    },
    {
     "name": "stdout",
     "output_type": "stream",
     "text": [
      "a_0 -5.0004891\n",
      "a_1 -5\n",
      "a_0 -5.0004891\n",
      "a_1 -5.0004891\n",
      "a_0 -5.0004891\n",
      "a_1 -5.0004891\n",
      "a_0 -5.0004891\n",
      "a_1 -5.0004891\n",
      "a_0 -5.0004891\n",
      "a_1 -5.0004891\n",
      "a_0 -5.0004891\n",
      "a_1 -5.0004891\n",
      "a_0 -5.0004891\n",
      "a_1 -5.0004891\n",
      "a_0 -5\n",
      "a_1 -5.0004891\n",
      "a_0 -5\n",
      "a_1 -5.0004891\n",
      "a_0 -5\n",
      "a_1 -5.0004891\n",
      "a_0 -5\n",
      "a_1 -5.0004891\n"
     ]
    },
    {
     "name": "stderr",
     "output_type": "stream",
     "text": [
      " 24%|██▎       | 1186/5000 [00:23<01:13, 51.87it/s]"
     ]
    },
    {
     "name": "stdout",
     "output_type": "stream",
     "text": [
      "a_0 -5\n",
      "a_1 -5.0004891\n",
      "a_0 -5\n",
      "a_1 -5\n",
      "a_0 -5\n",
      "a_1 -5\n",
      "a_0 -5\n",
      "a_1 -5\n",
      "a_0 -5\n",
      "a_1 -5\n",
      "a_0 -5.0004904\n",
      "a_1 -5\n",
      "a_0 -5.0004904\n",
      "a_1 -5\n",
      "a_0 -5.0004904\n",
      "a_1 -5\n",
      "a_0 -5.0004904\n",
      "a_1 -5\n",
      "a_0 -5.0004904\n",
      "a_1 -5\n",
      "a_0 -5.0004904\n",
      "a_1 -5\n",
      "a_0 -5.0004904\n",
      "a_1 -5\n"
     ]
    },
    {
     "name": "stderr",
     "output_type": "stream",
     "text": [
      " 24%|██▍       | 1198/5000 [00:23<01:13, 52.05it/s]"
     ]
    },
    {
     "name": "stdout",
     "output_type": "stream",
     "text": [
      "a_0 -5.0004904\n",
      "a_1 -5\n",
      "a_0 -5.0004904\n",
      "a_1 -5\n",
      "a_0 -5.0004904\n",
      "a_1 -5\n",
      "a_0 -5.0004904\n",
      "a_1 -5\n",
      "a_0 -5.0004904\n",
      "a_1 -5\n",
      "a_0 -5.0004904\n",
      "a_1 -5\n",
      "a_0 -5.0004904\n",
      "a_1 -5.0004891\n",
      "a_0 -5\n",
      "a_1 -5.0004891\n",
      "a_0 -14\n",
      "a_1 -14.0004891\n",
      "a_0 -4\n",
      "a_1 -4.0004891\n",
      "a_0 -4\n",
      "a_1 -4.0004891\n"
     ]
    },
    {
     "name": "stderr",
     "output_type": "stream",
     "text": [
      " 24%|██▍       | 1210/5000 [00:23<01:12, 52.11it/s]"
     ]
    },
    {
     "name": "stdout",
     "output_type": "stream",
     "text": [
      "a_0 -4\n",
      "a_1 -4.0004891\n",
      "a_0 -4\n",
      "a_1 -4.0004891\n",
      "a_0 -4\n",
      "a_1 -4.0004891\n",
      "a_0 -4\n",
      "a_1 -4.0004891\n",
      "a_0 -4\n",
      "a_1 -4.0004891\n",
      "a_0 -4\n",
      "a_1 -4.0004891\n",
      "a_0 -4\n",
      "a_1 -4\n",
      "a_0 -4\n",
      "a_1 -4\n",
      "a_0 -13\n",
      "a_1 -13\n",
      "a_0 -3\n",
      "a_1 -3\n",
      "a_0 -3.0004904\n",
      "a_1 -3.0004904\n"
     ]
    },
    {
     "name": "stderr",
     "output_type": "stream",
     "text": [
      " 24%|██▍       | 1222/5000 [00:23<01:10, 53.26it/s]"
     ]
    },
    {
     "name": "stdout",
     "output_type": "stream",
     "text": [
      "a_0 -3.0004904\n",
      "a_1 -3.0004904\n",
      "a_0 -3.0004904\n",
      "a_1 -3.0004904\n",
      "a_0 -3.0004904\n",
      "a_1 -3.0004904\n",
      "a_0 -3.0004904\n",
      "a_1 -3.0004904\n",
      "a_0 -3.0004904\n",
      "a_1 -3.0004904\n",
      "a_0 -3.0004904\n",
      "a_1 -3.0004904\n",
      "a_0 -3.0004904\n",
      "a_1 -3.0004904\n",
      "a_0 -3.0004904\n",
      "a_1 -3.0004904\n",
      "a_0 -3.0004904\n",
      "a_1 -3.0004904\n",
      "a_0 -3.0004904\n",
      "a_1 -3.0004904\n",
      "a_0 -3.0004904\n",
      "a_1 -3.0004904\n"
     ]
    },
    {
     "name": "stderr",
     "output_type": "stream",
     "text": [
      " 25%|██▍       | 1234/5000 [00:23<01:14, 50.70it/s]"
     ]
    },
    {
     "name": "stdout",
     "output_type": "stream",
     "text": [
      "a_0 -3.0004904\n",
      "a_1 -3.0004904\n",
      "a_0 -3.0004904\n",
      "a_1 -3.0004904\n",
      "a_0 -3\n",
      "a_1 -3\n",
      "a_0 -3\n",
      "a_1 -3\n",
      "a_0 -4\n",
      "a_1 -4\n",
      "a_0 -4\n",
      "a_1 -4\n",
      "a_0 -4\n",
      "a_1 -4\n",
      "a_0 -4\n",
      "a_1 -4\n",
      "a_0 -4\n",
      "a_1 -4\n",
      "a_0 -4\n",
      "a_1 -4\n"
     ]
    },
    {
     "name": "stderr",
     "output_type": "stream",
     "text": [
      " 25%|██▍       | 1240/5000 [00:24<01:15, 50.13it/s]"
     ]
    },
    {
     "name": "stdout",
     "output_type": "stream",
     "text": [
      "a_0 -4\n",
      "a_1 -4\n",
      "a_0 -4\n",
      "a_1 -4\n",
      "a_0 -4\n",
      "a_1 -4\n",
      "a_0 -4\n",
      "a_1 -4\n",
      "a_0 -4\n",
      "a_1 -4\n",
      "a_0 -4\n",
      "a_1 -4\n",
      "a_0 -4\n",
      "a_1 -4\n",
      "a_0 -4\n",
      "a_1 -4\n",
      "a_0 -4\n",
      "a_1 -4\n",
      "a_0 -4\n",
      "a_1 -4.0004031\n",
      "a_0 -4\n",
      "a_1 -4.0004031\n"
     ]
    },
    {
     "name": "stderr",
     "output_type": "stream",
     "text": [
      " 25%|██▌       | 1251/5000 [00:24<01:19, 47.03it/s]"
     ]
    },
    {
     "name": "stdout",
     "output_type": "stream",
     "text": [
      "a_0 -4.0004904\n",
      "a_1 -4.0004031\n",
      "a_0 -4.0004904\n",
      "a_1 -4.0004031\n",
      "a_0 -4.0004904\n",
      "a_1 -4.0004031\n",
      "a_0 -4.0004904\n",
      "a_1 -4\n",
      "a_0 -4.0004904\n",
      "a_1 -4\n",
      "a_0 -4.0004904\n",
      "a_1 -4\n",
      "a_0 -4.0004904\n",
      "a_1 -4.0004891\n",
      "a_0 -4.0004904\n",
      "a_1 -4.0004891\n",
      "a_0 -4.0004904\n",
      "a_1 -4.0004891\n",
      "a_0 -4.0004904\n",
      "a_1 -4.0004891\n",
      "a_0 -4.0004904\n",
      "a_1 -4.0004891\n"
     ]
    },
    {
     "name": "stderr",
     "output_type": "stream",
     "text": [
      " 25%|██▌       | 1262/5000 [00:24<01:17, 48.08it/s]"
     ]
    },
    {
     "name": "stdout",
     "output_type": "stream",
     "text": [
      "a_0 -4.0004904\n",
      "a_1 -4.0004891\n",
      "a_0 -4.0004904\n",
      "a_1 -4.0004891\n",
      "a_0 -4.0004904\n",
      "a_1 -4.0004891\n",
      "a_0 -4\n",
      "a_1 -4.0004891\n",
      "a_0 -4\n",
      "a_1 -4.0004891\n",
      "a_0 -4\n",
      "a_1 -4.0004891\n",
      "a_0 -4\n",
      "a_1 -4\n",
      "a_0 -4.0004904\n",
      "a_1 -4\n",
      "a_0 -4.0004904\n",
      "a_1 -4\n",
      "a_0 -4.0004904\n",
      "a_1 -4\n"
     ]
    },
    {
     "name": "stderr",
     "output_type": "stream",
     "text": [
      " 25%|██▌       | 1274/5000 [00:24<01:13, 50.61it/s]"
     ]
    },
    {
     "name": "stdout",
     "output_type": "stream",
     "text": [
      "a_0 -4.0004904\n",
      "a_1 -4\n",
      "a_0 -4.0004904\n",
      "a_1 -4\n",
      "a_0 -4.0004904\n",
      "a_1 -4\n",
      "a_0 -4.0004904\n",
      "a_1 -4.0004891\n",
      "a_0 -4.0004904\n",
      "a_1 -4.0004891\n",
      "a_0 -4.0004904\n",
      "a_1 -4.0004891\n",
      "a_0 -4.0004904\n",
      "a_1 -4.0004891\n",
      "a_0 -4.0004904\n",
      "a_1 -4.0004891\n",
      "a_0 -4.0004904\n",
      "a_1 -4.0004891\n",
      "a_0 -4.0004904\n",
      "a_1 -4.0004891\n",
      "a_0 -4.0004904\n",
      "a_1 -4.0004891\n"
     ]
    },
    {
     "name": "stderr",
     "output_type": "stream",
     "text": [
      " 26%|██▌       | 1286/5000 [00:25<01:11, 52.02it/s]"
     ]
    },
    {
     "name": "stdout",
     "output_type": "stream",
     "text": [
      "a_0 -4\n",
      "a_1 -4.0004891\n",
      "a_0 -4\n",
      "a_1 -4.0004891\n",
      "a_0 -4\n",
      "a_1 -4.0004891\n",
      "a_0 -4\n",
      "a_1 -4\n",
      "a_0 -4\n",
      "a_1 -4\n",
      "a_0 -4\n",
      "a_1 -4\n",
      "a_0 -4\n",
      "a_1 -4\n",
      "a_0 -4\n",
      "a_1 -4\n",
      "a_0 -4\n",
      "a_1 -4.0004031\n",
      "a_0 -4\n",
      "a_1 -4.0004031\n",
      "a_0 -4\n",
      "a_1 -4.0004031\n"
     ]
    },
    {
     "name": "stderr",
     "output_type": "stream",
     "text": [
      " 26%|██▌       | 1298/5000 [00:25<01:11, 51.83it/s]"
     ]
    },
    {
     "name": "stdout",
     "output_type": "stream",
     "text": [
      "a_0 -4\n",
      "a_1 -4.0004031\n",
      "a_0 -4\n",
      "a_1 -4.0004031\n",
      "a_0 -4\n",
      "a_1 -4\n",
      "a_0 -4\n",
      "a_1 -4\n",
      "a_0 -4.0004904\n",
      "a_1 -4\n",
      "a_0 -4.0004904\n",
      "a_1 -4\n",
      "a_0 -4.0004904\n",
      "a_1 -4\n",
      "a_0 -4.0004904\n",
      "a_1 -4\n",
      "a_0 -4.0004904\n",
      "a_1 -4\n",
      "a_0 -4.0004904\n",
      "a_1 -4\n",
      "a_0 -4.0004904\n",
      "a_1 -4\n"
     ]
    },
    {
     "name": "stderr",
     "output_type": "stream",
     "text": [
      " 26%|██▌       | 1310/5000 [00:25<01:10, 52.49it/s]"
     ]
    },
    {
     "name": "stdout",
     "output_type": "stream",
     "text": [
      "a_0 -4.0004904\n",
      "a_1 -4\n",
      "a_0 -4.0004904\n",
      "a_1 -4\n",
      "a_0 -4.0004904\n",
      "a_1 -4\n",
      "a_0 -4.0004904\n",
      "a_1 -4\n",
      "a_0 -4.0004904\n",
      "a_1 -4\n",
      "a_0 -4.0004904\n",
      "a_1 -4\n",
      "a_0 -4.0004904\n",
      "a_1 -4\n",
      "a_0 -4\n",
      "a_1 -4\n",
      "a_0 -4\n",
      "a_1 -4\n",
      "a_0 -4\n",
      "a_1 -4.0004031\n",
      "a_0 -4\n",
      "a_1 -4.0004031\n"
     ]
    },
    {
     "name": "stderr",
     "output_type": "stream",
     "text": [
      " 26%|██▋       | 1316/5000 [00:25<01:09, 53.06it/s]"
     ]
    },
    {
     "name": "stdout",
     "output_type": "stream",
     "text": [
      "a_0 -4.0004031\n",
      "a_1 -4.0004031\n",
      "a_0 -4.0004031\n",
      "a_1 -4.0004031\n",
      "a_0 -4.0004031\n",
      "a_1 -4.0004031\n",
      "a_0 -4.0004031\n",
      "a_1 -4\n",
      "a_0 -4.0004031\n",
      "a_1 -4\n",
      "a_0 -4\n",
      "a_1 -4\n",
      "a_0 -4\n",
      "a_1 -4\n",
      "a_0 -4\n",
      "a_1 -4.0004031\n",
      "a_0 -4\n",
      "a_1 -4.0004031\n",
      "a_0 -4\n",
      "a_1 -4.0004031\n",
      "a_0 -4\n",
      "a_1 -4.0004031\n"
     ]
    },
    {
     "name": "stderr",
     "output_type": "stream",
     "text": [
      " 27%|██▋       | 1328/5000 [00:25<01:15, 48.88it/s]"
     ]
    },
    {
     "name": "stdout",
     "output_type": "stream",
     "text": [
      "a_0 -4\n",
      "a_1 -4.0004031\n",
      "a_0 -4\n",
      "a_1 -4\n",
      "a_0 -4\n",
      "a_1 -4\n",
      "a_0 -4\n",
      "a_1 -4\n",
      "a_0 -4\n",
      "a_1 -4.0004904\n",
      "a_0 -4\n",
      "a_1 -4.0004904\n",
      "a_0 -4\n",
      "a_1 -4.0004904\n",
      "a_0 -4\n",
      "a_1 -4.0004904\n",
      "a_0 -4\n",
      "a_1 -4.0004904\n",
      "a_0 -4.0004891\n",
      "a_1 -4.0004904\n"
     ]
    },
    {
     "name": "stderr",
     "output_type": "stream",
     "text": [
      " 27%|██▋       | 1340/5000 [00:26<01:12, 50.73it/s]"
     ]
    },
    {
     "name": "stdout",
     "output_type": "stream",
     "text": [
      "a_0 -4.0004891\n",
      "a_1 -4.0004904\n",
      "a_0 -4.0004891\n",
      "a_1 -4.0004904\n",
      "a_0 -4.0004891\n",
      "a_1 -4.0004904\n",
      "a_0 -4.0004891\n",
      "a_1 -4.0004904\n",
      "a_0 -4.0004891\n",
      "a_1 -4.0004904\n",
      "a_0 -4.0004891\n",
      "a_1 -4.0004904\n",
      "a_0 -4.0004891\n",
      "a_1 -4.0004904\n",
      "a_0 -4.0004891\n",
      "a_1 -4.0004904\n",
      "a_0 -4.0004891\n",
      "a_1 -4\n",
      "a_0 -4.0004891\n",
      "a_1 -4\n",
      "a_0 -4\n",
      "a_1 -4\n"
     ]
    },
    {
     "name": "stderr",
     "output_type": "stream",
     "text": [
      " 27%|██▋       | 1352/5000 [00:26<01:11, 50.75it/s]"
     ]
    },
    {
     "name": "stdout",
     "output_type": "stream",
     "text": [
      "a_0 -4\n",
      "a_1 -4\n",
      "a_0 -4\n",
      "a_1 -4\n",
      "a_0 -4\n",
      "a_1 -4\n",
      "a_0 -4\n",
      "a_1 -4\n",
      "a_0 -4\n",
      "a_1 -4\n",
      "a_0 -4\n",
      "a_1 -4\n",
      "a_0 -4\n",
      "a_1 -4\n",
      "a_0 -4\n",
      "a_1 -4\n",
      "a_0 -4\n",
      "a_1 -4\n",
      "a_0 -4\n",
      "a_1 -4\n",
      "a_0 -4.0004904\n",
      "a_1 -4\n"
     ]
    },
    {
     "name": "stderr",
     "output_type": "stream",
     "text": [
      " 27%|██▋       | 1364/5000 [00:26<01:12, 50.48it/s]"
     ]
    },
    {
     "name": "stdout",
     "output_type": "stream",
     "text": [
      "a_0 -4.0004904\n",
      "a_1 -4\n",
      "a_0 -4.0004904\n",
      "a_1 -4\n",
      "a_0 -4.0004904\n",
      "a_1 -4\n",
      "a_0 -4.0004904\n",
      "a_1 -4\n",
      "a_0 -4.0004904\n",
      "a_1 -4\n",
      "a_0 -4.0004904\n",
      "a_1 -4\n",
      "a_0 -4.0004904\n",
      "a_1 -4\n",
      "a_0 -4.0004904\n",
      "a_1 -4\n",
      "a_0 -4.0004904\n",
      "a_1 -4\n",
      "a_0 -4.0004904\n",
      "a_1 -4\n",
      "a_0 -4.0004904\n",
      "a_1 -4\n"
     ]
    },
    {
     "name": "stderr",
     "output_type": "stream",
     "text": [
      " 27%|██▋       | 1370/5000 [00:26<01:11, 50.62it/s]"
     ]
    },
    {
     "name": "stdout",
     "output_type": "stream",
     "text": [
      "a_0 -4.0004904\n",
      "a_1 -4\n",
      "a_0 -4.0004904\n",
      "a_1 -4\n",
      "a_0 -4\n",
      "a_1 -4\n",
      "a_0 -4\n",
      "a_1 -4\n",
      "a_0 -4\n",
      "a_1 -4.0004891\n",
      "a_0 -4.0004031\n",
      "a_1 -4.0004891\n",
      "a_0 -4.0004031\n",
      "a_1 -4.0004891\n",
      "a_0 -4.0004031\n",
      "a_1 -4.0004891\n",
      "a_0 -4.0004031\n",
      "a_1 -4.0004891\n",
      "a_0 -4.0004031\n",
      "a_1 -4.0004891\n",
      "a_0 -4\n",
      "a_1 -4.0004891\n"
     ]
    },
    {
     "name": "stderr",
     "output_type": "stream",
     "text": [
      " 28%|██▊       | 1382/5000 [00:26<01:12, 50.06it/s]"
     ]
    },
    {
     "name": "stdout",
     "output_type": "stream",
     "text": [
      "a_0 -4\n",
      "a_1 -4.0004891\n",
      "a_0 -4\n",
      "a_1 -4.0004891\n",
      "a_0 -4.0004031\n",
      "a_1 -4.0004891\n",
      "a_0 -4.0004031\n",
      "a_1 -4.0004891\n",
      "a_0 -4.0004031\n",
      "a_1 -4\n",
      "a_0 -4.0004031\n",
      "a_1 -4\n",
      "a_0 -4.0004031\n",
      "a_1 -4\n",
      "a_0 -5\n",
      "a_1 -5\n",
      "a_0 -5\n",
      "a_1 -5\n",
      "a_0 -5\n",
      "a_1 -5\n",
      "a_0 -5\n",
      "a_1 -5\n"
     ]
    },
    {
     "name": "stderr",
     "output_type": "stream",
     "text": [
      " 28%|██▊       | 1394/5000 [00:27<01:10, 50.86it/s]"
     ]
    },
    {
     "name": "stdout",
     "output_type": "stream",
     "text": [
      "a_0 -5\n",
      "a_1 -5\n",
      "a_0 -14\n",
      "a_1 -14\n",
      "a_0 -4\n",
      "a_1 -4\n",
      "a_0 -4\n",
      "a_1 -4\n",
      "a_0 -4\n",
      "a_1 -4\n",
      "a_0 -4\n",
      "a_1 -4\n",
      "a_0 -4\n",
      "a_1 -4\n",
      "a_0 -4\n",
      "a_1 -4\n",
      "a_0 -4\n",
      "a_1 -4.0004891\n",
      "a_0 -4\n",
      "a_1 -4.0004891\n",
      "a_0 -4\n",
      "a_1 -4.0004891\n"
     ]
    },
    {
     "name": "stderr",
     "output_type": "stream",
     "text": [
      " 28%|██▊       | 1406/5000 [00:27<01:16, 47.26it/s]"
     ]
    },
    {
     "name": "stdout",
     "output_type": "stream",
     "text": [
      "a_0 -4\n",
      "a_1 -4.0004891\n",
      "a_0 -4\n",
      "a_1 -4.0004891\n",
      "a_0 -4\n",
      "a_1 -4.0004891\n",
      "a_0 -4\n",
      "a_1 -4.0004891\n",
      "a_0 -4\n",
      "a_1 -4.0004891\n",
      "a_0 -4\n",
      "a_1 -4.0004891\n",
      "a_0 -4\n",
      "a_1 -4.0004891\n",
      "a_0 -4\n",
      "a_1 -4.0004891\n",
      "a_0 -4\n",
      "a_1 -4\n"
     ]
    },
    {
     "name": "stderr",
     "output_type": "stream",
     "text": [
      " 28%|██▊       | 1412/5000 [00:27<01:13, 48.59it/s]"
     ]
    },
    {
     "name": "stdout",
     "output_type": "stream",
     "text": [
      "a_0 -4\n",
      "a_1 -4\n",
      "a_0 -4\n",
      "a_1 -4\n",
      "a_0 -4\n",
      "a_1 -4\n",
      "a_0 -4\n",
      "a_1 -4\n",
      "a_0 -4.0004904\n",
      "a_1 -4.0004904\n",
      "a_0 -4.0004904\n",
      "a_1 -4.0004904\n",
      "a_0 -4.0004904\n",
      "a_1 -4.0004904\n",
      "a_0 -4.0004904\n",
      "a_1 -4.0004904\n",
      "a_0 -4.0004904\n",
      "a_1 -4.0004904\n",
      "a_0 -4.0004904\n",
      "a_1 -4.0004904\n",
      "a_0 -4.0004904\n",
      "a_1 -4.0004904\n"
     ]
    },
    {
     "name": "stderr",
     "output_type": "stream",
     "text": [
      " 28%|██▊       | 1424/5000 [00:27<01:11, 50.21it/s]"
     ]
    },
    {
     "name": "stdout",
     "output_type": "stream",
     "text": [
      "a_0 -4.0004904\n",
      "a_1 -4.0004904\n",
      "a_0 -4.0004904\n",
      "a_1 -4.0004904\n",
      "a_0 -4.0004904\n",
      "a_1 -4.0004904\n",
      "a_0 -4.0004904\n",
      "a_1 -4.0004904\n",
      "a_0 -4.0004904\n",
      "a_1 -4.0004904\n",
      "a_0 -4.0004904\n",
      "a_1 -4.0004904\n",
      "a_0 -4.0004904\n",
      "a_1 -4.0004904\n",
      "a_0 -4\n",
      "a_1 -4\n",
      "a_0 -4\n",
      "a_1 -4\n",
      "a_0 -4\n",
      "a_1 -4\n",
      "a_0 -4.0004891\n",
      "a_1 -4.0004031\n"
     ]
    },
    {
     "name": "stderr",
     "output_type": "stream",
     "text": [
      " 29%|██▊       | 1436/5000 [00:27<01:09, 51.43it/s]"
     ]
    },
    {
     "name": "stdout",
     "output_type": "stream",
     "text": [
      "a_0 -4.0004891\n",
      "a_1 -4.0004031\n",
      "a_0 -4.0004891\n",
      "a_1 -4.0004031\n",
      "a_0 -4.0004891\n",
      "a_1 -4.0004031\n",
      "a_0 -4.0004891\n",
      "a_1 -4.0004031\n",
      "a_0 -4.0004891\n",
      "a_1 -4\n",
      "a_0 -4.0004891\n",
      "a_1 -4\n",
      "a_0 -4.0004891\n",
      "a_1 -4\n",
      "a_0 -4.0004891\n",
      "a_1 -4\n",
      "a_0 -4.0004891\n",
      "a_1 -4\n",
      "a_0 -4.0004891\n",
      "a_1 -4\n",
      "a_0 -4\n",
      "a_1 -4\n"
     ]
    },
    {
     "name": "stderr",
     "output_type": "stream",
     "text": [
      " 29%|██▉       | 1448/5000 [00:28<01:09, 51.21it/s]"
     ]
    },
    {
     "name": "stdout",
     "output_type": "stream",
     "text": [
      "a_0 -4\n",
      "a_1 -4\n",
      "a_0 -4\n",
      "a_1 -4\n",
      "a_0 -4\n",
      "a_1 -4\n",
      "a_0 -4\n",
      "a_1 -4\n",
      "a_0 -4\n",
      "a_1 -4\n",
      "a_0 -4\n",
      "a_1 -4\n",
      "a_0 -4\n",
      "a_1 -4\n",
      "a_0 -4\n",
      "a_1 -4\n",
      "a_0 -4\n",
      "a_1 -4\n",
      "a_0 -4\n",
      "a_1 -4\n"
     ]
    },
    {
     "name": "stderr",
     "output_type": "stream",
     "text": [
      " 29%|██▉       | 1460/5000 [00:28<01:08, 51.46it/s]"
     ]
    },
    {
     "name": "stdout",
     "output_type": "stream",
     "text": [
      "a_0 -4\n",
      "a_1 -4.0004891\n",
      "a_0 -4.0004891\n",
      "a_1 -4.0004891\n",
      "a_0 -4.0004891\n",
      "a_1 -4.0004891\n",
      "a_0 -4.0004891\n",
      "a_1 -4.0004891\n",
      "a_0 -4.0004891\n",
      "a_1 -4.0004891\n",
      "a_0 -4.0004891\n",
      "a_1 -4.0004891\n",
      "a_0 -4.0004891\n",
      "a_1 -4.0004891\n",
      "a_0 -4.0004891\n",
      "a_1 -4.0004891\n",
      "a_0 -4.0004891\n",
      "a_1 -4.0004891\n",
      "a_0 -4.0004891\n",
      "a_1 -4.0004891\n",
      "a_0 -4.0004891\n",
      "a_1 -4.0004891\n"
     ]
    },
    {
     "name": "stderr",
     "output_type": "stream",
     "text": [
      " 29%|██▉       | 1466/5000 [00:28<01:09, 51.05it/s]"
     ]
    },
    {
     "name": "stdout",
     "output_type": "stream",
     "text": [
      "a_0 -4.0004891\n",
      "a_1 -4\n",
      "a_0 -4\n",
      "a_1 -4\n",
      "a_0 -4\n",
      "a_1 -4\n",
      "a_0 -4\n",
      "a_1 -4\n",
      "a_0 -4\n",
      "a_1 -4\n",
      "a_0 -4\n",
      "a_1 -4\n",
      "a_0 -4\n",
      "a_1 -4\n",
      "a_0 -4.0004904\n",
      "a_1 -4\n",
      "a_0 -4.0004904\n",
      "a_1 -4\n",
      "a_0 -4.0004904\n",
      "a_1 -4.0004904\n",
      "a_0 -4.0004904\n",
      "a_1 -4.0004904\n"
     ]
    },
    {
     "name": "stderr",
     "output_type": "stream",
     "text": [
      " 30%|██▉       | 1478/5000 [00:28<01:08, 51.22it/s]"
     ]
    },
    {
     "name": "stdout",
     "output_type": "stream",
     "text": [
      "a_0 -4.0004904\n",
      "a_1 -4.0004904\n",
      "a_0 -4.0004904\n",
      "a_1 -4.0004904\n",
      "a_0 -4.0004904\n",
      "a_1 -4.0004904\n",
      "a_0 -4.0004904\n",
      "a_1 -4.0004904\n",
      "a_0 -4.0004904\n",
      "a_1 -4.0004904\n",
      "a_0 -4.0004904\n",
      "a_1 -4.0004904\n",
      "a_0 -4.0004904\n",
      "a_1 -4.0004904\n",
      "a_0 -4.0004904\n",
      "a_1 -4.0004904\n",
      "a_0 -4.0004904\n",
      "a_1 -4.0004904\n",
      "a_0 -4.0004904\n",
      "a_1 -4.0004904\n",
      "a_0 -4\n",
      "a_1 -4.0004904\n"
     ]
    },
    {
     "name": "stderr",
     "output_type": "stream",
     "text": [
      " 30%|██▉       | 1490/5000 [00:29<01:12, 48.14it/s]"
     ]
    },
    {
     "name": "stdout",
     "output_type": "stream",
     "text": [
      "a_0 -4\n",
      "a_1 -4.0004904\n",
      "a_0 -4\n",
      "a_1 -4\n",
      "a_0 -4.0004904\n",
      "a_1 -4\n",
      "a_0 -4.0004904\n",
      "a_1 -4\n",
      "a_0 -4.0004904\n",
      "a_1 -4.0004904\n",
      "a_0 -4.0004904\n",
      "a_1 -4.0004904\n",
      "a_0 -4.0004904\n",
      "a_1 -4.0004904\n",
      "a_0 -4.0004904\n",
      "a_1 -4.0004904\n",
      "a_0 -4.0004904\n",
      "a_1 -4.0004904\n"
     ]
    },
    {
     "name": "stderr",
     "output_type": "stream",
     "text": [
      " 30%|███       | 1502/5000 [00:29<01:09, 50.46it/s]"
     ]
    },
    {
     "name": "stdout",
     "output_type": "stream",
     "text": [
      "a_0 -4.0004904\n",
      "a_1 -4.0004904\n",
      "a_0 -4.0004904\n",
      "a_1 -4.0004904\n",
      "a_0 -4.0004904\n",
      "a_1 -4.0004904\n",
      "a_0 -4.0004904\n",
      "a_1 -4.0004904\n",
      "a_0 -4.0004904\n",
      "a_1 -4.0004904\n",
      "a_0 -4.0004904\n",
      "a_1 -4.0004904\n",
      "a_0 -4.0004904\n",
      "a_1 -4.0004904\n",
      "a_0 -4\n",
      "a_1 -4.0004904\n",
      "a_0 -4\n",
      "a_1 -4.0004904\n",
      "a_0 -4\n",
      "a_1 -4\n",
      "a_0 -4\n",
      "a_1 -4\n"
     ]
    },
    {
     "name": "stderr",
     "output_type": "stream",
     "text": [
      " 30%|███       | 1508/5000 [00:29<01:10, 49.83it/s]"
     ]
    },
    {
     "name": "stdout",
     "output_type": "stream",
     "text": [
      "a_0 -4\n",
      "a_1 -4\n",
      "a_0 -4\n",
      "a_1 -4\n",
      "a_0 -4\n",
      "a_1 -4\n",
      "a_0 -4\n",
      "a_1 -4\n",
      "a_0 -4\n",
      "a_1 -4\n",
      "a_0 -4\n",
      "a_1 -4\n",
      "a_0 -4\n",
      "a_1 -4\n",
      "a_0 -4\n",
      "a_1 -4\n",
      "a_0 -4\n",
      "a_1 -4\n",
      "a_0 -4\n",
      "a_1 -4.0004904\n",
      "a_0 -4\n",
      "a_1 -4.0004904\n"
     ]
    },
    {
     "name": "stderr",
     "output_type": "stream",
     "text": [
      " 30%|███       | 1520/5000 [00:29<01:09, 50.27it/s]"
     ]
    },
    {
     "name": "stdout",
     "output_type": "stream",
     "text": [
      "a_0 -4.0004904\n",
      "a_1 -4.0004904\n",
      "a_0 -4.0004904\n",
      "a_1 -4.0004904\n",
      "a_0 -4.0004904\n",
      "a_1 -4.0004904\n",
      "a_0 -4.0004904\n",
      "a_1 -4.0004904\n",
      "a_0 -4.0004904\n",
      "a_1 -4.0004904\n",
      "a_0 -4.0004904\n",
      "a_1 -4.0004904\n",
      "a_0 -4.0004904\n",
      "a_1 -4.0004904\n",
      "a_0 -4.0004904\n",
      "a_1 -4.0004904\n",
      "a_0 -4.0004904\n",
      "a_1 -4.0004904\n",
      "a_0 -4.0004904\n",
      "a_1 -4.0004904\n",
      "a_0 -4.0004904\n",
      "a_1 -4.0004904\n"
     ]
    },
    {
     "name": "stderr",
     "output_type": "stream",
     "text": [
      " 31%|███       | 1532/5000 [00:29<01:07, 51.59it/s]"
     ]
    },
    {
     "name": "stdout",
     "output_type": "stream",
     "text": [
      "a_0 -4.0004904\n",
      "a_1 -4.0004904\n",
      "a_0 -4.0004904\n",
      "a_1 -4\n",
      "a_0 -4.0004904\n",
      "a_1 -4\n",
      "a_0 -4\n",
      "a_1 -4\n",
      "a_0 -4\n",
      "a_1 -4.0004904\n",
      "a_0 -4\n",
      "a_1 -4.0004904\n",
      "a_0 -4\n",
      "a_1 -4.0004904\n",
      "a_0 -4.0004904\n",
      "a_1 -4.0004904\n",
      "a_0 -4.0004904\n",
      "a_1 -4.0004904\n",
      "a_0 -4.0004904\n",
      "a_1 -4.0004904\n"
     ]
    },
    {
     "name": "stderr",
     "output_type": "stream",
     "text": [
      " 31%|███       | 1544/5000 [00:30<01:08, 50.66it/s]"
     ]
    },
    {
     "name": "stdout",
     "output_type": "stream",
     "text": [
      "a_0 -4.0004904\n",
      "a_1 -4.0004904\n",
      "a_0 -4.0004904\n",
      "a_1 -4.0004904\n",
      "a_0 -4.0004904\n",
      "a_1 -4.0004904\n",
      "a_0 -4.0004904\n",
      "a_1 -4.0004904\n",
      "a_0 -4.0004904\n",
      "a_1 -4.0004904\n",
      "a_0 -4.0004904\n",
      "a_1 -4.0004904\n",
      "a_0 -4.0004904\n",
      "a_1 -4.0004904\n",
      "a_0 -4.0004904\n",
      "a_1 -4.0004904\n",
      "a_0 -4.0004904\n",
      "a_1 -4\n",
      "a_0 -4.0004904\n",
      "a_1 -4\n",
      "a_0 -4.0004904\n",
      "a_1 -4\n"
     ]
    },
    {
     "name": "stderr",
     "output_type": "stream",
     "text": [
      " 31%|███       | 1556/5000 [00:30<01:04, 53.23it/s]"
     ]
    },
    {
     "name": "stdout",
     "output_type": "stream",
     "text": [
      "a_0 -4\n",
      "a_1 -4.0004891\n",
      "a_0 -4\n",
      "a_1 -4.0004891\n",
      "a_0 -4\n",
      "a_1 -4.0004891\n",
      "a_0 -4\n",
      "a_1 -4.0004891\n",
      "a_0 -4\n",
      "a_1 -4.0004891\n",
      "a_0 -4\n",
      "a_1 -4.0004891\n",
      "a_0 -4\n",
      "a_1 -4.0004891\n",
      "a_0 -4\n",
      "a_1 -4.0004891\n",
      "a_0 -4\n",
      "a_1 -4.0004891\n",
      "a_0 -4\n",
      "a_1 -4.0004891\n",
      "a_0 -4\n",
      "a_1 -4.0004891\n",
      "a_0 -4\n",
      "a_1 -4\n"
     ]
    },
    {
     "name": "stderr",
     "output_type": "stream",
     "text": [
      " 31%|███       | 1562/5000 [00:30<01:11, 47.82it/s]"
     ]
    },
    {
     "name": "stdout",
     "output_type": "stream",
     "text": [
      "a_0 -4\n",
      "a_1 -4\n",
      "a_0 -4\n",
      "a_1 -4\n",
      "a_0 -4.0004904\n",
      "a_1 -4\n",
      "a_0 -4.0004904\n",
      "a_1 -4\n",
      "a_0 -4.0004904\n",
      "a_1 -4\n",
      "a_0 -4.0004904\n",
      "a_1 -4\n",
      "a_0 -4.0004904\n",
      "a_1 -4\n",
      "a_0 -4.0004904\n",
      "a_1 -4\n",
      "a_0 -4.0004904\n",
      "a_1 -4\n",
      "a_0 -4.0004904\n",
      "a_1 -4\n"
     ]
    },
    {
     "name": "stderr",
     "output_type": "stream",
     "text": [
      " 31%|███▏      | 1574/5000 [00:30<01:07, 50.72it/s]"
     ]
    },
    {
     "name": "stdout",
     "output_type": "stream",
     "text": [
      "a_0 -4.0004904\n",
      "a_1 -4.0004031\n",
      "a_0 -4.0004904\n",
      "a_1 -4.0004031\n",
      "a_0 -4.0004904\n",
      "a_1 -4.0004031\n",
      "a_0 -4.0004904\n",
      "a_1 -4.0004031\n",
      "a_0 -4.0004904\n",
      "a_1 -4.0004031\n",
      "a_0 -4.0004904\n",
      "a_1 -4\n",
      "a_0 -4\n",
      "a_1 -4\n",
      "a_0 -4\n",
      "a_1 -4\n",
      "a_0 -4\n",
      "a_1 -4.0004904\n",
      "a_0 -4.0004031\n",
      "a_1 -4.0004904\n",
      "a_0 -4.0004031\n",
      "a_1 -4.0004904\n",
      "a_0 -4.0004031\n",
      "a_1 -4.0004904\n"
     ]
    },
    {
     "name": "stderr",
     "output_type": "stream",
     "text": [
      " 32%|███▏      | 1586/5000 [00:30<01:04, 53.27it/s]"
     ]
    },
    {
     "name": "stdout",
     "output_type": "stream",
     "text": [
      "a_0 -4.0004031\n",
      "a_1 -4.0004904\n",
      "a_0 -4.0004031\n",
      "a_1 -4.0004904\n",
      "a_0 -4\n",
      "a_1 -4.0004904\n",
      "a_0 -4\n",
      "a_1 -4.0004904\n",
      "a_0 -4\n",
      "a_1 -4.0004904\n",
      "a_0 -4.0004891\n",
      "a_1 -4.0004904\n",
      "a_0 -4.0004891\n",
      "a_1 -4.0004904\n",
      "a_0 -4.0004891\n",
      "a_1 -4.0004904\n",
      "a_0 -4.0004891\n",
      "a_1 -4.0004904\n",
      "a_0 -4.0004891\n",
      "a_1 -4.0004904\n",
      "a_0 -4.0004891\n",
      "a_1 -4\n",
      "a_0 -4.0004891\n",
      "a_1 -4\n"
     ]
    },
    {
     "name": "stderr",
     "output_type": "stream",
     "text": [
      " 32%|███▏      | 1598/5000 [00:31<01:03, 53.36it/s]"
     ]
    },
    {
     "name": "stdout",
     "output_type": "stream",
     "text": [
      "a_0 -4.0004891\n",
      "a_1 -4\n",
      "a_0 -4.0004891\n",
      "a_1 -4.0004891\n",
      "a_0 -4.0004891\n",
      "a_1 -4.0004891\n",
      "a_0 -4.0004891\n",
      "a_1 -4.0004891\n",
      "a_0 -4\n",
      "a_1 -4.0004891\n",
      "a_0 -4\n",
      "a_1 -4.0004891\n",
      "a_0 -4\n",
      "a_1 -4.0004891\n",
      "a_0 -4\n",
      "a_1 -4.0004891\n",
      "a_0 -4\n",
      "a_1 -4.0004891\n",
      "a_0 -4\n",
      "a_1 -4.0004891\n",
      "a_0 -4\n",
      "a_1 -4.0004891\n"
     ]
    },
    {
     "name": "stderr",
     "output_type": "stream",
     "text": [
      " 32%|███▏      | 1610/5000 [00:31<01:02, 54.15it/s]"
     ]
    },
    {
     "name": "stdout",
     "output_type": "stream",
     "text": [
      "a_0 -4\n",
      "a_1 -4.0004891\n",
      "a_0 -4\n",
      "a_1 -4\n",
      "a_0 -4\n",
      "a_1 -4\n",
      "a_0 -4\n",
      "a_1 -4\n",
      "a_0 -4\n",
      "a_1 -4\n",
      "a_0 -4\n",
      "a_1 -4\n",
      "a_0 -4\n",
      "a_1 -4\n",
      "a_0 -4\n",
      "a_1 -4\n",
      "a_0 -4\n",
      "a_1 -4\n",
      "a_0 -4\n",
      "a_1 -4\n",
      "a_0 -4\n",
      "a_1 -4\n"
     ]
    },
    {
     "name": "stderr",
     "output_type": "stream",
     "text": [
      " 32%|███▏      | 1623/5000 [00:31<01:00, 55.74it/s]"
     ]
    },
    {
     "name": "stdout",
     "output_type": "stream",
     "text": [
      "a_0 -4.0004904\n",
      "a_1 -4\n",
      "a_0 -4.0004904\n",
      "a_1 -4\n",
      "a_0 -4.0004904\n",
      "a_1 -4\n",
      "a_0 -4.0004904\n",
      "a_1 -4\n",
      "a_0 -4.0004904\n",
      "a_1 -4.0004891\n",
      "a_0 -4.0004904\n",
      "a_1 -4.0004891\n",
      "a_0 -4.0004904\n",
      "a_1 -4.0004891\n",
      "a_0 -4.0004904\n",
      "a_1 -4.0004891\n",
      "a_0 -4.0004904\n",
      "a_1 -4.0004891\n",
      "a_0 -4.0004904\n",
      "a_1 -4.0004891\n",
      "a_0 -4.0004904\n",
      "a_1 -4.0004891\n",
      "a_0 -4.0004904\n",
      "a_1 -4.0004891\n"
     ]
    },
    {
     "name": "stderr",
     "output_type": "stream",
     "text": [
      " 33%|███▎      | 1635/5000 [00:31<01:00, 55.47it/s]"
     ]
    },
    {
     "name": "stdout",
     "output_type": "stream",
     "text": [
      "a_0 -4.0004904\n",
      "a_1 -4.0004891\n",
      "a_0 -4.0004904\n",
      "a_1 -4.0004891\n",
      "a_0 -4\n",
      "a_1 -4.0004891\n",
      "a_0 -4\n",
      "a_1 -4\n",
      "a_0 -4\n",
      "a_1 -4\n",
      "a_0 -4\n",
      "a_1 -4\n",
      "a_0 -4\n",
      "a_1 -4.0004891\n",
      "a_0 -4\n",
      "a_1 -4.0004891\n",
      "a_0 -4\n",
      "a_1 -4.0004891\n",
      "a_0 -4\n",
      "a_1 -4.0004891\n",
      "a_0 -4\n",
      "a_1 -4.0004891\n",
      "a_0 -4\n",
      "a_1 -4.0004891\n"
     ]
    },
    {
     "name": "stderr",
     "output_type": "stream",
     "text": [
      " 33%|███▎      | 1641/5000 [00:31<01:06, 50.69it/s]"
     ]
    },
    {
     "name": "stdout",
     "output_type": "stream",
     "text": [
      "a_0 -4\n",
      "a_1 -4.0004891\n",
      "a_0 -4\n",
      "a_1 -4.0004891\n",
      "a_0 -4\n",
      "a_1 -4.0004891\n",
      "a_0 -4\n",
      "a_1 -4.0004891\n",
      "a_0 -4\n",
      "a_1 -4.0004891\n",
      "a_0 -13\n",
      "a_1 -13\n",
      "a_0 -3\n",
      "a_1 -3\n",
      "a_0 -3\n",
      "a_1 -3\n",
      "a_0 -3\n",
      "a_1 -3\n"
     ]
    },
    {
     "name": "stderr",
     "output_type": "stream",
     "text": [
      " 33%|███▎      | 1653/5000 [00:32<01:07, 49.61it/s]"
     ]
    },
    {
     "name": "stdout",
     "output_type": "stream",
     "text": [
      "a_0 -3\n",
      "a_1 -3\n",
      "a_0 -3\n",
      "a_1 -3.0004891000000002\n",
      "a_0 -3\n",
      "a_1 -3.0004891000000002\n",
      "a_0 -3\n",
      "a_1 -3.0004891000000002\n",
      "a_0 -3\n",
      "a_1 -3.0004891000000002\n",
      "a_0 -3\n",
      "a_1 -3.0004891000000002\n",
      "a_0 -3\n",
      "a_1 -3.0004891000000002\n",
      "a_0 -3\n",
      "a_1 -3.0004891000000002\n",
      "a_0 -3\n",
      "a_1 -3.0004891000000002\n",
      "a_0 -3\n",
      "a_1 -3.0004891000000002\n",
      "a_0 -3\n",
      "a_1 -3.0004891000000002\n"
     ]
    },
    {
     "name": "stderr",
     "output_type": "stream",
     "text": [
      " 33%|███▎      | 1665/5000 [00:32<01:06, 50.49it/s]"
     ]
    },
    {
     "name": "stdout",
     "output_type": "stream",
     "text": [
      "a_0 -3.0004030999999998\n",
      "a_1 -3.0004891000000002\n",
      "a_0 -3.0004030999999998\n",
      "a_1 -3\n",
      "a_0 -3.0004030999999998\n",
      "a_1 -3\n",
      "a_0 -3.0004030999999998\n",
      "a_1 -3\n",
      "a_0 -3.0004030999999998\n",
      "a_1 -3\n",
      "a_0 -3\n",
      "a_1 -3\n",
      "a_0 -3\n",
      "a_1 -3\n",
      "a_0 -3\n",
      "a_1 -3\n",
      "a_0 -3\n",
      "a_1 -3\n",
      "a_0 -3\n",
      "a_1 -3\n",
      "a_0 -3\n",
      "a_1 -3\n"
     ]
    },
    {
     "name": "stderr",
     "output_type": "stream",
     "text": [
      " 34%|███▎      | 1677/5000 [00:32<01:06, 49.71it/s]"
     ]
    },
    {
     "name": "stdout",
     "output_type": "stream",
     "text": [
      "a_0 -3\n",
      "a_1 -3\n",
      "a_0 -3\n",
      "a_1 -3\n",
      "a_0 -3\n",
      "a_1 -3\n",
      "a_0 -3\n",
      "a_1 -3\n",
      "a_0 -3\n",
      "a_1 -3.0004904\n",
      "a_0 -3\n",
      "a_1 -3.0004904\n",
      "a_0 -3\n",
      "a_1 -3.0004904\n",
      "a_0 -3\n",
      "a_1 -3.0004904\n",
      "a_0 -3\n",
      "a_1 -3.0004904\n",
      "a_0 -3\n",
      "a_1 -3.0004904\n"
     ]
    },
    {
     "name": "stderr",
     "output_type": "stream",
     "text": [
      " 34%|███▍      | 1688/5000 [00:32<01:06, 50.18it/s]"
     ]
    },
    {
     "name": "stdout",
     "output_type": "stream",
     "text": [
      "a_0 -3\n",
      "a_1 -3.0004904\n",
      "a_0 -3\n",
      "a_1 -3.0004904\n",
      "a_0 -3\n",
      "a_1 -3.0004904\n",
      "a_0 -3\n",
      "a_1 -3.0004904\n",
      "a_0 -3\n",
      "a_1 -3.0004904\n",
      "a_0 -3.0004891000000002\n",
      "a_1 -3.0004904\n",
      "a_0 -3.0004891000000002\n",
      "a_1 -3.0004904\n",
      "a_0 -3.0004891000000002\n",
      "a_1 -3.0004904\n",
      "a_0 -3.0004891000000002\n",
      "a_1 -3\n",
      "a_0 -3.0004891000000002\n",
      "a_1 -3\n",
      "a_0 -3.0004891000000002\n",
      "a_1 -3\n"
     ]
    },
    {
     "name": "stderr",
     "output_type": "stream",
     "text": [
      " 34%|███▍      | 1699/5000 [00:33<01:07, 48.55it/s]"
     ]
    },
    {
     "name": "stdout",
     "output_type": "stream",
     "text": [
      "a_0 -3.0004891000000002\n",
      "a_1 -3.0004904\n",
      "a_0 -3.0004891000000002\n",
      "a_1 -3.0004904\n",
      "a_0 -3.0004891000000002\n",
      "a_1 -3.0004904\n",
      "a_0 -3.0004891000000002\n",
      "a_1 -3.0004904\n",
      "a_0 -3.0004891000000002\n",
      "a_1 -3.0004904\n",
      "a_0 -3\n",
      "a_1 -3.0004904\n",
      "a_0 -3\n",
      "a_1 -3.0004904\n",
      "a_0 -3\n",
      "a_1 -3.0004904\n",
      "a_0 -3\n",
      "a_1 -3.0004904\n",
      "a_0 -3.0004904\n",
      "a_1 -3.0004904\n"
     ]
    },
    {
     "name": "stderr",
     "output_type": "stream",
     "text": [
      " 34%|███▍      | 1705/5000 [00:33<01:06, 49.42it/s]"
     ]
    },
    {
     "name": "stdout",
     "output_type": "stream",
     "text": [
      "a_0 -3.0004904\n",
      "a_1 -3.0004904\n",
      "a_0 -3.0004904\n",
      "a_1 -3.0004904\n",
      "a_0 -3.0004904\n",
      "a_1 -3.0004904\n",
      "a_0 -3.0004904\n",
      "a_1 -3.0004904\n",
      "a_0 -3.0004904\n",
      "a_1 -3\n",
      "a_0 -3.0004904\n",
      "a_1 -3\n",
      "a_0 -3.0004904\n",
      "a_1 -3\n",
      "a_0 -3.0004904\n",
      "a_1 -3\n",
      "a_0 -3.0004904\n",
      "a_1 -3.0004891000000002\n"
     ]
    },
    {
     "name": "stderr",
     "output_type": "stream",
     "text": [
      " 34%|███▍      | 1715/5000 [00:33<01:11, 45.72it/s]"
     ]
    },
    {
     "name": "stdout",
     "output_type": "stream",
     "text": [
      "a_0 -3.0004904\n",
      "a_1 -3.0004891000000002\n",
      "a_0 -3.0004904\n",
      "a_1 -3.0004891000000002\n",
      "a_0 -3.0004904\n",
      "a_1 -3.0004891000000002\n",
      "a_0 -3.0004904\n",
      "a_1 -3.0004891000000002\n",
      "a_0 -3\n",
      "a_1 -3.0004891000000002\n",
      "a_0 -3\n",
      "a_1 -3.0004891000000002\n",
      "a_0 -3\n",
      "a_1 -3.0004891000000002\n",
      "a_0 -3\n",
      "a_1 -3.0004891000000002\n",
      "a_0 -3\n",
      "a_1 -3.0004891000000002\n",
      "a_0 -3\n",
      "a_1 -3.0004891000000002\n"
     ]
    },
    {
     "name": "stderr",
     "output_type": "stream",
     "text": [
      " 35%|███▍      | 1726/5000 [00:33<01:08, 47.52it/s]"
     ]
    },
    {
     "name": "stdout",
     "output_type": "stream",
     "text": [
      "a_0 -3\n",
      "a_1 -3\n",
      "a_0 -3\n",
      "a_1 -3\n",
      "a_0 -3\n",
      "a_1 -3\n",
      "a_0 -3\n",
      "a_1 -3\n",
      "a_0 -3\n",
      "a_1 -3\n",
      "a_0 -3\n",
      "a_1 -3\n",
      "a_0 -3\n",
      "a_1 -3\n",
      "a_0 -3\n",
      "a_1 -3\n",
      "a_0 -3\n",
      "a_1 -3\n",
      "a_0 -3\n",
      "a_1 -3\n"
     ]
    },
    {
     "name": "stderr",
     "output_type": "stream",
     "text": [
      " 35%|███▍      | 1736/5000 [00:33<01:09, 47.28it/s]"
     ]
    },
    {
     "name": "stdout",
     "output_type": "stream",
     "text": [
      "a_0 -3\n",
      "a_1 -3\n",
      "a_0 -3\n",
      "a_1 -3\n",
      "a_0 -3\n",
      "a_1 -3\n",
      "a_0 -3\n",
      "a_1 -3\n",
      "a_0 -3\n",
      "a_1 -3\n",
      "a_0 -3\n",
      "a_1 -3\n",
      "a_0 -3\n",
      "a_1 -3\n",
      "a_0 -3\n",
      "a_1 -3\n",
      "a_0 -3.0004030999999998\n",
      "a_1 -3\n",
      "a_0 -3.0004030999999998\n",
      "a_1 -3.0004030999999998\n"
     ]
    },
    {
     "name": "stderr",
     "output_type": "stream",
     "text": [
      " 35%|███▍      | 1747/5000 [00:34<01:07, 48.54it/s]"
     ]
    },
    {
     "name": "stdout",
     "output_type": "stream",
     "text": [
      "a_0 -3.0004030999999998\n",
      "a_1 -3.0004030999999998\n",
      "a_0 -3.0004030999999998\n",
      "a_1 -3.0004030999999998\n",
      "a_0 -3.0004030999999998\n",
      "a_1 -3.0004030999999998\n",
      "a_0 -3\n",
      "a_1 -3.0004030999999998\n",
      "a_0 -3\n",
      "a_1 -3\n",
      "a_0 -3\n",
      "a_1 -3\n",
      "a_0 -3\n",
      "a_1 -3\n",
      "a_0 -3\n",
      "a_1 -3\n",
      "a_0 -3\n",
      "a_1 -3\n",
      "a_0 -3\n",
      "a_1 -3\n",
      "a_0 -3\n",
      "a_1 -3\n"
     ]
    },
    {
     "name": "stderr",
     "output_type": "stream",
     "text": [
      " 35%|███▌      | 1759/5000 [00:34<01:03, 51.03it/s]"
     ]
    },
    {
     "name": "stdout",
     "output_type": "stream",
     "text": [
      "a_0 -3\n",
      "a_1 -3\n",
      "a_0 -3.0004891000000002\n",
      "a_1 -3\n",
      "a_0 -3.0004891000000002\n",
      "a_1 -3\n",
      "a_0 -3.0004891000000002\n",
      "a_1 -3\n",
      "a_0 -3.0004891000000002\n",
      "a_1 -3\n",
      "a_0 -3.0004891000000002\n",
      "a_1 -3.0004904\n",
      "a_0 -3.0004891000000002\n",
      "a_1 -3.0004904\n",
      "a_0 -3.0004891000000002\n",
      "a_1 -3.0004904\n",
      "a_0 -3.0004891000000002\n",
      "a_1 -3.0004904\n",
      "a_0 -3.0004891000000002\n",
      "a_1 -3.0004904\n",
      "a_0 -3.0004891000000002\n",
      "a_1 -3.0004904\n"
     ]
    },
    {
     "name": "stderr",
     "output_type": "stream",
     "text": [
      " 35%|███▌      | 1771/5000 [00:34<01:03, 50.87it/s]"
     ]
    },
    {
     "name": "stdout",
     "output_type": "stream",
     "text": [
      "a_0 -3.0004891000000002\n",
      "a_1 -3.0004904\n",
      "a_0 -3\n",
      "a_1 -3.0004904\n",
      "a_0 -3\n",
      "a_1 -3.0004904\n",
      "a_0 -3\n",
      "a_1 -3.0004904\n",
      "a_0 -3\n",
      "a_1 -3.0004904\n",
      "a_0 -3\n",
      "a_1 -3.0004904\n",
      "a_0 -3\n",
      "a_1 -3.0004904\n",
      "a_0 -3\n",
      "a_1 -3.0004904\n",
      "a_0 -3\n",
      "a_1 -3\n",
      "a_0 -3.0004891000000002\n",
      "a_1 -3\n",
      "a_0 -3.0004891000000002\n",
      "a_1 -3\n"
     ]
    },
    {
     "name": "stderr",
     "output_type": "stream",
     "text": [
      " 36%|███▌      | 1777/5000 [00:34<01:04, 49.64it/s]"
     ]
    },
    {
     "name": "stdout",
     "output_type": "stream",
     "text": [
      "a_0 -3.0004891000000002\n",
      "a_1 -3.0004891000000002\n",
      "a_0 -3.0004891000000002\n",
      "a_1 -3.0004891000000002\n",
      "a_0 -3.0004891000000002\n",
      "a_1 -3.0004891000000002\n",
      "a_0 -3.0004891000000002\n",
      "a_1 -3.0004891000000002\n",
      "a_0 -3.0004891000000002\n",
      "a_1 -3.0004891000000002\n",
      "a_0 -3.0004891000000002\n",
      "a_1 -3.0004891000000002\n",
      "a_0 -3.0004891000000002\n",
      "a_1 -3.0004891000000002\n",
      "a_0 -3.0004891000000002\n",
      "a_1 -3.0004891000000002\n",
      "a_0 -3.0004891000000002\n",
      "a_1 -3.0004891000000002\n",
      "a_0 -3\n",
      "a_1 -3.0004891000000002\n"
     ]
    },
    {
     "name": "stderr",
     "output_type": "stream",
     "text": [
      " 36%|███▌      | 1787/5000 [00:34<01:09, 46.45it/s]"
     ]
    },
    {
     "name": "stdout",
     "output_type": "stream",
     "text": [
      "a_0 -3\n",
      "a_1 -3.0004891000000002\n",
      "a_0 -3\n",
      "a_1 -3\n",
      "a_0 -3\n",
      "a_1 -3\n",
      "a_0 -3.0004030999999998\n",
      "a_1 -3\n",
      "a_0 -3.0004030999999998\n",
      "a_1 -3\n",
      "a_0 -3.0004030999999998\n",
      "a_1 -3.0004891000000002\n",
      "a_0 -3.0004030999999998\n",
      "a_1 -3.0004891000000002\n",
      "a_0 -4.0004031\n",
      "a_1 -4.0004891\n",
      "a_0 -4\n",
      "a_1 -4.0004891\n",
      "a_0 -4\n",
      "a_1 -4.0004891\n"
     ]
    },
    {
     "name": "stderr",
     "output_type": "stream",
     "text": [
      " 36%|███▌      | 1798/5000 [00:35<01:07, 47.64it/s]"
     ]
    },
    {
     "name": "stdout",
     "output_type": "stream",
     "text": [
      "a_0 -4\n",
      "a_1 -4.0004891\n",
      "a_0 -4.0004031\n",
      "a_1 -4.0004891\n",
      "a_0 -4.0004031\n",
      "a_1 -4.0004891\n",
      "a_0 -4.0004031\n",
      "a_1 -4.0004891\n",
      "a_0 -4.0004031\n",
      "a_1 -4.0004891\n",
      "a_0 -4.0004031\n",
      "a_1 -4.0004891\n",
      "a_0 -4\n",
      "a_1 -4\n",
      "a_0 -4\n",
      "a_1 -4\n",
      "a_0 -4\n",
      "a_1 -4\n",
      "a_0 -4\n",
      "a_1 -4\n",
      "a_0 -4.0004891\n",
      "a_1 -4\n"
     ]
    },
    {
     "name": "stderr",
     "output_type": "stream",
     "text": [
      " 36%|███▌      | 1810/5000 [00:35<01:04, 49.41it/s]"
     ]
    },
    {
     "name": "stdout",
     "output_type": "stream",
     "text": [
      "a_0 -4.0004891\n",
      "a_1 -4\n",
      "a_0 -4.0004891\n",
      "a_1 -4.0004891\n",
      "a_0 -4.0004891\n",
      "a_1 -4.0004891\n",
      "a_0 -4.0004891\n",
      "a_1 -4.0004891\n",
      "a_0 -4.0004891\n",
      "a_1 -4.0004891\n",
      "a_0 -4.0004891\n",
      "a_1 -4.0004891\n",
      "a_0 -4.0004891\n",
      "a_1 -4.0004891\n",
      "a_0 -4.0004891\n",
      "a_1 -4.0004891\n",
      "a_0 -4.0004891\n",
      "a_1 -4.0004891\n",
      "a_0 -4.0004891\n",
      "a_1 -4.0004891\n"
     ]
    },
    {
     "name": "stderr",
     "output_type": "stream",
     "text": [
      " 36%|███▋      | 1821/5000 [00:35<01:03, 49.70it/s]"
     ]
    },
    {
     "name": "stdout",
     "output_type": "stream",
     "text": [
      "a_0 -4\n",
      "a_1 -4.0004891\n",
      "a_0 -4\n",
      "a_1 -4.0004891\n",
      "a_0 -4\n",
      "a_1 -4\n",
      "a_0 -4\n",
      "a_1 -4\n",
      "a_0 -4.0004891\n",
      "a_1 -4\n",
      "a_0 -4.0004891\n",
      "a_1 -4.0004031\n",
      "a_0 -4.0004891\n",
      "a_1 -4.0004031\n",
      "a_0 -4.0004891\n",
      "a_1 -4.0004031\n",
      "a_0 -4.0004891\n",
      "a_1 -4.0004031\n",
      "a_0 -4.0004891\n",
      "a_1 -4.0004031\n",
      "a_0 -4.0004891\n",
      "a_1 -4\n"
     ]
    },
    {
     "name": "stderr",
     "output_type": "stream",
     "text": [
      " 37%|███▋      | 1833/5000 [00:35<00:59, 53.27it/s]"
     ]
    },
    {
     "name": "stdout",
     "output_type": "stream",
     "text": [
      "a_0 -4.0004891\n",
      "a_1 -4\n",
      "a_0 -4.0004891\n",
      "a_1 -4\n",
      "a_0 -4.0004891\n",
      "a_1 -4.0004031\n",
      "a_0 -4.0004891\n",
      "a_1 -4.0004031\n",
      "a_0 -4\n",
      "a_1 -4.0004031\n",
      "a_0 -4\n",
      "a_1 -4.0004031\n",
      "a_0 -4\n",
      "a_1 -4.0004031\n",
      "a_0 -4\n",
      "a_1 -4\n",
      "a_0 -4.0004891\n",
      "a_1 -4\n",
      "a_0 -4.0004891\n",
      "a_1 -4\n",
      "a_0 -4.0004891\n",
      "a_1 -4.0004891\n"
     ]
    },
    {
     "name": "stderr",
     "output_type": "stream",
     "text": [
      " 37%|███▋      | 1839/5000 [00:36<01:08, 46.13it/s]"
     ]
    },
    {
     "name": "stdout",
     "output_type": "stream",
     "text": [
      "a_0 -4.0004891\n",
      "a_1 -4.0004891\n",
      "a_0 -4.0004891\n",
      "a_1 -4.0004891\n",
      "a_0 -4.0004891\n",
      "a_1 -4.0004891\n",
      "a_0 -4.0004891\n",
      "a_1 -4.0004891\n",
      "a_0 -4.0004891\n",
      "a_1 -4.0004891\n",
      "a_0 -4.0004891\n",
      "a_1 -4.0004891\n",
      "a_0 -4.0004891\n",
      "a_1 -4.0004891\n",
      "a_0 -4.0004891\n",
      "a_1 -4.0004891\n"
     ]
    },
    {
     "name": "stderr",
     "output_type": "stream",
     "text": [
      " 37%|███▋      | 1850/5000 [00:36<01:05, 48.15it/s]"
     ]
    },
    {
     "name": "stdout",
     "output_type": "stream",
     "text": [
      "a_0 -4\n",
      "a_1 -4.0004891\n",
      "a_0 -4\n",
      "a_1 -4.0004891\n",
      "a_0 -4\n",
      "a_1 -4\n",
      "a_0 -4.0004904\n",
      "a_1 -4\n",
      "a_0 -4.0004904\n",
      "a_1 -4\n",
      "a_0 -4.0004904\n",
      "a_1 -4.0004904\n",
      "a_0 -4.0004904\n",
      "a_1 -4.0004904\n",
      "a_0 -4.0004904\n",
      "a_1 -4.0004904\n",
      "a_0 -4.0004904\n",
      "a_1 -4.0004904\n"
     ]
    },
    {
     "name": "stderr",
     "output_type": "stream",
     "text": [
      " 37%|███▋      | 1861/5000 [00:36<01:10, 44.75it/s]"
     ]
    },
    {
     "name": "stdout",
     "output_type": "stream",
     "text": [
      "a_0 -4.0004904\n",
      "a_1 -4.0004904\n",
      "a_0 -4.0004904\n",
      "a_1 -4.0004904\n",
      "a_0 -4.0004904\n",
      "a_1 -4.0004904\n",
      "a_0 -4.0004904\n",
      "a_1 -4.0004904\n",
      "a_0 -4.0004904\n",
      "a_1 -4.0004904\n",
      "a_0 -4.0004904\n",
      "a_1 -4.0004904\n",
      "a_0 -4.0004904\n",
      "a_1 -4.0004904\n",
      "a_0 -4.0004904\n",
      "a_1 -4.0004904\n",
      "a_0 -4\n",
      "a_1 -4.0004904\n",
      "a_0 -4\n",
      "a_1 -4.0004904\n",
      "a_0 -4\n",
      "a_1 -4\n"
     ]
    },
    {
     "name": "stderr",
     "output_type": "stream",
     "text": [
      " 37%|███▋      | 1866/5000 [00:36<01:10, 44.59it/s]"
     ]
    },
    {
     "name": "stdout",
     "output_type": "stream",
     "text": [
      "a_0 -4\n",
      "a_1 -4\n",
      "a_0 -4.0004031\n",
      "a_1 -4\n",
      "a_0 -4.0004031\n",
      "a_1 -4\n",
      "a_0 -4.0004031\n",
      "a_1 -4.0004031\n",
      "a_0 -4.0004031\n",
      "a_1 -4.0004031\n",
      "a_0 -4.0004031\n",
      "a_1 -4.0004031\n",
      "a_0 -4\n",
      "a_1 -4.0004031\n",
      "a_0 -4\n",
      "a_1 -4.0004031\n"
     ]
    },
    {
     "name": "stderr",
     "output_type": "stream",
     "text": [
      " 38%|███▊      | 1876/5000 [00:36<01:12, 43.11it/s]"
     ]
    },
    {
     "name": "stdout",
     "output_type": "stream",
     "text": [
      "a_0 -4\n",
      "a_1 -4\n",
      "a_0 -4\n",
      "a_1 -4\n",
      "a_0 -4.0004891\n",
      "a_1 -4\n",
      "a_0 -4.0004891\n",
      "a_1 -4.0004891\n",
      "a_0 -4.0004891\n",
      "a_1 -4.0004891\n",
      "a_0 -4.0004891\n",
      "a_1 -4.0004891\n",
      "a_0 -4.0004891\n",
      "a_1 -4.0004891\n",
      "a_0 -4.0004891\n",
      "a_1 -4.0004891\n",
      "a_0 -4.0004891\n",
      "a_1 -4.0004891\n",
      "a_0 -4.0004891\n",
      "a_1 -4.0004891\n"
     ]
    },
    {
     "name": "stderr",
     "output_type": "stream",
     "text": [
      " 38%|███▊      | 1887/5000 [00:37<01:09, 44.48it/s]"
     ]
    },
    {
     "name": "stdout",
     "output_type": "stream",
     "text": [
      "a_0 -4.0004891\n",
      "a_1 -4.0004891\n",
      "a_0 -4.0004891\n",
      "a_1 -4.0004891\n",
      "a_0 -4.0004891\n",
      "a_1 -4.0004891\n",
      "a_0 -4\n",
      "a_1 -4.0004891\n",
      "a_0 -4\n",
      "a_1 -4\n",
      "a_0 -4\n",
      "a_1 -4\n",
      "a_0 -4\n",
      "a_1 -4\n",
      "a_0 -4\n",
      "a_1 -4\n",
      "a_0 -4\n",
      "a_1 -4\n"
     ]
    },
    {
     "name": "stderr",
     "output_type": "stream",
     "text": [
      " 38%|███▊      | 1897/5000 [00:37<01:19, 39.00it/s]"
     ]
    },
    {
     "name": "stdout",
     "output_type": "stream",
     "text": [
      "a_0 -4\n",
      "a_1 -4\n",
      "a_0 -4\n",
      "a_1 -4\n",
      "a_0 -4\n",
      "a_1 -4\n",
      "a_0 -4\n",
      "a_1 -4\n",
      "a_0 -4\n",
      "a_1 -4\n",
      "a_0 -4.0004904\n",
      "a_1 -4\n",
      "a_0 -4.0004904\n",
      "a_1 -4\n",
      "a_0 -4.0004904\n",
      "a_1 -4.0004904\n"
     ]
    },
    {
     "name": "stderr",
     "output_type": "stream",
     "text": [
      " 38%|███▊      | 1902/5000 [00:37<01:16, 40.35it/s]"
     ]
    },
    {
     "name": "stdout",
     "output_type": "stream",
     "text": [
      "a_0 -4.0004904\n",
      "a_1 -4.0004904\n",
      "a_0 -4.0004904\n",
      "a_1 -4.0004904\n",
      "a_0 -4.0004904\n",
      "a_1 -4.0004904\n",
      "a_0 -4.0004904\n",
      "a_1 -4.0004904\n",
      "a_0 -4.0004904\n",
      "a_1 -4.0004904\n",
      "a_0 -4.0004904\n",
      "a_1 -4.0004904\n",
      "a_0 -4.0004904\n",
      "a_1 -4.0004904\n",
      "a_0 -4.0004904\n",
      "a_1 -4.0004904\n"
     ]
    },
    {
     "name": "stderr",
     "output_type": "stream",
     "text": [
      " 38%|███▊      | 1912/5000 [00:37<01:20, 38.47it/s]"
     ]
    },
    {
     "name": "stdout",
     "output_type": "stream",
     "text": [
      "a_0 -4.0004904\n",
      "a_1 -4.0004904\n",
      "a_0 -4.0004904\n",
      "a_1 -4.0004904\n",
      "a_0 -4.0004904\n",
      "a_1 -4.0004904\n",
      "a_0 -4\n",
      "a_1 -4.0004904\n",
      "a_0 -4\n",
      "a_1 -4.0004904\n",
      "a_0 -4\n",
      "a_1 -4\n",
      "a_0 -4\n",
      "a_1 -4\n",
      "a_0 -4\n",
      "a_1 -4\n",
      "a_0 -4\n",
      "a_1 -4.0004904\n"
     ]
    },
    {
     "name": "stderr",
     "output_type": "stream",
     "text": [
      " 38%|███▊      | 1920/5000 [00:37<01:00, 50.54it/s]\n"
     ]
    },
    {
     "name": "stdout",
     "output_type": "stream",
     "text": [
      "a_0 -4\n",
      "a_1 -4.0004904\n",
      "a_0 -4\n",
      "a_1 -4.0004904\n",
      "a_0 -4\n",
      "a_1 -4.0004904\n",
      "a_0 -4\n",
      "a_1 -4.0004904\n",
      "a_0 -4\n",
      "a_1 -4.0004904\n",
      "a_0 -4\n",
      "a_1 -4.0004904\n"
     ]
    },
    {
     "ename": "KeyboardInterrupt",
     "evalue": "",
     "output_type": "error",
     "traceback": [
      "\u001b[0;31m---------------------------------------------------------------------------\u001b[0m",
      "\u001b[0;31mKeyboardInterrupt\u001b[0m                         Traceback (most recent call last)",
      "Cell \u001b[0;32mIn[32], line 5\u001b[0m\n\u001b[1;32m      1\u001b[0m \u001b[38;5;66;03m# Run PPO\u001b[39;00m\n\u001b[1;32m      2\u001b[0m \u001b[38;5;66;03m# NOTE: This current run will show if the heuristic helps it converge faster, but it is not the final solution since\u001b[39;00m\n\u001b[1;32m      3\u001b[0m \u001b[38;5;66;03m# there's still something wrong with the way we handle cargo edge cases. Test Failed.\u001b[39;00m\n\u001b[1;32m      4\u001b[0m \u001b[38;5;66;03m# NOTE: Test of just PPO with no heuristic. Failed. Needs refactoring or rewards shaping\u001b[39;00m\n\u001b[0;32m----> 5\u001b[0m \u001b[43mPPO\u001b[49m\u001b[43m(\u001b[49m\u001b[43mpi\u001b[49m\u001b[38;5;241;43m=\u001b[39;49m\u001b[43mpi\u001b[49m\u001b[43m,\u001b[49m\u001b[43m \u001b[49m\u001b[43mv\u001b[49m\u001b[38;5;241;43m=\u001b[39;49m\u001b[43mv\u001b[49m\u001b[43m,\u001b[49m\u001b[43m \u001b[49m\u001b[43mmax_cycles\u001b[49m\u001b[38;5;241;43m=\u001b[39;49m\u001b[43mmax_cycles\u001b[49m\u001b[43m,\u001b[49m\u001b[43m \u001b[49m\u001b[43mseed\u001b[49m\u001b[38;5;241;43m=\u001b[39;49m\u001b[43mseed\u001b[49m\u001b[43m,\u001b[49m\u001b[43m \u001b[49m\u001b[43mnum_episodes\u001b[49m\u001b[38;5;241;43m=\u001b[39;49m\u001b[43mnum_episodes\u001b[49m\u001b[43m,\u001b[49m\n\u001b[1;32m      6\u001b[0m \u001b[43m    \u001b[49m\u001b[43mpath\u001b[49m\u001b[38;5;241;43m=\u001b[39;49m\u001b[43mpath\u001b[49m\u001b[43m,\u001b[49m\u001b[43m \u001b[49m\u001b[43mscheduler\u001b[49m\u001b[38;5;241;43m=\u001b[39;49m\u001b[43mscheduler\u001b[49m\u001b[43m,\u001b[49m\u001b[43m \u001b[49m\u001b[43mnum_updates\u001b[49m\u001b[38;5;241;43m=\u001b[39;49m\u001b[43mnum_updates\u001b[49m\u001b[43m,\u001b[49m\u001b[43m \u001b[49m\u001b[43mloss_pi\u001b[49m\u001b[38;5;241;43m=\u001b[39;49m\u001b[43mloss_pi\u001b[49m\u001b[43m,\u001b[49m\n\u001b[1;32m      7\u001b[0m \u001b[43m    \u001b[49m\u001b[43mloss_v\u001b[49m\u001b[38;5;241;43m=\u001b[39;49m\u001b[43mloss_v\u001b[49m\u001b[43m,\u001b[49m\u001b[43m \u001b[49m\u001b[43moptimizer_pi\u001b[49m\u001b[38;5;241;43m=\u001b[39;49m\u001b[43moptimizer_pi\u001b[49m\u001b[43m,\u001b[49m\u001b[43m \u001b[49m\u001b[43moptimizer_v\u001b[49m\u001b[38;5;241;43m=\u001b[39;49m\u001b[43moptimizer_v\u001b[49m\u001b[43m,\u001b[49m\u001b[43m \u001b[49m\u001b[43mbatch_size\u001b[49m\u001b[38;5;241;43m=\u001b[39;49m\u001b[43mbatch_size\u001b[49m\u001b[43m)\u001b[49m\n",
      "Cell \u001b[0;32mIn[29], line 55\u001b[0m, in \u001b[0;36mPPO\u001b[0;34m(pi, v, max_cycles, seed, num_episodes, path, scheduler, loss_pi, loss_v, num_updates, optimizer_pi, optimizer_v, batch_size)\u001b[0m\n\u001b[1;32m     42\u001b[0m actions \u001b[38;5;241m=\u001b[39m post_process(x\u001b[38;5;241m=\u001b[39mx, y\u001b[38;5;241m=\u001b[39my, agent_map\u001b[38;5;241m=\u001b[39magent_map, cargo_map\u001b[38;5;241m=\u001b[39mcargo_map)\n\u001b[1;32m     44\u001b[0m \u001b[38;5;66;03m# Create transition (s, a, r) .. don't need the next state for PPO\u001b[39;00m\n\u001b[1;32m     45\u001b[0m transition \u001b[38;5;241m=\u001b[39m {\n\u001b[1;32m     46\u001b[0m     \u001b[38;5;124m'\u001b[39m\u001b[38;5;124mt\u001b[39m\u001b[38;5;124m'\u001b[39m: t,\n\u001b[1;32m     47\u001b[0m     \u001b[38;5;124m'\u001b[39m\u001b[38;5;124mx\u001b[39m\u001b[38;5;124m'\u001b[39m: x,\n\u001b[1;32m     48\u001b[0m     \u001b[38;5;124m'\u001b[39m\u001b[38;5;124mplane_assignments\u001b[39m\u001b[38;5;124m'\u001b[39m: y[\u001b[38;5;124m'\u001b[39m\u001b[38;5;124mplane_assignments_mtx\u001b[39m\u001b[38;5;124m'\u001b[39m],\n\u001b[1;32m     49\u001b[0m     \u001b[38;5;124m'\u001b[39m\u001b[38;5;124mplane_distribution\u001b[39m\u001b[38;5;124m'\u001b[39m: y[\u001b[38;5;124m'\u001b[39m\u001b[38;5;124mplane_assignments_dist\u001b[39m\u001b[38;5;124m'\u001b[39m],\n\u001b[1;32m     50\u001b[0m     \u001b[38;5;124m'\u001b[39m\u001b[38;5;124mcargo_assignments\u001b[39m\u001b[38;5;124m'\u001b[39m: y[\u001b[38;5;124m'\u001b[39m\u001b[38;5;124mcargo_assignments_mtx\u001b[39m\u001b[38;5;124m'\u001b[39m],\n\u001b[1;32m     51\u001b[0m     \u001b[38;5;124m'\u001b[39m\u001b[38;5;124mcargo_distribution\u001b[39m\u001b[38;5;124m'\u001b[39m: y[\u001b[38;5;124m'\u001b[39m\u001b[38;5;124mcargo_assignments_dist\u001b[39m\u001b[38;5;124m'\u001b[39m],\n\u001b[1;32m     52\u001b[0m     \u001b[38;5;124m'\u001b[39m\u001b[38;5;124mplane_reward_vector\u001b[39m\u001b[38;5;124m'\u001b[39m: plane_reward_vector(actions, obs),\n\u001b[1;32m     53\u001b[0m     \u001b[38;5;124m'\u001b[39m\u001b[38;5;124magent_map\u001b[39m\u001b[38;5;124m'\u001b[39m: agent_map,\n\u001b[1;32m     54\u001b[0m     \u001b[38;5;124m'\u001b[39m\u001b[38;5;124mcargo_map\u001b[39m\u001b[38;5;124m'\u001b[39m: cargo_map,\n\u001b[0;32m---> 55\u001b[0m     \u001b[38;5;124m'\u001b[39m\u001b[38;5;124mvalue_estimation\u001b[39m\u001b[38;5;124m'\u001b[39m: \u001b[43mv\u001b[49m\u001b[38;5;241;43m.\u001b[39;49m\u001b[43mforward\u001b[49m\u001b[43m(\u001b[49m\u001b[43mx\u001b[49m\u001b[43m)\u001b[49m[\u001b[38;5;124m'\u001b[39m\u001b[38;5;124mtotal_reward\u001b[39m\u001b[38;5;124m'\u001b[39m]\u001b[38;5;241m.\u001b[39mdetach(),\n\u001b[1;32m     56\u001b[0m     \u001b[38;5;66;03m#'heuristic_value': heuristic_value(obs, x, t, C_p=avg_edge_cost, C_g=5, C_s=1.3, lambda_=0.99, prev_cargo=prev_cargo),\u001b[39;00m\n\u001b[1;32m     57\u001b[0m }\n\u001b[1;32m     60\u001b[0m \u001b[38;5;66;03m# Step environment\u001b[39;00m\n\u001b[1;32m     61\u001b[0m obs, rews, dones, infos \u001b[38;5;241m=\u001b[39m env\u001b[38;5;241m.\u001b[39mstep(actions\u001b[38;5;241m=\u001b[39mactions)\n",
      "File \u001b[0;32m~/Code/airlift-starter-kit/solution/models/v2/model_v2.py:330\u001b[0m, in \u001b[0;36mValue.forward\u001b[0;34m(self, obs)\u001b[0m\n\u001b[1;32m    314\u001b[0m \u001b[38;5;250m\u001b[39m\u001b[38;5;124;03m\"\"\"\u001b[39;00m\n\u001b[1;32m    315\u001b[0m \u001b[38;5;124;03mestimates the expected value of a state.\u001b[39;00m\n\u001b[1;32m    316\u001b[0m \n\u001b[0;32m   (...)\u001b[0m\n\u001b[1;32m    326\u001b[0m \u001b[38;5;124;03m}\u001b[39;00m\n\u001b[1;32m    327\u001b[0m \u001b[38;5;124;03m\"\"\"\u001b[39;00m\n\u001b[1;32m    329\u001b[0m \u001b[38;5;66;03m# Encoder\u001b[39;00m\n\u001b[0;32m--> 330\u001b[0m x \u001b[38;5;241m=\u001b[39m \u001b[38;5;28;43mself\u001b[39;49m\u001b[38;5;241;43m.\u001b[39;49m\u001b[43mencoder\u001b[49m\u001b[43m(\u001b[49m\u001b[43mobs\u001b[49m\u001b[43m)\u001b[49m\n\u001b[1;32m    331\u001b[0m c, p, n \u001b[38;5;241m=\u001b[39m x[\u001b[38;5;124m'\u001b[39m\u001b[38;5;124mcargo_embeddings\u001b[39m\u001b[38;5;124m'\u001b[39m], x[\u001b[38;5;124m'\u001b[39m\u001b[38;5;124mplane_embeddings\u001b[39m\u001b[38;5;124m'\u001b[39m], x[\u001b[38;5;124m'\u001b[39m\u001b[38;5;124mnode_embeddings\u001b[39m\u001b[38;5;124m'\u001b[39m]\n\u001b[1;32m    333\u001b[0m \u001b[38;5;66;03m# First set of MHA layers\u001b[39;00m\n",
      "File \u001b[0;32m/opt/anaconda3/envs/airlift-solution/lib/python3.9/site-packages/torch/nn/modules/module.py:1532\u001b[0m, in \u001b[0;36mModule._wrapped_call_impl\u001b[0;34m(self, *args, **kwargs)\u001b[0m\n\u001b[1;32m   1530\u001b[0m     \u001b[38;5;28;01mreturn\u001b[39;00m \u001b[38;5;28mself\u001b[39m\u001b[38;5;241m.\u001b[39m_compiled_call_impl(\u001b[38;5;241m*\u001b[39margs, \u001b[38;5;241m*\u001b[39m\u001b[38;5;241m*\u001b[39mkwargs)  \u001b[38;5;66;03m# type: ignore[misc]\u001b[39;00m\n\u001b[1;32m   1531\u001b[0m \u001b[38;5;28;01melse\u001b[39;00m:\n\u001b[0;32m-> 1532\u001b[0m     \u001b[38;5;28;01mreturn\u001b[39;00m \u001b[38;5;28;43mself\u001b[39;49m\u001b[38;5;241;43m.\u001b[39;49m\u001b[43m_call_impl\u001b[49m\u001b[43m(\u001b[49m\u001b[38;5;241;43m*\u001b[39;49m\u001b[43margs\u001b[49m\u001b[43m,\u001b[49m\u001b[43m \u001b[49m\u001b[38;5;241;43m*\u001b[39;49m\u001b[38;5;241;43m*\u001b[39;49m\u001b[43mkwargs\u001b[49m\u001b[43m)\u001b[49m\n",
      "File \u001b[0;32m/opt/anaconda3/envs/airlift-solution/lib/python3.9/site-packages/torch/nn/modules/module.py:1541\u001b[0m, in \u001b[0;36mModule._call_impl\u001b[0;34m(self, *args, **kwargs)\u001b[0m\n\u001b[1;32m   1536\u001b[0m \u001b[38;5;66;03m# If we don't have any hooks, we want to skip the rest of the logic in\u001b[39;00m\n\u001b[1;32m   1537\u001b[0m \u001b[38;5;66;03m# this function, and just call forward.\u001b[39;00m\n\u001b[1;32m   1538\u001b[0m \u001b[38;5;28;01mif\u001b[39;00m \u001b[38;5;129;01mnot\u001b[39;00m (\u001b[38;5;28mself\u001b[39m\u001b[38;5;241m.\u001b[39m_backward_hooks \u001b[38;5;129;01mor\u001b[39;00m \u001b[38;5;28mself\u001b[39m\u001b[38;5;241m.\u001b[39m_backward_pre_hooks \u001b[38;5;129;01mor\u001b[39;00m \u001b[38;5;28mself\u001b[39m\u001b[38;5;241m.\u001b[39m_forward_hooks \u001b[38;5;129;01mor\u001b[39;00m \u001b[38;5;28mself\u001b[39m\u001b[38;5;241m.\u001b[39m_forward_pre_hooks\n\u001b[1;32m   1539\u001b[0m         \u001b[38;5;129;01mor\u001b[39;00m _global_backward_pre_hooks \u001b[38;5;129;01mor\u001b[39;00m _global_backward_hooks\n\u001b[1;32m   1540\u001b[0m         \u001b[38;5;129;01mor\u001b[39;00m _global_forward_hooks \u001b[38;5;129;01mor\u001b[39;00m _global_forward_pre_hooks):\n\u001b[0;32m-> 1541\u001b[0m     \u001b[38;5;28;01mreturn\u001b[39;00m \u001b[43mforward_call\u001b[49m\u001b[43m(\u001b[49m\u001b[38;5;241;43m*\u001b[39;49m\u001b[43margs\u001b[49m\u001b[43m,\u001b[49m\u001b[43m \u001b[49m\u001b[38;5;241;43m*\u001b[39;49m\u001b[38;5;241;43m*\u001b[39;49m\u001b[43mkwargs\u001b[49m\u001b[43m)\u001b[49m\n\u001b[1;32m   1543\u001b[0m \u001b[38;5;28;01mtry\u001b[39;00m:\n\u001b[1;32m   1544\u001b[0m     result \u001b[38;5;241m=\u001b[39m \u001b[38;5;28;01mNone\u001b[39;00m\n",
      "File \u001b[0;32m~/Code/airlift-starter-kit/solution/models/v2/model_v2.py:135\u001b[0m, in \u001b[0;36mEncoder.forward\u001b[0;34m(self, x)\u001b[0m\n\u001b[1;32m    130\u001b[0m cargo_embeddings \u001b[38;5;241m=\u001b[39m \u001b[38;5;28mself\u001b[39m\u001b[38;5;241m.\u001b[39mMHA_cargo(cargo_embeddings, cargo_embeddings, cargo_embeddings)\n\u001b[1;32m    133\u001b[0m \u001b[38;5;66;03m# Mixing Attention layers\u001b[39;00m\n\u001b[1;32m    134\u001b[0m node_embeddings, plane_embeddings, cargo_embeddings \u001b[38;5;241m=\u001b[39m \\\n\u001b[0;32m--> 135\u001b[0m     \u001b[38;5;28;43mself\u001b[39;49m\u001b[38;5;241;43m.\u001b[39;49m\u001b[43mmixing_attention\u001b[49m\u001b[43m(\u001b[49m\u001b[43mnode_embeddings\u001b[49m\u001b[43m,\u001b[49m\u001b[43m \u001b[49m\u001b[43mplane_embeddings\u001b[49m\u001b[43m,\u001b[49m\u001b[43m \u001b[49m\u001b[43mcargo_embeddings\u001b[49m\u001b[43m)\u001b[49m\n\u001b[1;32m    137\u001b[0m \u001b[38;5;28;01mreturn\u001b[39;00m {\n\u001b[1;32m    138\u001b[0m     \u001b[38;5;124m'\u001b[39m\u001b[38;5;124mcargo_embeddings\u001b[39m\u001b[38;5;124m'\u001b[39m: cargo_embeddings,\n\u001b[1;32m    139\u001b[0m     \u001b[38;5;124m'\u001b[39m\u001b[38;5;124mplane_embeddings\u001b[39m\u001b[38;5;124m'\u001b[39m: plane_embeddings,\n\u001b[1;32m    140\u001b[0m     \u001b[38;5;124m'\u001b[39m\u001b[38;5;124mnode_embeddings\u001b[39m\u001b[38;5;124m'\u001b[39m: node_embeddings\n\u001b[1;32m    141\u001b[0m }\n",
      "File \u001b[0;32m/opt/anaconda3/envs/airlift-solution/lib/python3.9/site-packages/torch/nn/modules/module.py:1532\u001b[0m, in \u001b[0;36mModule._wrapped_call_impl\u001b[0;34m(self, *args, **kwargs)\u001b[0m\n\u001b[1;32m   1530\u001b[0m     \u001b[38;5;28;01mreturn\u001b[39;00m \u001b[38;5;28mself\u001b[39m\u001b[38;5;241m.\u001b[39m_compiled_call_impl(\u001b[38;5;241m*\u001b[39margs, \u001b[38;5;241m*\u001b[39m\u001b[38;5;241m*\u001b[39mkwargs)  \u001b[38;5;66;03m# type: ignore[misc]\u001b[39;00m\n\u001b[1;32m   1531\u001b[0m \u001b[38;5;28;01melse\u001b[39;00m:\n\u001b[0;32m-> 1532\u001b[0m     \u001b[38;5;28;01mreturn\u001b[39;00m \u001b[38;5;28;43mself\u001b[39;49m\u001b[38;5;241;43m.\u001b[39;49m\u001b[43m_call_impl\u001b[49m\u001b[43m(\u001b[49m\u001b[38;5;241;43m*\u001b[39;49m\u001b[43margs\u001b[49m\u001b[43m,\u001b[49m\u001b[43m \u001b[49m\u001b[38;5;241;43m*\u001b[39;49m\u001b[38;5;241;43m*\u001b[39;49m\u001b[43mkwargs\u001b[49m\u001b[43m)\u001b[49m\n",
      "File \u001b[0;32m/opt/anaconda3/envs/airlift-solution/lib/python3.9/site-packages/torch/nn/modules/module.py:1541\u001b[0m, in \u001b[0;36mModule._call_impl\u001b[0;34m(self, *args, **kwargs)\u001b[0m\n\u001b[1;32m   1536\u001b[0m \u001b[38;5;66;03m# If we don't have any hooks, we want to skip the rest of the logic in\u001b[39;00m\n\u001b[1;32m   1537\u001b[0m \u001b[38;5;66;03m# this function, and just call forward.\u001b[39;00m\n\u001b[1;32m   1538\u001b[0m \u001b[38;5;28;01mif\u001b[39;00m \u001b[38;5;129;01mnot\u001b[39;00m (\u001b[38;5;28mself\u001b[39m\u001b[38;5;241m.\u001b[39m_backward_hooks \u001b[38;5;129;01mor\u001b[39;00m \u001b[38;5;28mself\u001b[39m\u001b[38;5;241m.\u001b[39m_backward_pre_hooks \u001b[38;5;129;01mor\u001b[39;00m \u001b[38;5;28mself\u001b[39m\u001b[38;5;241m.\u001b[39m_forward_hooks \u001b[38;5;129;01mor\u001b[39;00m \u001b[38;5;28mself\u001b[39m\u001b[38;5;241m.\u001b[39m_forward_pre_hooks\n\u001b[1;32m   1539\u001b[0m         \u001b[38;5;129;01mor\u001b[39;00m _global_backward_pre_hooks \u001b[38;5;129;01mor\u001b[39;00m _global_backward_hooks\n\u001b[1;32m   1540\u001b[0m         \u001b[38;5;129;01mor\u001b[39;00m _global_forward_hooks \u001b[38;5;129;01mor\u001b[39;00m _global_forward_pre_hooks):\n\u001b[0;32m-> 1541\u001b[0m     \u001b[38;5;28;01mreturn\u001b[39;00m \u001b[43mforward_call\u001b[49m\u001b[43m(\u001b[49m\u001b[38;5;241;43m*\u001b[39;49m\u001b[43margs\u001b[49m\u001b[43m,\u001b[49m\u001b[43m \u001b[49m\u001b[38;5;241;43m*\u001b[39;49m\u001b[38;5;241;43m*\u001b[39;49m\u001b[43mkwargs\u001b[49m\u001b[43m)\u001b[49m\n\u001b[1;32m   1543\u001b[0m \u001b[38;5;28;01mtry\u001b[39;00m:\n\u001b[1;32m   1544\u001b[0m     result \u001b[38;5;241m=\u001b[39m \u001b[38;5;28;01mNone\u001b[39;00m\n",
      "File \u001b[0;32m~/Code/airlift-starter-kit/solution/models/v2/model_v2.py:648\u001b[0m, in \u001b[0;36mMixingAttentionBlock.forward\u001b[0;34m(self, x, y, z)\u001b[0m\n\u001b[1;32m    637\u001b[0m \u001b[38;5;250m\u001b[39m\u001b[38;5;124;03m\"\"\"\u001b[39;00m\n\u001b[1;32m    638\u001b[0m \u001b[38;5;124;03mForward pass of the MixingAttentionBlock.\u001b[39;00m\n\u001b[1;32m    639\u001b[0m \n\u001b[0;32m   (...)\u001b[0m\n\u001b[1;32m    644\u001b[0m \u001b[38;5;124;03m    X, Y, Z: tensors attended to by the other two\u001b[39;00m\n\u001b[1;32m    645\u001b[0m \u001b[38;5;124;03m\"\"\"\u001b[39;00m\n\u001b[1;32m    647\u001b[0m \u001b[38;5;28;01mfor\u001b[39;00m layer \u001b[38;5;129;01min\u001b[39;00m \u001b[38;5;28mself\u001b[39m\u001b[38;5;241m.\u001b[39mlayers:\n\u001b[0;32m--> 648\u001b[0m     x, y, z \u001b[38;5;241m=\u001b[39m \u001b[43mlayer\u001b[49m\u001b[43m(\u001b[49m\u001b[43mx\u001b[49m\u001b[43m,\u001b[49m\u001b[43m \u001b[49m\u001b[43my\u001b[49m\u001b[43m,\u001b[49m\u001b[43m \u001b[49m\u001b[43mz\u001b[49m\u001b[43m)\u001b[49m\n\u001b[1;32m    650\u001b[0m \u001b[38;5;28;01mreturn\u001b[39;00m x, y, z\n",
      "File \u001b[0;32m/opt/anaconda3/envs/airlift-solution/lib/python3.9/site-packages/torch/nn/modules/module.py:1532\u001b[0m, in \u001b[0;36mModule._wrapped_call_impl\u001b[0;34m(self, *args, **kwargs)\u001b[0m\n\u001b[1;32m   1530\u001b[0m     \u001b[38;5;28;01mreturn\u001b[39;00m \u001b[38;5;28mself\u001b[39m\u001b[38;5;241m.\u001b[39m_compiled_call_impl(\u001b[38;5;241m*\u001b[39margs, \u001b[38;5;241m*\u001b[39m\u001b[38;5;241m*\u001b[39mkwargs)  \u001b[38;5;66;03m# type: ignore[misc]\u001b[39;00m\n\u001b[1;32m   1531\u001b[0m \u001b[38;5;28;01melse\u001b[39;00m:\n\u001b[0;32m-> 1532\u001b[0m     \u001b[38;5;28;01mreturn\u001b[39;00m \u001b[38;5;28;43mself\u001b[39;49m\u001b[38;5;241;43m.\u001b[39;49m\u001b[43m_call_impl\u001b[49m\u001b[43m(\u001b[49m\u001b[38;5;241;43m*\u001b[39;49m\u001b[43margs\u001b[49m\u001b[43m,\u001b[49m\u001b[43m \u001b[49m\u001b[38;5;241;43m*\u001b[39;49m\u001b[38;5;241;43m*\u001b[39;49m\u001b[43mkwargs\u001b[49m\u001b[43m)\u001b[49m\n",
      "File \u001b[0;32m/opt/anaconda3/envs/airlift-solution/lib/python3.9/site-packages/torch/nn/modules/module.py:1541\u001b[0m, in \u001b[0;36mModule._call_impl\u001b[0;34m(self, *args, **kwargs)\u001b[0m\n\u001b[1;32m   1536\u001b[0m \u001b[38;5;66;03m# If we don't have any hooks, we want to skip the rest of the logic in\u001b[39;00m\n\u001b[1;32m   1537\u001b[0m \u001b[38;5;66;03m# this function, and just call forward.\u001b[39;00m\n\u001b[1;32m   1538\u001b[0m \u001b[38;5;28;01mif\u001b[39;00m \u001b[38;5;129;01mnot\u001b[39;00m (\u001b[38;5;28mself\u001b[39m\u001b[38;5;241m.\u001b[39m_backward_hooks \u001b[38;5;129;01mor\u001b[39;00m \u001b[38;5;28mself\u001b[39m\u001b[38;5;241m.\u001b[39m_backward_pre_hooks \u001b[38;5;129;01mor\u001b[39;00m \u001b[38;5;28mself\u001b[39m\u001b[38;5;241m.\u001b[39m_forward_hooks \u001b[38;5;129;01mor\u001b[39;00m \u001b[38;5;28mself\u001b[39m\u001b[38;5;241m.\u001b[39m_forward_pre_hooks\n\u001b[1;32m   1539\u001b[0m         \u001b[38;5;129;01mor\u001b[39;00m _global_backward_pre_hooks \u001b[38;5;129;01mor\u001b[39;00m _global_backward_hooks\n\u001b[1;32m   1540\u001b[0m         \u001b[38;5;129;01mor\u001b[39;00m _global_forward_hooks \u001b[38;5;129;01mor\u001b[39;00m _global_forward_pre_hooks):\n\u001b[0;32m-> 1541\u001b[0m     \u001b[38;5;28;01mreturn\u001b[39;00m \u001b[43mforward_call\u001b[49m\u001b[43m(\u001b[49m\u001b[38;5;241;43m*\u001b[39;49m\u001b[43margs\u001b[49m\u001b[43m,\u001b[49m\u001b[43m \u001b[49m\u001b[38;5;241;43m*\u001b[39;49m\u001b[38;5;241;43m*\u001b[39;49m\u001b[43mkwargs\u001b[49m\u001b[43m)\u001b[49m\n\u001b[1;32m   1543\u001b[0m \u001b[38;5;28;01mtry\u001b[39;00m:\n\u001b[1;32m   1544\u001b[0m     result \u001b[38;5;241m=\u001b[39m \u001b[38;5;28;01mNone\u001b[39;00m\n",
      "File \u001b[0;32m~/Code/airlift-starter-kit/solution/models/v2/model_v2.py:609\u001b[0m, in \u001b[0;36mMixingAttention.forward\u001b[0;34m(self, x, y, z)\u001b[0m\n\u001b[1;32m    607\u001b[0m Y \u001b[38;5;241m=\u001b[39m torch\u001b[38;5;241m.\u001b[39mcat((\u001b[38;5;28mself\u001b[39m\u001b[38;5;241m.\u001b[39mMHA_YXX(y, x, x), \u001b[38;5;28mself\u001b[39m\u001b[38;5;241m.\u001b[39mMHA_YZZ(y, z, z)), dim\u001b[38;5;241m=\u001b[39m\u001b[38;5;241m1\u001b[39m)\n\u001b[1;32m    608\u001b[0m Y \u001b[38;5;241m=\u001b[39m \u001b[38;5;28mself\u001b[39m\u001b[38;5;241m.\u001b[39mWY(Y)\n\u001b[0;32m--> 609\u001b[0m Y \u001b[38;5;241m=\u001b[39m \u001b[38;5;28;43mself\u001b[39;49m\u001b[38;5;241;43m.\u001b[39;49m\u001b[43mnorm_y\u001b[49m\u001b[43m(\u001b[49m\u001b[38;5;28;43mself\u001b[39;49m\u001b[38;5;241;43m.\u001b[39;49m\u001b[43mconfig\u001b[49m\u001b[43m[\u001b[49m\u001b[38;5;124;43m'\u001b[39;49m\u001b[38;5;124;43mnon_linearity\u001b[39;49m\u001b[38;5;124;43m'\u001b[39;49m\u001b[43m]\u001b[49m\u001b[43m(\u001b[49m\u001b[43mY\u001b[49m\u001b[43m)\u001b[49m\u001b[43m)\u001b[49m\n\u001b[1;32m    611\u001b[0m \u001b[38;5;66;03m# Z = concat(attn(Z, X, X), attn(Z, Y, Y))WZ\u001b[39;00m\n\u001b[1;32m    612\u001b[0m Z \u001b[38;5;241m=\u001b[39m torch\u001b[38;5;241m.\u001b[39mcat((\u001b[38;5;28mself\u001b[39m\u001b[38;5;241m.\u001b[39mMHA_ZXX(z, x, x), \u001b[38;5;28mself\u001b[39m\u001b[38;5;241m.\u001b[39mMHA_ZYY(z, y, y)), dim\u001b[38;5;241m=\u001b[39m\u001b[38;5;241m1\u001b[39m)\n",
      "File \u001b[0;32m/opt/anaconda3/envs/airlift-solution/lib/python3.9/site-packages/torch/nn/modules/module.py:1532\u001b[0m, in \u001b[0;36mModule._wrapped_call_impl\u001b[0;34m(self, *args, **kwargs)\u001b[0m\n\u001b[1;32m   1530\u001b[0m     \u001b[38;5;28;01mreturn\u001b[39;00m \u001b[38;5;28mself\u001b[39m\u001b[38;5;241m.\u001b[39m_compiled_call_impl(\u001b[38;5;241m*\u001b[39margs, \u001b[38;5;241m*\u001b[39m\u001b[38;5;241m*\u001b[39mkwargs)  \u001b[38;5;66;03m# type: ignore[misc]\u001b[39;00m\n\u001b[1;32m   1531\u001b[0m \u001b[38;5;28;01melse\u001b[39;00m:\n\u001b[0;32m-> 1532\u001b[0m     \u001b[38;5;28;01mreturn\u001b[39;00m \u001b[38;5;28;43mself\u001b[39;49m\u001b[38;5;241;43m.\u001b[39;49m\u001b[43m_call_impl\u001b[49m\u001b[43m(\u001b[49m\u001b[38;5;241;43m*\u001b[39;49m\u001b[43margs\u001b[49m\u001b[43m,\u001b[49m\u001b[43m \u001b[49m\u001b[38;5;241;43m*\u001b[39;49m\u001b[38;5;241;43m*\u001b[39;49m\u001b[43mkwargs\u001b[49m\u001b[43m)\u001b[49m\n",
      "File \u001b[0;32m/opt/anaconda3/envs/airlift-solution/lib/python3.9/site-packages/torch/nn/modules/module.py:1541\u001b[0m, in \u001b[0;36mModule._call_impl\u001b[0;34m(self, *args, **kwargs)\u001b[0m\n\u001b[1;32m   1536\u001b[0m \u001b[38;5;66;03m# If we don't have any hooks, we want to skip the rest of the logic in\u001b[39;00m\n\u001b[1;32m   1537\u001b[0m \u001b[38;5;66;03m# this function, and just call forward.\u001b[39;00m\n\u001b[1;32m   1538\u001b[0m \u001b[38;5;28;01mif\u001b[39;00m \u001b[38;5;129;01mnot\u001b[39;00m (\u001b[38;5;28mself\u001b[39m\u001b[38;5;241m.\u001b[39m_backward_hooks \u001b[38;5;129;01mor\u001b[39;00m \u001b[38;5;28mself\u001b[39m\u001b[38;5;241m.\u001b[39m_backward_pre_hooks \u001b[38;5;129;01mor\u001b[39;00m \u001b[38;5;28mself\u001b[39m\u001b[38;5;241m.\u001b[39m_forward_hooks \u001b[38;5;129;01mor\u001b[39;00m \u001b[38;5;28mself\u001b[39m\u001b[38;5;241m.\u001b[39m_forward_pre_hooks\n\u001b[1;32m   1539\u001b[0m         \u001b[38;5;129;01mor\u001b[39;00m _global_backward_pre_hooks \u001b[38;5;129;01mor\u001b[39;00m _global_backward_hooks\n\u001b[1;32m   1540\u001b[0m         \u001b[38;5;129;01mor\u001b[39;00m _global_forward_hooks \u001b[38;5;129;01mor\u001b[39;00m _global_forward_pre_hooks):\n\u001b[0;32m-> 1541\u001b[0m     \u001b[38;5;28;01mreturn\u001b[39;00m \u001b[43mforward_call\u001b[49m\u001b[43m(\u001b[49m\u001b[38;5;241;43m*\u001b[39;49m\u001b[43margs\u001b[49m\u001b[43m,\u001b[49m\u001b[43m \u001b[49m\u001b[38;5;241;43m*\u001b[39;49m\u001b[38;5;241;43m*\u001b[39;49m\u001b[43mkwargs\u001b[49m\u001b[43m)\u001b[49m\n\u001b[1;32m   1543\u001b[0m \u001b[38;5;28;01mtry\u001b[39;00m:\n\u001b[1;32m   1544\u001b[0m     result \u001b[38;5;241m=\u001b[39m \u001b[38;5;28;01mNone\u001b[39;00m\n",
      "File \u001b[0;32m/opt/anaconda3/envs/airlift-solution/lib/python3.9/site-packages/torch/nn/modules/normalization.py:201\u001b[0m, in \u001b[0;36mLayerNorm.forward\u001b[0;34m(self, input)\u001b[0m\n\u001b[1;32m    200\u001b[0m \u001b[38;5;28;01mdef\u001b[39;00m \u001b[38;5;21mforward\u001b[39m(\u001b[38;5;28mself\u001b[39m, \u001b[38;5;28minput\u001b[39m: Tensor) \u001b[38;5;241m-\u001b[39m\u001b[38;5;241m>\u001b[39m Tensor:\n\u001b[0;32m--> 201\u001b[0m     \u001b[38;5;28;01mreturn\u001b[39;00m \u001b[43mF\u001b[49m\u001b[38;5;241;43m.\u001b[39;49m\u001b[43mlayer_norm\u001b[49m\u001b[43m(\u001b[49m\n\u001b[1;32m    202\u001b[0m \u001b[43m        \u001b[49m\u001b[38;5;28;43minput\u001b[39;49m\u001b[43m,\u001b[49m\u001b[43m \u001b[49m\u001b[38;5;28;43mself\u001b[39;49m\u001b[38;5;241;43m.\u001b[39;49m\u001b[43mnormalized_shape\u001b[49m\u001b[43m,\u001b[49m\u001b[43m \u001b[49m\u001b[38;5;28;43mself\u001b[39;49m\u001b[38;5;241;43m.\u001b[39;49m\u001b[43mweight\u001b[49m\u001b[43m,\u001b[49m\u001b[43m \u001b[49m\u001b[38;5;28;43mself\u001b[39;49m\u001b[38;5;241;43m.\u001b[39;49m\u001b[43mbias\u001b[49m\u001b[43m,\u001b[49m\u001b[43m \u001b[49m\u001b[38;5;28;43mself\u001b[39;49m\u001b[38;5;241;43m.\u001b[39;49m\u001b[43meps\u001b[49m\u001b[43m)\u001b[49m\n",
      "File \u001b[0;32m/opt/anaconda3/envs/airlift-solution/lib/python3.9/site-packages/torch/nn/functional.py:2573\u001b[0m, in \u001b[0;36mlayer_norm\u001b[0;34m(input, normalized_shape, weight, bias, eps)\u001b[0m\n\u001b[1;32m   2569\u001b[0m \u001b[38;5;28;01mif\u001b[39;00m has_torch_function_variadic(\u001b[38;5;28minput\u001b[39m, weight, bias):\n\u001b[1;32m   2570\u001b[0m     \u001b[38;5;28;01mreturn\u001b[39;00m handle_torch_function(\n\u001b[1;32m   2571\u001b[0m         layer_norm, (\u001b[38;5;28minput\u001b[39m, weight, bias), \u001b[38;5;28minput\u001b[39m, normalized_shape, weight\u001b[38;5;241m=\u001b[39mweight, bias\u001b[38;5;241m=\u001b[39mbias, eps\u001b[38;5;241m=\u001b[39meps\n\u001b[1;32m   2572\u001b[0m     )\n\u001b[0;32m-> 2573\u001b[0m \u001b[38;5;28;01mreturn\u001b[39;00m \u001b[43mtorch\u001b[49m\u001b[38;5;241;43m.\u001b[39;49m\u001b[43mlayer_norm\u001b[49m\u001b[43m(\u001b[49m\u001b[38;5;28;43minput\u001b[39;49m\u001b[43m,\u001b[49m\u001b[43m \u001b[49m\u001b[43mnormalized_shape\u001b[49m\u001b[43m,\u001b[49m\u001b[43m \u001b[49m\u001b[43mweight\u001b[49m\u001b[43m,\u001b[49m\u001b[43m \u001b[49m\u001b[43mbias\u001b[49m\u001b[43m,\u001b[49m\u001b[43m \u001b[49m\u001b[43meps\u001b[49m\u001b[43m,\u001b[49m\u001b[43m \u001b[49m\u001b[43mtorch\u001b[49m\u001b[38;5;241;43m.\u001b[39;49m\u001b[43mbackends\u001b[49m\u001b[38;5;241;43m.\u001b[39;49m\u001b[43mcudnn\u001b[49m\u001b[38;5;241;43m.\u001b[39;49m\u001b[43menabled\u001b[49m\u001b[43m)\u001b[49m\n",
      "\u001b[0;31mKeyboardInterrupt\u001b[0m: "
     ]
    }
   ],
   "source": [
    "# Run PPO\n",
    "# NOTE: This current run will show if the heuristic helps it converge faster, but it is not the final solution since\n",
    "# there's still something wrong with the way we handle cargo edge cases. Test Failed.\n",
    "# NOTE: Test of just PPO with no heuristic. Failed. Needs refactoring or rewards shaping\n",
    "PPO(pi=pi, v=v, max_cycles=max_cycles, seed=seed, num_episodes=num_episodes,\n",
    "    path=path, scheduler=scheduler, num_updates=num_updates, loss_pi=loss_pi,\n",
    "    loss_v=loss_v, optimizer_pi=optimizer_pi, optimizer_v=optimizer_v, batch_size=batch_size)"
   ]
  }
 ],
 "metadata": {
  "kernelspec": {
   "display_name": "airlift-solution",
   "language": "python",
   "name": "python3"
  },
  "language_info": {
   "codemirror_mode": {
    "name": "ipython",
    "version": 3
   },
   "file_extension": ".py",
   "mimetype": "text/x-python",
   "name": "python",
   "nbconvert_exporter": "python",
   "pygments_lexer": "ipython3",
   "version": "3.9.7"
  }
 },
 "nbformat": 4,
 "nbformat_minor": 2
}
