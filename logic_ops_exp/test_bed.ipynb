{
 "cells": [
  {
   "cell_type": "code",
   "execution_count": 1,
   "metadata": {},
   "outputs": [],
   "source": [
    "from gen_data import gen_data\n",
    "from model import LogicModelMA\n",
    "import torch"
   ]
  },
  {
   "cell_type": "code",
   "execution_count": 8,
   "metadata": {},
   "outputs": [
    {
     "data": {
      "text/plain": [
       "\"\\n'prop_mtx': prop_mtx,\\n'op_mtx': op_mtx,\\n'goal_mtx': goal_mtx,\\n'labels_mtx': labels_mtx\\n\""
      ]
     },
     "execution_count": 8,
     "metadata": {},
     "output_type": "execute_result"
    }
   ],
   "source": [
    "x = gen_data(1000, 16)\n",
    "\"\"\"\n",
    "'prop_mtx': prop_mtx,\n",
    "'op_mtx': op_mtx,\n",
    "'goal_mtx': goal_mtx,\n",
    "'labels_mtx': labels_mtx\n",
    "\"\"\""
   ]
  },
  {
   "cell_type": "code",
   "execution_count": 9,
   "metadata": {},
   "outputs": [],
   "source": [
    "# Convert data to tensors\n",
    "x['prop_mtx'] = torch.tensor(x['prop_mtx'], dtype=torch.float32)\n",
    "x['op_mtx'] = torch.tensor(x['op_mtx'], dtype=torch.float32)\n",
    "x['goal_mtx'] = torch.tensor(x['goal_mtx'], dtype=torch.float32)\n",
    "x['labels_mtx'] = torch.tensor(x['labels_mtx'], dtype=torch.float32)\n",
    "\n",
    "# Get dimensions\n",
    "prop_dim = x['prop_mtx'].shape[1]\n",
    "op_dim = x['op_mtx'].shape[1]\n",
    "goal_dim = x['goal_mtx'].shape[1]\n",
    "\n",
    "# Expand dimension so theres a batch of 1\n",
    "x['prop_mtx'] = x['prop_mtx'].unsqueeze(0)\n",
    "x['op_mtx'] = x['op_mtx'].unsqueeze(0)\n",
    "x['goal_mtx'] = x['goal_mtx'].unsqueeze(0)\n",
    "x['labels_mtx'] = x['labels_mtx'].unsqueeze(0)\n",
    "\n",
    "# Create model\n",
    "model = LogicModelMA(\n",
    "    in_set = {\n",
    "        'prop': prop_dim,\n",
    "        'op': op_dim,\n",
    "        'goal': goal_dim\n",
    "    },\n",
    "    embed_dim=64,\n",
    "    num_FIN_layers=1\n",
    ")"
   ]
  },
  {
   "cell_type": "code",
   "execution_count": 10,
   "metadata": {},
   "outputs": [
    {
     "name": "stdout",
     "output_type": "stream",
     "text": [
      "dict_keys(['prop', 'op', 'goal'])\n",
      "['goal', 'op', 'prop']\n"
     ]
    }
   ],
   "source": [
    "# run the model\n",
    "x_tensors = {\n",
    "    'prop': x['prop_mtx'],\n",
    "    'op': x['op_mtx'],\n",
    "    'goal': x['goal_mtx']\n",
    "}\n",
    "y = model(x_tensors)"
   ]
  },
  {
   "cell_type": "code",
   "execution_count": 11,
   "metadata": {},
   "outputs": [
    {
     "data": {
      "text/plain": [
       "tensor([[[0.2208, 0.6214, 0.1578],\n",
       "         [0.2219, 0.6197, 0.1585],\n",
       "         [0.2208, 0.6214, 0.1578],\n",
       "         ...,\n",
       "         [0.2217, 0.6200, 0.1583],\n",
       "         [0.2211, 0.6207, 0.1582],\n",
       "         [0.2218, 0.6195, 0.1588]]], grad_fn=<SoftmaxBackward0>)"
      ]
     },
     "execution_count": 11,
     "metadata": {},
     "output_type": "execute_result"
    }
   ],
   "source": [
    "y"
   ]
  }
 ],
 "metadata": {
  "kernelspec": {
   "display_name": "airlift-solution",
   "language": "python",
   "name": "python3"
  },
  "language_info": {
   "codemirror_mode": {
    "name": "ipython",
    "version": 3
   },
   "file_extension": ".py",
   "mimetype": "text/x-python",
   "name": "python",
   "nbconvert_exporter": "python",
   "pygments_lexer": "ipython3",
   "version": "3.9.19"
  }
 },
 "nbformat": 4,
 "nbformat_minor": 2
}
